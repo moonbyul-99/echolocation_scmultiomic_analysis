{
 "cells": [
  {
   "cell_type": "code",
   "execution_count": 15,
   "id": "03c8a2cc",
   "metadata": {},
   "outputs": [],
   "source": [
    "import os\n",
    "import numpy as np"
   ]
  },
  {
   "cell_type": "markdown",
   "id": "e4c07d19",
   "metadata": {},
   "source": [
    "# Description \n",
    "\n",
    "This notebook is used to modify some error in the 6_1_atac2fragment.ipynb file."
   ]
  },
  {
   "cell_type": "code",
   "execution_count": 2,
   "id": "89c3e9b5",
   "metadata": {},
   "outputs": [
    {
     "data": {
      "text/plain": [
       "['MHM_atac.h5ad',\n",
       " 'JTQN_atac.h5ad',\n",
       " 'TBQ_atac.h5ad',\n",
       " 'QFCT_atac.h5ad',\n",
       " 'MNG_atac.h5ad',\n",
       " 'TPC_atac.h5ad',\n",
       " 'JTYB_atac.h5ad',\n",
       " 'TQN_atac.h5ad',\n",
       " 'QFBQ_atac.h5ad',\n",
       " 'JTBQ_atac.h5ad',\n",
       " 'THM_atac.h5ad',\n",
       " 'CYBQ_atac.h5ad',\n",
       " 'CYNG_atac.h5ad',\n",
       " 'CYQN_atac.h5ad',\n",
       " 'CYXQ_atac.h5ad',\n",
       " 'QFYB_atac.h5ad',\n",
       " 'CYCT_atac.h5ad',\n",
       " 'MBQ_atac.h5ad',\n",
       " 'JTHM_atac.h5ad',\n",
       " 'MPC_atac.h5ad',\n",
       " 'JTNG_atac.h5ad',\n",
       " 'MCT_atac.h5ad',\n",
       " 'JTCT_atac.h5ad',\n",
       " 'MXQ_atac.h5ad',\n",
       " 'MYB_atac.h5ad',\n",
       " 'TYB_atac.h5ad',\n",
       " 'JTXQ_atac.h5ad',\n",
       " 'CYHM_atac.h5ad',\n",
       " 'QFQN_atac.h5ad',\n",
       " 'QFHM_atac.h5ad',\n",
       " 'QFNG_atac.h5ad',\n",
       " 'JTPC_atac.h5ad',\n",
       " 'MQN_atac.h5ad',\n",
       " 'TNG_atac.h5ad',\n",
       " 'QFXQ_atac.h5ad',\n",
       " 'TXQ_atac.h5ad',\n",
       " 'TCT_atac.h5ad',\n",
       " 'QFPC_atac.h5ad',\n",
       " 'CYPC_atac.h5ad',\n",
       " 'CYYB_atac.h5ad']"
      ]
     },
     "execution_count": 2,
     "metadata": {},
     "output_type": "execute_result"
    }
   ],
   "source": [
    "os.listdir('/home/rsun@ZHANGroup.local/sly_data/sly_07_exfig/global_grn/modify_atac')"
   ]
  },
  {
   "cell_type": "code",
   "execution_count": null,
   "id": "d8fb3134",
   "metadata": {},
   "outputs": [],
   "source": []
  },
  {
   "cell_type": "markdown",
   "id": "2496d23f",
   "metadata": {},
   "source": [
    "## process CYBQ error"
   ]
  },
  {
   "cell_type": "code",
   "execution_count": 19,
   "id": "e990aa5a",
   "metadata": {},
   "outputs": [],
   "source": [
    "import scanpy as sc\n",
    "atac = sc.read_h5ad('/home/rsun@ZHANGroup.local/sly_data/sly_07_exfig/global_grn/modify_atac/MHM_atac.h5ad')"
   ]
  },
  {
   "cell_type": "code",
   "execution_count": 20,
   "id": "3ecfe47a",
   "metadata": {},
   "outputs": [
    {
     "data": {
      "text/plain": [
       "AnnData object with n_obs × n_vars = 8572 × 142746\n",
       "    var: 'gene_ids', 'feature_types', 'genome', 'interval'\n",
       "    uns: 'atac'"
      ]
     },
     "execution_count": 20,
     "metadata": {},
     "output_type": "execute_result"
    }
   ],
   "source": [
    "atac"
   ]
  },
  {
   "cell_type": "code",
   "execution_count": 21,
   "id": "8a95e2b0",
   "metadata": {},
   "outputs": [
    {
     "name": "stdout",
     "output_type": "stream",
     "text": [
      "(8572, 142746) (338818, 9911)\n",
      "4732\n"
     ]
    }
   ],
   "source": [
    "scdata = atac\n",
    "multi_data = sc.read_h5ad('/home/rsun@ZHANGroup.local/cross_embed/data/species_raw.h5ad')\n",
    "\n",
    "print(scdata.shape, multi_data.shape)\n",
    "\n",
    "'''data filter'''\n",
    "mutual_idx = np.intersect1d(multi_data.obs.index.values, scdata.obs.index.values)\n",
    "print(len(mutual_idx))"
   ]
  },
  {
   "cell_type": "code",
   "execution_count": null,
   "id": "3c3235a9",
   "metadata": {},
   "outputs": [
    {
     "name": "stdout",
     "output_type": "stream",
     "text": [
      "正在扫描目录：/home/rsun@ZHANGroup.local/sly_data/sly_07_exfig/global_grn/fragments\n",
      "\n",
      "文件路径                                                                 大小 (字节)\n",
      "------------------------------------------------------------------------------\n",
      "/home/rsun@ZHANGroup.local/sly_data/sly_07_exfig/global_grn/fragments/CYYB_fragments/fragment.tsv   1,531,871,849\n",
      "/home/rsun@ZHANGroup.local/sly_data/sly_07_exfig/global_grn/fragments/MCT_fragments/fragment.tsv   2,166,798,655\n",
      "/home/rsun@ZHANGroup.local/sly_data/sly_07_exfig/global_grn/fragments/CYXQ_fragments/fragment.tsv   2,262,640,195\n",
      "/home/rsun@ZHANGroup.local/sly_data/sly_07_exfig/global_grn/fragments/JTNG_fragments/fragment.tsv   1,788,253,557\n",
      "/home/rsun@ZHANGroup.local/sly_data/sly_07_exfig/global_grn/fragments/CYQN_fragments/fragment.tsv   1,594,362,872\n",
      "/home/rsun@ZHANGroup.local/sly_data/sly_07_exfig/global_grn/fragments/QFYB_fragments/fragment.tsv   2,189,976,164\n",
      "/home/rsun@ZHANGroup.local/sly_data/sly_07_exfig/global_grn/fragments/QFNG_fragments/fragment.tsv   2,059,057,113\n",
      "/home/rsun@ZHANGroup.local/sly_data/sly_07_exfig/global_grn/fragments/QFQN_fragments/fragment.tsv   2,349,538,921\n",
      "/home/rsun@ZHANGroup.local/sly_data/sly_07_exfig/global_grn/fragments/JTYB_fragments/fragment.tsv   1,786,493,198\n",
      "/home/rsun@ZHANGroup.local/sly_data/sly_07_exfig/global_grn/fragments/QFPC_fragments/fragment.tsv   1,432,539,469\n",
      "/home/rsun@ZHANGroup.local/sly_data/sly_07_exfig/global_grn/fragments/TNG_fragments/fragment.tsv   1,387,717,189\n",
      "/home/rsun@ZHANGroup.local/sly_data/sly_07_exfig/global_grn/fragments/MQN_fragments/fragment.tsv   1,582,406,115\n",
      "/home/rsun@ZHANGroup.local/sly_data/sly_07_exfig/global_grn/fragments/CYNG_fragments/fragment.tsv   1,786,454,358\n",
      "/home/rsun@ZHANGroup.local/sly_data/sly_07_exfig/global_grn/fragments/JTPC_fragments/fragment.tsv     383,223,459\n",
      "/home/rsun@ZHANGroup.local/sly_data/sly_07_exfig/global_grn/fragments/THM_fragments/fragment.tsv   2,757,057,331\n",
      "/home/rsun@ZHANGroup.local/sly_data/sly_07_exfig/global_grn/fragments/CYHM_fragments/fragment.tsv   2,480,775,810\n",
      "/home/rsun@ZHANGroup.local/sly_data/sly_07_exfig/global_grn/fragments/MHM_fragments/fragment.tsv               0\n",
      "/home/rsun@ZHANGroup.local/sly_data/sly_07_exfig/global_grn/fragments/JTBQ_fragments/fragment.tsv   1,367,907,759\n",
      "/home/rsun@ZHANGroup.local/sly_data/sly_07_exfig/global_grn/fragments/TPC_fragments/fragment.tsv   1,679,634,018\n",
      "/home/rsun@ZHANGroup.local/sly_data/sly_07_exfig/global_grn/fragments/JTXQ_fragments/fragment.tsv   2,480,395,273\n",
      "/home/rsun@ZHANGroup.local/sly_data/sly_07_exfig/global_grn/fragments/MXQ_fragments/fragment.tsv   2,222,534,187\n",
      "/home/rsun@ZHANGroup.local/sly_data/sly_07_exfig/global_grn/fragments/TYB_fragments/fragment.tsv   1,232,298,044\n",
      "/home/rsun@ZHANGroup.local/sly_data/sly_07_exfig/global_grn/fragments/JTHM_fragments/fragment.tsv   2,737,291,222\n",
      "/home/rsun@ZHANGroup.local/sly_data/sly_07_exfig/global_grn/fragments/QFCT_fragments/fragment.tsv   2,468,197,907\n",
      "/home/rsun@ZHANGroup.local/sly_data/sly_07_exfig/global_grn/fragments/JTCT_fragments/fragment.tsv   1,999,048,067\n",
      "/home/rsun@ZHANGroup.local/sly_data/sly_07_exfig/global_grn/fragments/JTQN_fragments/fragment.tsv   2,165,735,253\n",
      "/home/rsun@ZHANGroup.local/sly_data/sly_07_exfig/global_grn/fragments/TBQ_fragments/fragment.tsv   2,088,274,166\n",
      "/home/rsun@ZHANGroup.local/sly_data/sly_07_exfig/global_grn/fragments/MYB_fragments/fragment.tsv   1,056,837,813\n",
      "/home/rsun@ZHANGroup.local/sly_data/sly_07_exfig/global_grn/fragments/CYPC_fragments/fragment.tsv     740,672,639\n",
      "/home/rsun@ZHANGroup.local/sly_data/sly_07_exfig/global_grn/fragments/QFHM_fragments/fragment.tsv   1,564,982,136\n",
      "/home/rsun@ZHANGroup.local/sly_data/sly_07_exfig/global_grn/fragments/MNG_fragments/fragment.tsv   1,596,474,189\n",
      "/home/rsun@ZHANGroup.local/sly_data/sly_07_exfig/global_grn/fragments/CYBQ_fragments/fragment.tsv               0\n",
      "/home/rsun@ZHANGroup.local/sly_data/sly_07_exfig/global_grn/fragments/MBQ_fragments/fragment.tsv   1,709,641,458\n",
      "/home/rsun@ZHANGroup.local/sly_data/sly_07_exfig/global_grn/fragments/MPC_fragments/fragment.tsv   1,789,471,811\n",
      "/home/rsun@ZHANGroup.local/sly_data/sly_07_exfig/global_grn/fragments/QFBQ_fragments/fragment.tsv   2,269,291,490\n",
      "/home/rsun@ZHANGroup.local/sly_data/sly_07_exfig/global_grn/fragments/CYCT_fragments/fragment.tsv   2,537,401,371\n",
      "/home/rsun@ZHANGroup.local/sly_data/sly_07_exfig/global_grn/fragments/QFXQ_fragments/fragment.tsv   2,394,755,454\n",
      "/home/rsun@ZHANGroup.local/sly_data/sly_07_exfig/global_grn/fragments/TQN_fragments/fragment.tsv   1,453,975,863\n",
      "/home/rsun@ZHANGroup.local/sly_data/sly_07_exfig/global_grn/fragments/TXQ_fragments/fragment.tsv   2,009,543,734\n",
      "/home/rsun@ZHANGroup.local/sly_data/sly_07_exfig/global_grn/fragments/TCT_fragments/fragment.tsv   1,730,549,286\n",
      "------------------------------------------------------------------------------\n",
      "总计文件数: 40\n",
      "总大小: 70,834,079,395 字节 ≈ 67552.64 MB\n"
     ]
    }
   ],
   "source": [
    "import os\n",
    "import sys\n",
    "from pathlib import Path\n",
    "\n",
    "def list_all_file_sizes(directory):\n",
    "    directory = Path(directory)\n",
    "\n",
    "    if not directory.exists():\n",
    "        print(f\"错误：目录 '{directory}' 不存在。\")\n",
    "        return\n",
    "    if not directory.is_dir():\n",
    "        print(f\"错误：'{directory}' 不是一个目录。\")\n",
    "        return\n",
    "\n",
    "    print(f\"正在扫描目录：{directory.resolve()}\\n\")\n",
    "    print(f\"{'文件路径':<60} {'大小 (字节)':>15}\")\n",
    "    print(\"-\" * 78)\n",
    "\n",
    "    total_files = 0\n",
    "    total_size = 0\n",
    "\n",
    "    for file_path in directory.rglob('*'):\n",
    "        if file_path.is_file():\n",
    "            try:\n",
    "                size = file_path.stat().st_size\n",
    "                print(f\"{str(file_path):<60} {size:>15,}\")\n",
    "                total_size += size\n",
    "                total_files += 1\n",
    "            except OSError as e:\n",
    "                print(f\"{str(file_path):<60} {'<无法访问>':>15}\")\n",
    "\n",
    "    print(\"-\" * 78)\n",
    "    print(f\"总计文件数: {total_files}\")\n",
    "    print(f\"总大小: {total_size:,} 字节 ≈ {total_size / (1024*1024):.2f} MB\")\n",
    "\n",
    "# ============= 使用示例 =============\n",
    "if __name__ == \"__main__\":\n",
    "    # 设置目标目录（修改这里，或从命令行传入）\n",
    "    target_dir = \"/home/rsun@ZHANGroup.local/sly_data/sly_07_exfig/global_grn/fragments\"  # 当前目录，可改为：\"/path/to/your/dir\"\n",
    "\n",
    "\n",
    "\n",
    "    list_all_file_sizes(target_dir)"
   ]
  },
  {
   "cell_type": "code",
   "execution_count": null,
   "id": "5a74edde",
   "metadata": {},
   "outputs": [],
   "source": []
  }
 ],
 "metadata": {
  "kernelspec": {
   "display_name": "snapatac",
   "language": "python",
   "name": "python3"
  },
  "language_info": {
   "codemirror_mode": {
    "name": "ipython",
    "version": 3
   },
   "file_extension": ".py",
   "mimetype": "text/x-python",
   "name": "python",
   "nbconvert_exporter": "python",
   "pygments_lexer": "ipython3",
   "version": "3.10.15"
  }
 },
 "nbformat": 4,
 "nbformat_minor": 5
}
