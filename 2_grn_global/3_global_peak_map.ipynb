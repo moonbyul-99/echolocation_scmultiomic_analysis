{
 "cells": [
  {
   "cell_type": "code",
   "execution_count": 1,
   "id": "eace301e",
   "metadata": {},
   "outputs": [],
   "source": [
    "import numpy as np \n",
    "import pandas as pd \n",
    "import scanpy as sc\n",
    "import os \n",
    "import json "
   ]
  },
  {
   "cell_type": "markdown",
   "id": "86a644b7",
   "metadata": {},
   "source": [
    "# Description:\n",
    " \n",
    "This notebook is used to generate a peak map for each sample. For each species, we generate a dict, whick key is the species peak, value is the corresponding mm10 peak"
   ]
  },
  {
   "cell_type": "code",
   "execution_count": 10,
   "id": "7c54815d",
   "metadata": {},
   "outputs": [],
   "source": [
    "def load_bed(path):\n",
    "    data = []\n",
    "    with open(path,'r') as f:\n",
    "        for line in f:\n",
    "            mus_chr, mus_start, mus_end, ori_peak = line.strip().split(\"\\t\")\n",
    "            a,b,c = ori_peak.split(\"_\")\n",
    "            ori_peak = f'{a}:{b}-{c}'\n",
    "            data.append((f'{mus_chr}:{mus_start}-{mus_end}', ori_peak))\n",
    "            #data.append(line.strip().split(\"\\t\"))\n",
    "    return data"
   ]
  },
  {
   "cell_type": "code",
   "execution_count": 16,
   "id": "7b78edb2",
   "metadata": {},
   "outputs": [],
   "source": [
    "save_dir = 'peaks_map'\n",
    "os.makedirs('peaks_map', exist_ok=True)"
   ]
  },
  {
   "cell_type": "markdown",
   "id": "ef077559",
   "metadata": {},
   "source": [
    "## Generate a peak dict for each species, transfer species peak to mm10 peak "
   ]
  },
  {
   "cell_type": "markdown",
   "id": "32da36d3",
   "metadata": {},
   "source": [
    "### CY"
   ]
  },
  {
   "cell_type": "code",
   "execution_count": 18,
   "id": "211affc0",
   "metadata": {},
   "outputs": [
    {
     "name": "stdout",
     "output_type": "stream",
     "text": [
      "8\n",
      "757157\n"
     ]
    }
   ],
   "source": [
    "dir_list = os.listdir('peaks_mus')\n",
    "path_list = []\n",
    "for dir in dir_list:\n",
    "    if dir[:2] == 'CY':\n",
    "        dir_path = os.path.join('peaks_mus', dir)\n",
    "        file_path = os.path.join(dir_path, f'{dir}_output.bed')\n",
    "        path_list.append(file_path)\n",
    "print(len(path_list))\n",
    "\n",
    "map_dic = {}\n",
    "for path in path_list:\n",
    "    data = load_bed(path)\n",
    "    for (a,b) in data:\n",
    "        if b not in map_dic:\n",
    "            map_dic[b] = a\n",
    "print(len(map_dic))\n",
    "\n",
    "\n",
    "with open(os.path.join(save_dir, 'cy_map.json'), 'w') as f:\n",
    "    json.dump(map_dic, f)"
   ]
  },
  {
   "cell_type": "markdown",
   "id": "537b1726",
   "metadata": {},
   "source": [
    "### JT"
   ]
  },
  {
   "cell_type": "code",
   "execution_count": 19,
   "id": "f32f1b91",
   "metadata": {},
   "outputs": [
    {
     "name": "stdout",
     "output_type": "stream",
     "text": [
      "8\n",
      "793488\n"
     ]
    }
   ],
   "source": [
    "dir_list = os.listdir('peaks_mus')\n",
    "path_list = []\n",
    "for dir in dir_list:\n",
    "    if dir[:2] == 'JT':\n",
    "        dir_path = os.path.join('peaks_mus', dir)\n",
    "        file_path = os.path.join(dir_path, f'{dir}_output.bed')\n",
    "        path_list.append(file_path)\n",
    "print(len(path_list))\n",
    "\n",
    "map_dic = {}\n",
    "for path in path_list:\n",
    "    data = load_bed(path)\n",
    "    for (a,b) in data:\n",
    "        if b not in map_dic:\n",
    "            map_dic[b] = a\n",
    "print(len(map_dic))\n",
    "\n",
    "\n",
    "with open(os.path.join(save_dir, 'jt_map.json'), 'w') as f:\n",
    "    json.dump(map_dic, f)"
   ]
  },
  {
   "cell_type": "markdown",
   "id": "440ea8d0",
   "metadata": {},
   "source": [
    "### QF"
   ]
  },
  {
   "cell_type": "code",
   "execution_count": 20,
   "id": "c66e7844",
   "metadata": {},
   "outputs": [
    {
     "name": "stdout",
     "output_type": "stream",
     "text": [
      "8\n",
      "659518\n"
     ]
    }
   ],
   "source": [
    "dir_list = os.listdir('peaks_mus')\n",
    "path_list = []\n",
    "for dir in dir_list:\n",
    "    if dir[:2] == 'QF':\n",
    "        dir_path = os.path.join('peaks_mus', dir)\n",
    "        file_path = os.path.join(dir_path, f'{dir}_output.bed')\n",
    "        path_list.append(file_path)\n",
    "print(len(path_list))\n",
    "\n",
    "map_dic = {}\n",
    "for path in path_list:\n",
    "    data = load_bed(path)\n",
    "    for (a,b) in data:\n",
    "        if b not in map_dic:\n",
    "            map_dic[b] = a\n",
    "print(len(map_dic))\n",
    "\n",
    "\n",
    "with open(os.path.join(save_dir, 'qf_map.json'), 'w') as f:\n",
    "    json.dump(map_dic, f)"
   ]
  },
  {
   "cell_type": "markdown",
   "id": "755af2a9",
   "metadata": {},
   "source": [
    "### ZWS"
   ]
  },
  {
   "cell_type": "code",
   "execution_count": 21,
   "id": "3dcca276",
   "metadata": {},
   "outputs": [
    {
     "name": "stdout",
     "output_type": "stream",
     "text": [
      "8\n",
      "758043\n"
     ]
    }
   ],
   "source": [
    "dir_list = os.listdir('peaks_mus')\n",
    "path_list = []\n",
    "for dir in dir_list:\n",
    "    if dir[0] == 'T':\n",
    "        dir_path = os.path.join('peaks_mus', dir)\n",
    "        file_path = os.path.join(dir_path, f'{dir}_output.bed')\n",
    "        path_list.append(file_path)\n",
    "print(len(path_list))\n",
    "\n",
    "map_dic = {}\n",
    "for path in path_list:\n",
    "    data = load_bed(path)\n",
    "    for (a,b) in data:\n",
    "        if b not in map_dic:\n",
    "            map_dic[b] = a\n",
    "print(len(map_dic))\n",
    "\n",
    "\n",
    "with open(os.path.join(save_dir, 'zws_map.json'), 'w') as f:\n",
    "    json.dump(map_dic, f)"
   ]
  },
  {
   "cell_type": "code",
   "execution_count": null,
   "id": "33f784e0",
   "metadata": {},
   "outputs": [],
   "source": []
  }
 ],
 "metadata": {
  "kernelspec": {
   "display_name": "snapatac",
   "language": "python",
   "name": "python3"
  },
  "language_info": {
   "codemirror_mode": {
    "name": "ipython",
    "version": 3
   },
   "file_extension": ".py",
   "mimetype": "text/x-python",
   "name": "python",
   "nbconvert_exporter": "python",
   "pygments_lexer": "ipython3",
   "version": "3.10.15"
  }
 },
 "nbformat": 4,
 "nbformat_minor": 5
}
