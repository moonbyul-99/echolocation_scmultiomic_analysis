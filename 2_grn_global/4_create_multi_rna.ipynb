{
 "cells": [
  {
   "cell_type": "markdown",
   "id": "7057862d",
   "metadata": {},
   "source": [
    "# Description \n",
    "\n",
    "This notebook is used to generate the rna data required for the scienplus analysis."
   ]
  },
  {
   "cell_type": "code",
   "execution_count": 1,
   "id": "b8405202",
   "metadata": {},
   "outputs": [],
   "source": [
    "import os \n",
    "import numpy as np \n",
    "import pandas as pd \n",
    "import json\n",
    "import scanpy as sc\n",
    "import muon as mu "
   ]
  },
  {
   "cell_type": "code",
   "execution_count": null,
   "id": "ff7d2fcc",
   "metadata": {},
   "outputs": [
    {
     "data": {
      "text/plain": [
       "AnnData object with n_obs × n_vars = 338818 × 3000\n",
       "    obs: 'species', 'tissues', 'samples', 'n_genes', 'n_genes_by_counts', 'total_counts', 'total_counts_mt', 'pct_counts_mt', 'leiden', 'cluster', 'celltype', 'coarse_celltype'\n",
       "    var: 'gene_ids', 'n_cells', 'mt', 'n_cells_by_counts', 'mean_counts', 'pct_dropout_by_counts', 'total_counts', 'highly_variable', 'means', 'dispersions', 'dispersions_norm'\n",
       "    uns: 'celltype_colors', 'cluster_colors', 'coarse_celltype_colors', 'dendrogram_leiden', 'hvg', 'leiden', 'log1p', 'neighbors', 'pca', 'samples_colors', 'species_colors', 'tissues_colors', 'umap'\n",
       "    obsm: 'X_pca', 'X_pca_harmony', 'X_umap', 'harmony_0', 'umap_0'\n",
       "    varm: 'PCs'\n",
       "    obsp: 'connectivities', 'distances'"
      ]
     },
     "execution_count": 3,
     "metadata": {},
     "output_type": "execute_result"
    }
   ],
   "source": [
    "#scdata = sc.read_h5ad('/home/rsun@ZHANGroup.local/sly_data/data/final_anno.h5ad')\n",
    "#scdata"
   ]
  },
  {
   "cell_type": "code",
   "execution_count": 2,
   "id": "90d2b8d4",
   "metadata": {},
   "outputs": [
    {
     "data": {
      "text/plain": [
       "AnnData object with n_obs × n_vars = 338818 × 9911\n",
       "    obs: 'species', 'tissues', 'samples', 'n_genes', 'n_genes_by_counts', 'total_counts', 'total_counts_mt', 'pct_counts_mt', 'leiden', 'cluster', 'celltype', 'coarse_celltype'\n",
       "    var: 'gene_ids', 'feature_types', 'genome', 'interval'"
      ]
     },
     "execution_count": 2,
     "metadata": {},
     "output_type": "execute_result"
    }
   ],
   "source": [
    "scdata = sc.read_h5ad('/home/rsun@ZHANGroup.local/cross_embed/data/species_raw.h5ad')\n",
    "scdata"
   ]
  },
  {
   "cell_type": "code",
   "execution_count": 4,
   "id": "428f6502",
   "metadata": {},
   "outputs": [],
   "source": [
    "new_idx = []\n",
    "for ele in scdata.obs.index:\n",
    "    a,b,c = ele.split('-')\n",
    "    tmp = b + '-' + c + '_' + a \n",
    "    new_idx.append(tmp)\n",
    "scdata.obs.index = new_idx \n",
    "\n",
    "scdata.raw = scdata \n",
    "scdata.write('/home/rsun@ZHANGroup.local/sly_data/sly_07_exfig/global_grn/scenic_brain_out/scdata_rna.h5ad')"
   ]
  },
  {
   "cell_type": "code",
   "execution_count": null,
   "id": "33863f66",
   "metadata": {},
   "outputs": [],
   "source": []
  }
 ],
 "metadata": {
  "kernelspec": {
   "display_name": "snapatac",
   "language": "python",
   "name": "python3"
  },
  "language_info": {
   "codemirror_mode": {
    "name": "ipython",
    "version": 3
   },
   "file_extension": ".py",
   "mimetype": "text/x-python",
   "name": "python",
   "nbconvert_exporter": "python",
   "pygments_lexer": "ipython3",
   "version": "3.10.15"
  }
 },
 "nbformat": 4,
 "nbformat_minor": 5
}
