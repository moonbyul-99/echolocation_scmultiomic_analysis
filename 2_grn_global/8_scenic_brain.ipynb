{
 "cells": [
  {
   "cell_type": "code",
   "execution_count": 1,
   "id": "989f8669",
   "metadata": {},
   "outputs": [
    {
     "name": "stderr",
     "output_type": "stream",
     "text": [
      "/home/rsun@ZHANGroup.local/anaconda3/envs/scenicplus/lib/python3.11/site-packages/pycisTopic/__init__.py:3: UserWarning: pkg_resources is deprecated as an API. See https://setuptools.pypa.io/en/latest/pkg_resources.html. The pkg_resources package is slated for removal as early as 2025-11-30. Refrain from using this package or pin to Setuptools<81.\n",
      "  from pkg_resources import DistributionNotFound, get_distribution\n"
     ]
    }
   ],
   "source": [
    "import pandas as pd \n",
    "import numpy as np \n",
    "import scanpy as sc\n",
    "import pycisTopic\n",
    "pycisTopic.__version__\n",
    "\n",
    "import os\n",
    "out_dir = \"scenic_brain_out\"\n",
    "os.makedirs(out_dir, exist_ok = True)"
   ]
  },
  {
   "cell_type": "markdown",
   "id": "50b018be",
   "metadata": {},
   "source": [
    "# Description \n",
    "\n",
    "this notebook uses pycistopic to generate the cistopic object data required for the scenicplus analysis \n",
    "\n",
    "<font color='red'> \n",
    "Noted that due to the implementation of pycistopic and the dataset size of our sc-multiome data, running this notebook requires a large amount of memory and a very long time.\n",
    "</font>"
   ]
  },
  {
   "cell_type": "markdown",
   "id": "f5fa9866",
   "metadata": {},
   "source": [
    "## get cell anno"
   ]
  },
  {
   "cell_type": "code",
   "execution_count": 3,
   "id": "cab369e1",
   "metadata": {},
   "outputs": [
    {
     "data": {
      "text/plain": [
       "\"\\nscdata = sc.read_h5ad('/home/rsun@ZHANGroup.local/cross_embed/data/species_raw.h5ad')\\nobs_info =scdata.obs.copy()\\nnew_idx = []\\nfor ele in scdata.obs.index:\\n    a,b,c = ele.split('-')\\n    key = b + '-' + c +'_' + a\\n    new_idx.append(key)\\nobs_info.index = new_idx \\nobs_info.to_csv(os.path.join(out_dir,'cell_data.csv'), index = True)\\n\""
      ]
     },
     "execution_count": 3,
     "metadata": {},
     "output_type": "execute_result"
    }
   ],
   "source": [
    "\"\"\"\n",
    "scdata = sc.read_h5ad('/home/rsun@ZHANGroup.local/cross_embed/data/species_raw.h5ad')\n",
    "obs_info =scdata.obs.copy()\n",
    "new_idx = []\n",
    "for ele in scdata.obs.index:\n",
    "    a,b,c = ele.split('-')\n",
    "    key = b + '-' + c +'_' + a\n",
    "    new_idx.append(key)\n",
    "obs_info.index = new_idx \n",
    "obs_info.to_csv(os.path.join(out_dir,'cell_data.csv'), index = True)\n",
    "\"\"\""
   ]
  },
  {
   "cell_type": "code",
   "execution_count": 5,
   "id": "796f670e",
   "metadata": {},
   "outputs": [],
   "source": [
    "cell_data = pd.read_csv(os.path.join(out_dir, 'cell_data.csv'), index_col=0)\n",
    "#cell_data"
   ]
  },
  {
   "cell_type": "markdown",
   "id": "2c3f6377",
   "metadata": {},
   "source": [
    "## get pseudo bulk"
   ]
  },
  {
   "cell_type": "code",
   "execution_count": 6,
   "id": "f172aef1",
   "metadata": {},
   "outputs": [
    {
     "name": "stdout",
     "output_type": "stream",
     "text": [
      "40\n"
     ]
    }
   ],
   "source": [
    "chromsizes = pd.read_table(\n",
    "    \"http://hgdownload.cse.ucsc.edu/goldenPath/mm10/bigZips/mm10.chrom.sizes\",\n",
    "    header = None,\n",
    "    names = [\"Chromosome\", \"End\"]\n",
    ")\n",
    "\n",
    "chromsizes.insert(1, \"Start\", 0)\n",
    "chromsizes.head()\n",
    "\n",
    "fragments_dict = {}\n",
    "root = '/home/rsun@ZHANGroup.local/sly_data/sly_07_exfig/global_grn/fragments'\n",
    "for ele in os.listdir(root):\n",
    "    sub_path = os.path.join(root, ele)\n",
    "    frag_path = os.path.join(sub_path, 'fragment.tsv.gz')\n",
    "    sample,_ = ele.split('_')\n",
    "    fragments_dict[sample] = frag_path\n",
    "print(len(fragments_dict))"
   ]
  },
  {
   "cell_type": "code",
   "execution_count": 11,
   "id": "ddb470a9",
   "metadata": {},
   "outputs": [
    {
     "name": "stdout",
     "output_type": "stream",
     "text": [
      "2025-07-25 17:05:40,931 cisTopic     INFO     Splitting fragments by cell type.\n",
      "2025-07-25 17:11:26,446 cisTopic     INFO     generating bigwig files\n"
     ]
    },
    {
     "name": "stderr",
     "output_type": "stream",
     "text": [
      "/home/rsun@ZHANGroup.local/anaconda3/envs/scenicplus/lib/python3.11/site-packages/pycisTopic/__init__.py:3: UserWarning: pkg_resources is deprecated as an API. See https://setuptools.pypa.io/en/latest/pkg_resources.html. The pkg_resources package is slated for removal as early as 2025-11-30. Refrain from using this package or pin to Setuptools<81.\n",
      "  from pkg_resources import DistributionNotFound, get_distribution\n",
      "/home/rsun@ZHANGroup.local/anaconda3/envs/scenicplus/lib/python3.11/site-packages/pycisTopic/__init__.py:3: UserWarning: pkg_resources is deprecated as an API. See https://setuptools.pypa.io/en/latest/pkg_resources.html. The pkg_resources package is slated for removal as early as 2025-11-30. Refrain from using this package or pin to Setuptools<81.\n",
      "  from pkg_resources import DistributionNotFound, get_distribution\n",
      "/home/rsun@ZHANGroup.local/anaconda3/envs/scenicplus/lib/python3.11/site-packages/pycisTopic/__init__.py:3: UserWarning: pkg_resources is deprecated as an API. See https://setuptools.pypa.io/en/latest/pkg_resources.html. The pkg_resources package is slated for removal as early as 2025-11-30. Refrain from using this package or pin to Setuptools<81.\n",
      "  from pkg_resources import DistributionNotFound, get_distribution\n",
      "/home/rsun@ZHANGroup.local/anaconda3/envs/scenicplus/lib/python3.11/site-packages/pycisTopic/__init__.py:3: UserWarning: pkg_resources is deprecated as an API. See https://setuptools.pypa.io/en/latest/pkg_resources.html. The pkg_resources package is slated for removal as early as 2025-11-30. Refrain from using this package or pin to Setuptools<81.\n",
      "  from pkg_resources import DistributionNotFound, get_distribution\n",
      "/home/rsun@ZHANGroup.local/anaconda3/envs/scenicplus/lib/python3.11/site-packages/pycisTopic/__init__.py:3: UserWarning: pkg_resources is deprecated as an API. See https://setuptools.pypa.io/en/latest/pkg_resources.html. The pkg_resources package is slated for removal as early as 2025-11-30. Refrain from using this package or pin to Setuptools<81.\n",
      "  from pkg_resources import DistributionNotFound, get_distribution\n",
      "/home/rsun@ZHANGroup.local/anaconda3/envs/scenicplus/lib/python3.11/site-packages/pycisTopic/__init__.py:3: UserWarning: pkg_resources is deprecated as an API. See https://setuptools.pypa.io/en/latest/pkg_resources.html. The pkg_resources package is slated for removal as early as 2025-11-30. Refrain from using this package or pin to Setuptools<81.\n",
      "  from pkg_resources import DistributionNotFound, get_distribution\n",
      "/home/rsun@ZHANGroup.local/anaconda3/envs/scenicplus/lib/python3.11/site-packages/pycisTopic/__init__.py:3: UserWarning: pkg_resources is deprecated as an API. See https://setuptools.pypa.io/en/latest/pkg_resources.html. The pkg_resources package is slated for removal as early as 2025-11-30. Refrain from using this package or pin to Setuptools<81.\n",
      "  from pkg_resources import DistributionNotFound, get_distribution\n",
      "/home/rsun@ZHANGroup.local/anaconda3/envs/scenicplus/lib/python3.11/site-packages/pycisTopic/__init__.py:3: UserWarning: pkg_resources is deprecated as an API. See https://setuptools.pypa.io/en/latest/pkg_resources.html. The pkg_resources package is slated for removal as early as 2025-11-30. Refrain from using this package or pin to Setuptools<81.\n",
      "  from pkg_resources import DistributionNotFound, get_distribution\n"
     ]
    }
   ],
   "source": [
    "from pycisTopic.pseudobulk_peak_calling import export_pseudobulk\n",
    "os.makedirs(os.path.join(out_dir, \"consensus_peak_calling\"), exist_ok = True)\n",
    "os.makedirs(os.path.join(out_dir, \"consensus_peak_calling/pseudobulk_bed_files\"), exist_ok = True)\n",
    "os.makedirs(os.path.join(out_dir, \"consensus_peak_calling/pseudobulk_bw_files\"), exist_ok = True)\n",
    "os.makedirs(os.path.join(out_dir, 'temp'), exist_ok = True)\n",
    "\n",
    "bw_paths, bed_paths = export_pseudobulk(\n",
    "    input_data = cell_data,\n",
    "    variable = \"tissues\",\n",
    "    sample_id_col = \"samples\",\n",
    "    chromsizes = chromsizes,\n",
    "    bed_path = os.path.join(out_dir, \"consensus_peak_calling/pseudobulk_bed_files\"),\n",
    "    bigwig_path = os.path.join(out_dir, \"consensus_peak_calling/pseudobulk_bw_files\"),\n",
    "    path_to_fragments = fragments_dict,\n",
    "    n_cpu = 40,\n",
    "    normalize_bigwig = True,\n",
    "    temp_dir = os.path.join(out_dir, 'temp'),\n",
    "    split_pattern = None #'_'\n",
    ")"
   ]
  },
  {
   "cell_type": "code",
   "execution_count": 12,
   "id": "54fe6217",
   "metadata": {},
   "outputs": [],
   "source": [
    "with open(os.path.join(out_dir, \"consensus_peak_calling/bw_paths.tsv\"), \"wt\") as f:\n",
    "    for v in bw_paths:\n",
    "        _ = f.write(f\"{v}\\t{bw_paths[v]}\\n\")\n",
    "\n",
    "with open(os.path.join(out_dir, \"consensus_peak_calling/bed_paths.tsv\"), \"wt\") as f:\n",
    "    for v in bed_paths:\n",
    "        _ = f.write(f\"{v}\\t{bed_paths[v]}\\n\")"
   ]
  },
  {
   "cell_type": "markdown",
   "id": "2a307d2b",
   "metadata": {},
   "source": [
    "## infer consensus peaks"
   ]
  },
  {
   "cell_type": "code",
   "execution_count": 13,
   "id": "cef27f02",
   "metadata": {},
   "outputs": [
    {
     "name": "stderr",
     "output_type": "stream",
     "text": [
      "2025-07-25 17:14:55,056\tINFO worker.py:1724 -- Started a local Ray instance.\n",
      "\u001b[36m(pid=3367357)\u001b[0m /home/rsun@ZHANGroup.local/anaconda3/envs/scenicplus/lib/python3.11/site-packages/pycisTopic/__init__.py:3: UserWarning: pkg_resources is deprecated as an API. See https://setuptools.pypa.io/en/latest/pkg_resources.html. The pkg_resources package is slated for removal as early as 2025-11-30. Refrain from using this package or pin to Setuptools<81.\n",
      "\u001b[36m(pid=3367357)\u001b[0m   from pkg_resources import DistributionNotFound, get_distribution\n"
     ]
    },
    {
     "name": "stdout",
     "output_type": "stream",
     "text": [
      "\u001b[36m(macs_call_peak_ray pid=3367357)\u001b[0m 2025-07-25 17:14:57,167 cisTopic     INFO     Calling peaks for NG with /home/rsun@ZHANGroup.local/anaconda3/envs/pyscenic/bin/macs2 callpeak --treatment scenic_brain_out/consensus_peak_calling/pseudobulk_bed_files/NG.fragments.tsv.gz --name NG  --outdir scenic_brain_out/consensus_peak_calling/MACS --format BEDPE --gsize hs --qvalue 0.05 --nomodel --shift 73 --extsize 146 --keep-dup all --call-summits --nolambda\n",
      "\u001b[36m(macs_call_peak_ray pid=3367346)\u001b[0m 2025-07-25 17:14:57,179 cisTopic     INFO     Calling peaks for CT with /home/rsun@ZHANGroup.local/anaconda3/envs/pyscenic/bin/macs2 callpeak --treatment scenic_brain_out/consensus_peak_calling/pseudobulk_bed_files/CT.fragments.tsv.gz --name CT  --outdir scenic_brain_out/consensus_peak_calling/MACS --format BEDPE --gsize hs --qvalue 0.05 --nomodel --shift 73 --extsize 146 --keep-dup all --call-summits --nolambda\n",
      "\u001b[36m(macs_call_peak_ray pid=3367356)\u001b[0m 2025-07-25 17:14:57,300 cisTopic     INFO     Calling peaks for QN with /home/rsun@ZHANGroup.local/anaconda3/envs/pyscenic/bin/macs2 callpeak --treatment scenic_brain_out/consensus_peak_calling/pseudobulk_bed_files/QN.fragments.tsv.gz --name QN  --outdir scenic_brain_out/consensus_peak_calling/MACS --format BEDPE --gsize hs --qvalue 0.05 --nomodel --shift 73 --extsize 146 --keep-dup all --call-summits --nolambda\n",
      "\u001b[36m(macs_call_peak_ray pid=3367355)\u001b[0m 2025-07-25 17:14:57,317 cisTopic     INFO     Calling peaks for XQ with /home/rsun@ZHANGroup.local/anaconda3/envs/pyscenic/bin/macs2 callpeak --treatment scenic_brain_out/consensus_peak_calling/pseudobulk_bed_files/XQ.fragments.tsv.gz --name XQ  --outdir scenic_brain_out/consensus_peak_calling/MACS --format BEDPE --gsize hs --qvalue 0.05 --nomodel --shift 73 --extsize 146 --keep-dup all --call-summits --nolambda\n",
      "\u001b[36m(macs_call_peak_ray pid=3367354)\u001b[0m 2025-07-25 17:14:57,275 cisTopic     INFO     Calling peaks for YB with /home/rsun@ZHANGroup.local/anaconda3/envs/pyscenic/bin/macs2 callpeak --treatment scenic_brain_out/consensus_peak_calling/pseudobulk_bed_files/YB.fragments.tsv.gz --name YB  --outdir scenic_brain_out/consensus_peak_calling/MACS --format BEDPE --gsize hs --qvalue 0.05 --nomodel --shift 73 --extsize 146 --keep-dup all --call-summits --nolambda\n",
      "\u001b[36m(macs_call_peak_ray pid=3367359)\u001b[0m 2025-07-25 17:14:57,284 cisTopic     INFO     Calling peaks for BQ with /home/rsun@ZHANGroup.local/anaconda3/envs/pyscenic/bin/macs2 callpeak --treatment scenic_brain_out/consensus_peak_calling/pseudobulk_bed_files/BQ.fragments.tsv.gz --name BQ  --outdir scenic_brain_out/consensus_peak_calling/MACS --format BEDPE --gsize hs --qvalue 0.05 --nomodel --shift 73 --extsize 146 --keep-dup all --call-summits --nolambda\n",
      "\u001b[36m(macs_call_peak_ray pid=3367353)\u001b[0m 2025-07-25 17:14:57,446 cisTopic     INFO     Calling peaks for PC with /home/rsun@ZHANGroup.local/anaconda3/envs/pyscenic/bin/macs2 callpeak --treatment scenic_brain_out/consensus_peak_calling/pseudobulk_bed_files/PC.fragments.tsv.gz --name PC  --outdir scenic_brain_out/consensus_peak_calling/MACS --format BEDPE --gsize hs --qvalue 0.05 --nomodel --shift 73 --extsize 146 --keep-dup all --call-summits --nolambda\n",
      "\u001b[36m(macs_call_peak_ray pid=3367358)\u001b[0m 2025-07-25 17:14:57,390 cisTopic     INFO     Calling peaks for HM with /home/rsun@ZHANGroup.local/anaconda3/envs/pyscenic/bin/macs2 callpeak --treatment scenic_brain_out/consensus_peak_calling/pseudobulk_bed_files/HM.fragments.tsv.gz --name HM  --outdir scenic_brain_out/consensus_peak_calling/MACS --format BEDPE --gsize hs --qvalue 0.05 --nomodel --shift 73 --extsize 146 --keep-dup all --call-summits --nolambda\n",
      "\u001b[36m(macs_call_peak_ray pid=3367353)\u001b[0m 2025-07-25 17:21:29,126 cisTopic     INFO     PC done!\n",
      "\u001b[36m(macs_call_peak_ray pid=3367357)\u001b[0m 2025-07-25 17:22:49,757 cisTopic     INFO     NG done!\n",
      "\u001b[36m(macs_call_peak_ray pid=3367359)\u001b[0m 2025-07-25 17:23:21,586 cisTopic     INFO     BQ done!\n",
      "\u001b[36m(macs_call_peak_ray pid=3367354)\u001b[0m 2025-07-25 17:23:23,700 cisTopic     INFO     YB done!\n",
      "\u001b[36m(macs_call_peak_ray pid=3367356)\u001b[0m 2025-07-25 17:23:35,975 cisTopic     INFO     QN done!\n",
      "\u001b[36m(macs_call_peak_ray pid=3367355)\u001b[0m 2025-07-25 17:23:53,707 cisTopic     INFO     XQ done!\n",
      "\u001b[36m(macs_call_peak_ray pid=3367358)\u001b[0m 2025-07-25 17:24:54,542 cisTopic     INFO     HM done!\n",
      "\u001b[36m(macs_call_peak_ray pid=3367346)\u001b[0m 2025-07-25 17:25:20,968 cisTopic     INFO     CT done!\n"
     ]
    },
    {
     "name": "stderr",
     "output_type": "stream",
     "text": [
      "\u001b[36m(pid=3367346)\u001b[0m /home/rsun@ZHANGroup.local/anaconda3/envs/scenicplus/lib/python3.11/site-packages/pycisTopic/__init__.py:3: UserWarning: pkg_resources is deprecated as an API. See https://setuptools.pypa.io/en/latest/pkg_resources.html. The pkg_resources package is slated for removal as early as 2025-11-30. Refrain from using this package or pin to Setuptools<81.\u001b[32m [repeated 7x across cluster] (Ray deduplicates logs by default. Set RAY_DEDUP_LOGS=0 to disable log deduplication, or see https://docs.ray.io/en/master/ray-observability/ray-logging.html#log-deduplication for more options.)\u001b[0m\n",
      "\u001b[36m(pid=3367346)\u001b[0m   from pkg_resources import DistributionNotFound, get_distribution\u001b[32m [repeated 7x across cluster]\u001b[0m\n"
     ]
    }
   ],
   "source": [
    "bw_paths = {}\n",
    "with open(os.path.join(out_dir, \"consensus_peak_calling/bw_paths.tsv\")) as f:\n",
    "    for line in f:\n",
    "        v, p = line.strip().split(\"\\t\")\n",
    "        bw_paths.update({v: p})\n",
    "\n",
    "bed_paths = {}\n",
    "with open(os.path.join(out_dir, \"consensus_peak_calling/bed_paths.tsv\")) as f:\n",
    "    for line in f:\n",
    "        v, p = line.strip().split(\"\\t\")\n",
    "        bed_paths.update({v: p})\n",
    "\n",
    "from pycisTopic.pseudobulk_peak_calling import peak_calling\n",
    "macs_path = \"/home/rsun@ZHANGroup.local/anaconda3/envs/pyscenic/bin/macs2\"\n",
    "\n",
    "os.makedirs(os.path.join(out_dir, \"consensus_peak_calling/MACS\"), exist_ok = True)\n",
    "\n",
    "narrow_peak_dict = peak_calling(\n",
    "    macs_path = macs_path,\n",
    "    bed_paths = bed_paths,\n",
    "    outdir = os.path.join(os.path.join(out_dir, \"consensus_peak_calling/MACS\")),\n",
    "    genome_size = 'hs',\n",
    "    n_cpu = 40,\n",
    "    input_format = 'BEDPE',\n",
    "    shift = 73,\n",
    "    ext_size = 146,\n",
    "    keep_dup = 'all',\n",
    "    q_value = 0.05,\n",
    "    _temp_dir = None\n",
    ")"
   ]
  },
  {
   "cell_type": "code",
   "execution_count": 14,
   "id": "4ad1ac6c",
   "metadata": {},
   "outputs": [
    {
     "name": "stdout",
     "output_type": "stream",
     "text": [
      "2025-07-25 17:25:22,560 cisTopic     INFO     Extending and merging peaks per class\n",
      "2025-07-25 17:25:46,022 cisTopic     INFO     Normalizing peak scores\n",
      "2025-07-25 17:25:46,557 cisTopic     INFO     Merging peaks\n",
      "Warning! Start and End columns now have different dtypes: int64 and int32\n",
      "2025-07-25 17:27:12,788 cisTopic     INFO     Done!\n"
     ]
    },
    {
     "name": "stderr",
     "output_type": "stream",
     "text": [
      "/home/rsun@ZHANGroup.local/anaconda3/envs/scenicplus/lib/python3.11/site-packages/pyranges/out.py:37: FutureWarning: Passing a set as an indexer is deprecated and will raise in a future version. Use a list instead.\n",
      "  return pd.concat([outdf, df.get(noncanonical)], axis=1)\n",
      "/home/rsun@ZHANGroup.local/anaconda3/envs/scenicplus/lib/python3.11/site-packages/pyranges/out.py:37: FutureWarning: Passing a set as an indexer is deprecated and will raise in a future version. Use a list instead.\n",
      "  return pd.concat([outdf, df.get(noncanonical)], axis=1)\n",
      "/home/rsun@ZHANGroup.local/anaconda3/envs/scenicplus/lib/python3.11/site-packages/pyranges/out.py:37: FutureWarning: Passing a set as an indexer is deprecated and will raise in a future version. Use a list instead.\n",
      "  return pd.concat([outdf, df.get(noncanonical)], axis=1)\n",
      "/home/rsun@ZHANGroup.local/anaconda3/envs/scenicplus/lib/python3.11/site-packages/pyranges/out.py:37: FutureWarning: Passing a set as an indexer is deprecated and will raise in a future version. Use a list instead.\n",
      "  return pd.concat([outdf, df.get(noncanonical)], axis=1)\n",
      "/home/rsun@ZHANGroup.local/anaconda3/envs/scenicplus/lib/python3.11/site-packages/pyranges/out.py:37: FutureWarning: Passing a set as an indexer is deprecated and will raise in a future version. Use a list instead.\n",
      "  return pd.concat([outdf, df.get(noncanonical)], axis=1)\n",
      "/home/rsun@ZHANGroup.local/anaconda3/envs/scenicplus/lib/python3.11/site-packages/pyranges/out.py:37: FutureWarning: Passing a set as an indexer is deprecated and will raise in a future version. Use a list instead.\n",
      "  return pd.concat([outdf, df.get(noncanonical)], axis=1)\n",
      "/home/rsun@ZHANGroup.local/anaconda3/envs/scenicplus/lib/python3.11/site-packages/pyranges/out.py:37: FutureWarning: Passing a set as an indexer is deprecated and will raise in a future version. Use a list instead.\n",
      "  return pd.concat([outdf, df.get(noncanonical)], axis=1)\n",
      "/home/rsun@ZHANGroup.local/anaconda3/envs/scenicplus/lib/python3.11/site-packages/pyranges/out.py:37: FutureWarning: Passing a set as an indexer is deprecated and will raise in a future version. Use a list instead.\n",
      "  return pd.concat([outdf, df.get(noncanonical)], axis=1)\n",
      "/home/rsun@ZHANGroup.local/anaconda3/envs/scenicplus/lib/python3.11/site-packages/pyranges/out.py:37: FutureWarning: Passing a set as an indexer is deprecated and will raise in a future version. Use a list instead.\n",
      "  return pd.concat([outdf, df.get(noncanonical)], axis=1)\n",
      "/home/rsun@ZHANGroup.local/anaconda3/envs/scenicplus/lib/python3.11/site-packages/pyranges/out.py:37: FutureWarning: Passing a set as an indexer is deprecated and will raise in a future version. Use a list instead.\n",
      "  return pd.concat([outdf, df.get(noncanonical)], axis=1)\n",
      "/home/rsun@ZHANGroup.local/anaconda3/envs/scenicplus/lib/python3.11/site-packages/pyranges/out.py:37: FutureWarning: Passing a set as an indexer is deprecated and will raise in a future version. Use a list instead.\n",
      "  return pd.concat([outdf, df.get(noncanonical)], axis=1)\n",
      "/home/rsun@ZHANGroup.local/anaconda3/envs/scenicplus/lib/python3.11/site-packages/pyranges/out.py:37: FutureWarning: Passing a set as an indexer is deprecated and will raise in a future version. Use a list instead.\n",
      "  return pd.concat([outdf, df.get(noncanonical)], axis=1)\n",
      "/home/rsun@ZHANGroup.local/anaconda3/envs/scenicplus/lib/python3.11/site-packages/pyranges/out.py:37: FutureWarning: Passing a set as an indexer is deprecated and will raise in a future version. Use a list instead.\n",
      "  return pd.concat([outdf, df.get(noncanonical)], axis=1)\n",
      "/home/rsun@ZHANGroup.local/anaconda3/envs/scenicplus/lib/python3.11/site-packages/pyranges/out.py:37: FutureWarning: Passing a set as an indexer is deprecated and will raise in a future version. Use a list instead.\n",
      "  return pd.concat([outdf, df.get(noncanonical)], axis=1)\n",
      "/home/rsun@ZHANGroup.local/anaconda3/envs/scenicplus/lib/python3.11/site-packages/pyranges/out.py:37: FutureWarning: Passing a set as an indexer is deprecated and will raise in a future version. Use a list instead.\n",
      "  return pd.concat([outdf, df.get(noncanonical)], axis=1)\n",
      "/home/rsun@ZHANGroup.local/anaconda3/envs/scenicplus/lib/python3.11/site-packages/pyranges/out.py:37: FutureWarning: Passing a set as an indexer is deprecated and will raise in a future version. Use a list instead.\n",
      "  return pd.concat([outdf, df.get(noncanonical)], axis=1)\n",
      "/home/rsun@ZHANGroup.local/anaconda3/envs/scenicplus/lib/python3.11/site-packages/pyranges/out.py:37: FutureWarning: Passing a set as an indexer is deprecated and will raise in a future version. Use a list instead.\n",
      "  return pd.concat([outdf, df.get(noncanonical)], axis=1)\n",
      "/home/rsun@ZHANGroup.local/anaconda3/envs/scenicplus/lib/python3.11/site-packages/pyranges/out.py:37: FutureWarning: Passing a set as an indexer is deprecated and will raise in a future version. Use a list instead.\n",
      "  return pd.concat([outdf, df.get(noncanonical)], axis=1)\n",
      "/home/rsun@ZHANGroup.local/anaconda3/envs/scenicplus/lib/python3.11/site-packages/pyranges/out.py:37: FutureWarning: Passing a set as an indexer is deprecated and will raise in a future version. Use a list instead.\n",
      "  return pd.concat([outdf, df.get(noncanonical)], axis=1)\n",
      "/home/rsun@ZHANGroup.local/anaconda3/envs/scenicplus/lib/python3.11/site-packages/pyranges/out.py:37: FutureWarning: Passing a set as an indexer is deprecated and will raise in a future version. Use a list instead.\n",
      "  return pd.concat([outdf, df.get(noncanonical)], axis=1)\n",
      "/home/rsun@ZHANGroup.local/anaconda3/envs/scenicplus/lib/python3.11/site-packages/pyranges/out.py:37: FutureWarning: Passing a set as an indexer is deprecated and will raise in a future version. Use a list instead.\n",
      "  return pd.concat([outdf, df.get(noncanonical)], axis=1)\n",
      "/home/rsun@ZHANGroup.local/anaconda3/envs/scenicplus/lib/python3.11/site-packages/pyranges/out.py:37: FutureWarning: Passing a set as an indexer is deprecated and will raise in a future version. Use a list instead.\n",
      "  return pd.concat([outdf, df.get(noncanonical)], axis=1)\n",
      "/home/rsun@ZHANGroup.local/anaconda3/envs/scenicplus/lib/python3.11/site-packages/pyranges/out.py:37: FutureWarning: Passing a set as an indexer is deprecated and will raise in a future version. Use a list instead.\n",
      "  return pd.concat([outdf, df.get(noncanonical)], axis=1)\n",
      "/home/rsun@ZHANGroup.local/anaconda3/envs/scenicplus/lib/python3.11/site-packages/pyranges/out.py:37: FutureWarning: Passing a set as an indexer is deprecated and will raise in a future version. Use a list instead.\n",
      "  return pd.concat([outdf, df.get(noncanonical)], axis=1)\n",
      "/home/rsun@ZHANGroup.local/anaconda3/envs/scenicplus/lib/python3.11/site-packages/pyranges/out.py:37: FutureWarning: Passing a set as an indexer is deprecated and will raise in a future version. Use a list instead.\n",
      "  return pd.concat([outdf, df.get(noncanonical)], axis=1)\n",
      "/home/rsun@ZHANGroup.local/anaconda3/envs/scenicplus/lib/python3.11/site-packages/pyranges/out.py:37: FutureWarning: Passing a set as an indexer is deprecated and will raise in a future version. Use a list instead.\n",
      "  return pd.concat([outdf, df.get(noncanonical)], axis=1)\n",
      "/home/rsun@ZHANGroup.local/anaconda3/envs/scenicplus/lib/python3.11/site-packages/pyranges/out.py:37: FutureWarning: Passing a set as an indexer is deprecated and will raise in a future version. Use a list instead.\n",
      "  return pd.concat([outdf, df.get(noncanonical)], axis=1)\n",
      "/home/rsun@ZHANGroup.local/anaconda3/envs/scenicplus/lib/python3.11/site-packages/pyranges/out.py:37: FutureWarning: Passing a set as an indexer is deprecated and will raise in a future version. Use a list instead.\n",
      "  return pd.concat([outdf, df.get(noncanonical)], axis=1)\n"
     ]
    }
   ],
   "source": [
    "from pycisTopic.iterative_peak_calling import get_consensus_peaks\n",
    "# Other param\n",
    "peak_half_width=250\n",
    "path_to_blacklist=\"/home/rsun@ZHANGroup.local/projects_list/pycisTopic-main/blacklist/mm10-blacklist.v2.bed\"\n",
    "# Get consensus peaks\n",
    "consensus_peaks = get_consensus_peaks(\n",
    "    narrow_peaks_dict = narrow_peak_dict,\n",
    "    peak_half_width = peak_half_width,\n",
    "    chromsizes = chromsizes,\n",
    "    path_to_blacklist = path_to_blacklist)\n",
    "\n",
    "consensus_peaks.to_bed(\n",
    "    path = os.path.join(out_dir, \"consensus_peak_calling/consensus_regions.bed\"),\n",
    "    keep =True,\n",
    "    compression = 'infer',\n",
    "    chain = False)"
   ]
  },
  {
   "cell_type": "markdown",
   "id": "a7c462c3",
   "metadata": {},
   "source": [
    "## QC"
   ]
  },
  {
   "cell_type": "code",
   "execution_count": 15,
   "id": "3c9bddfc",
   "metadata": {},
   "outputs": [
    {
     "name": "stdout",
     "output_type": "stream",
     "text": [
      "/home/rsun@ZHANGroup.local/anaconda3/envs/scenicplus/lib/python3.11/site-packages/pycisTopic/__init__.py:3: UserWarning: pkg_resources is deprecated as an API. See https://setuptools.pypa.io/en/latest/pkg_resources.html. The pkg_resources package is slated for removal as early as 2025-11-30. Refrain from using this package or pin to Setuptools<81.\n",
      "  from pkg_resources import DistributionNotFound, get_distribution\n",
      "mmurinus_gene_ensembl\tMouse Lemur genes (Mmur_3.0)\n",
      "mmusculus_gene_ensembl\tMouse genes (GRCm39)\n",
      "/home/rsun@ZHANGroup.local/anaconda3/envs/scenicplus/lib/python3.11/site-packages/pycisTopic/__init__.py:3: UserWarning: pkg_resources is deprecated as an API. See https://setuptools.pypa.io/en/latest/pkg_resources.html. The pkg_resources package is slated for removal as early as 2025-11-30. Refrain from using this package or pin to Setuptools<81.\n",
      "  from pkg_resources import DistributionNotFound, get_distribution\n",
      "- Get TSS annotation from Ensembl BioMart with the following settings:\n",
      "  - biomart_name: \"mmusculus_gene_ensembl\"\n",
      "  - biomart_host: \"http://www.ensembl.org\"\n",
      "  - transcript_type: ['protein_coding']\n",
      "  - use_cache: True\n",
      "- Getting chromosome sizes and alias mapping for \"mm10\" from UCSC.\n",
      "- Update chromosome names in TSS annotation to \"ucsc\" chromosome names.\n",
      "- Writing TSS annotation BED file to \"scenic_brain_out/qc/tss.bed\".\n",
      "#     Chromosome  Start  End      Gene  Score  Strand          Transcript_type\n",
      "chrM  2750        2751   mt-Nd1   .     +      protein_coding  \n",
      "chrM  3913        3914   mt-Nd2   .     +      protein_coding  \n",
      "chrM  5327        5328   mt-Co1   .     +      protein_coding  \n",
      "chrM  7012        7013   mt-Co2   .     +      protein_coding  \n",
      "chrM  7765        7766   mt-Atp8  .     +      protein_coding  \n",
      "chrM  7926        7927   mt-Atp6  .     +      protein_coding  \n",
      "chrM  8606        8607   mt-Co3   .     +      protein_coding  \n",
      "chrM  9458        9459   mt-Nd3   .     +      protein_coding  \n",
      "chrM  9876        9877   mt-Nd4l  .     +      protein_coding  \n"
     ]
    }
   ],
   "source": [
    "!pycistopic tss gene_annotation_list | grep Mouse\n",
    "!mkdir -p scenic_brain_out/qc\n",
    "!pycistopic tss get_tss \\\n",
    "    --output scenic_brain_out/qc/tss.bed \\\n",
    "    --name \"mmusculus_gene_ensembl\" \\\n",
    "    --to-chrom-source ucsc \\\n",
    "    --ucsc mm10\n",
    "!head scenic_brain_out/qc/tss.bed | column -t"
   ]
  },
  {
   "cell_type": "code",
   "execution_count": 16,
   "id": "1b7298a4",
   "metadata": {},
   "outputs": [
    {
     "name": "stdout",
     "output_type": "stream",
     "text": [
      "Academic tradition requires you to cite works you base your article on.\n",
      "If you use programs that use GNU Parallel to process data for an article in a\n",
      "scientific publication, please cite:\n",
      "\n",
      "  Tange, O. (2025, April 22). GNU Parallel 20250422 ('Tariffs').\n",
      "  Zenodo. https://doi.org/10.5281/zenodo.15265748\n",
      "\n",
      "This helps funding further development; AND IT WON'T COST YOU A CENT.\n",
      "If you pay 10000 EUR you should feel free to use GNU Parallel without citing.\n",
      "\n",
      "More about funding GNU Parallel and the citation notice:\n",
      "https://www.gnu.org/software/parallel/parallel_design.html#citation-notice\n",
      "\n",
      "To silence this citation notice: run 'parallel --citation' once.\n",
      "\n",
      "Come on: You have run parallel 10 times. Isn't it about time \n",
      "you run 'parallel --citation' once to silence the citation notice?\n",
      "\n",
      "/home/rsun@ZHANGroup.local/anaconda3/envs/scenicplus/lib/python3.11/site-packages/pycisTopic/__init__.py:3: UserWarning: pkg_resources is deprecated as an API. See https://setuptools.pypa.io/en/latest/pkg_resources.html. The pkg_resources package is slated for removal as early as 2025-11-30. Refrain from using this package or pin to Setuptools<81.\n",
      "  from pkg_resources import DistributionNotFound, get_distribution\n",
      "/home/rsun@ZHANGroup.local/anaconda3/envs/scenicplus/lib/python3.11/site-packages/pycisTopic/__init__.py:3: UserWarning: pkg_resources is deprecated as an API. See https://setuptools.pypa.io/en/latest/pkg_resources.html. The pkg_resources package is slated for removal as early as 2025-11-30. Refrain from using this package or pin to Setuptools<81.\n",
      "  from pkg_resources import DistributionNotFound, get_distribution\n",
      "/home/rsun@ZHANGroup.local/anaconda3/envs/scenicplus/lib/python3.11/site-packages/pycisTopic/__init__.py:3: UserWarning: pkg_resources is deprecated as an API. See https://setuptools.pypa.io/en/latest/pkg_resources.html. The pkg_resources package is slated for removal as early as 2025-11-30. Refrain from using this package or pin to Setuptools<81.\n",
      "  from pkg_resources import DistributionNotFound, get_distribution\n",
      "/home/rsun@ZHANGroup.local/anaconda3/envs/scenicplus/lib/python3.11/site-packages/pycisTopic/__init__.py:3: UserWarning: pkg_resources is deprecated as an API. See https://setuptools.pypa.io/en/latest/pkg_resources.html. The pkg_resources package is slated for removal as early as 2025-11-30. Refrain from using this package or pin to Setuptools<81.\n",
      "  from pkg_resources import DistributionNotFound, get_distribution\n",
      "/home/rsun@ZHANGroup.local/anaconda3/envs/scenicplus/lib/python3.11/site-packages/pycisTopic/__init__.py:3: UserWarning: pkg_resources is deprecated as an API. See https://setuptools.pypa.io/en/latest/pkg_resources.html. The pkg_resources package is slated for removal as early as 2025-11-30. Refrain from using this package or pin to Setuptools<81.\n",
      "  from pkg_resources import DistributionNotFound, get_distribution\n",
      "/home/rsun@ZHANGroup.local/anaconda3/envs/scenicplus/lib/python3.11/site-packages/pycisTopic/__init__.py:3: UserWarning: pkg_resources is deprecated as an API. See https://setuptools.pypa.io/en/latest/pkg_resources.html. The pkg_resources package is slated for removal as early as 2025-11-30. Refrain from using this package or pin to Setuptools<81.\n",
      "  from pkg_resources import DistributionNotFound, get_distribution\n",
      "/home/rsun@ZHANGroup.local/anaconda3/envs/scenicplus/lib/python3.11/site-packages/pycisTopic/__init__.py:3: UserWarning: pkg_resources is deprecated as an API. See https://setuptools.pypa.io/en/latest/pkg_resources.html. The pkg_resources package is slated for removal as early as 2025-11-30. Refrain from using this package or pin to Setuptools<81.\n",
      "  from pkg_resources import DistributionNotFound, get_distribution\n",
      "/home/rsun@ZHANGroup.local/anaconda3/envs/scenicplus/lib/python3.11/site-packages/pycisTopic/__init__.py:3: UserWarning: pkg_resources is deprecated as an API. See https://setuptools.pypa.io/en/latest/pkg_resources.html. The pkg_resources package is slated for removal as early as 2025-11-30. Refrain from using this package or pin to Setuptools<81.\n",
      "  from pkg_resources import DistributionNotFound, get_distribution\n",
      "/home/rsun@ZHANGroup.local/anaconda3/envs/scenicplus/lib/python3.11/site-packages/pycisTopic/__init__.py:3: UserWarning: pkg_resources is deprecated as an API. See https://setuptools.pypa.io/en/latest/pkg_resources.html. The pkg_resources package is slated for removal as early as 2025-11-30. Refrain from using this package or pin to Setuptools<81.\n",
      "  from pkg_resources import DistributionNotFound, get_distribution\n",
      "/home/rsun@ZHANGroup.local/anaconda3/envs/scenicplus/lib/python3.11/site-packages/pycisTopic/__init__.py:3: UserWarning: pkg_resources is deprecated as an API. See https://setuptools.pypa.io/en/latest/pkg_resources.html. The pkg_resources package is slated for removal as early as 2025-11-30. Refrain from using this package or pin to Setuptools<81.\n",
      "  from pkg_resources import DistributionNotFound, get_distribution\n",
      "/home/rsun@ZHANGroup.local/anaconda3/envs/scenicplus/lib/python3.11/site-packages/pycisTopic/__init__.py:3: UserWarning: pkg_resources is deprecated as an API. See https://setuptools.pypa.io/en/latest/pkg_resources.html. The pkg_resources package is slated for removal as early as 2025-11-30. Refrain from using this package or pin to Setuptools<81.\n",
      "  from pkg_resources import DistributionNotFound, get_distribution\n",
      "/home/rsun@ZHANGroup.local/anaconda3/envs/scenicplus/lib/python3.11/site-packages/pycisTopic/__init__.py:3: UserWarning: pkg_resources is deprecated as an API. See https://setuptools.pypa.io/en/latest/pkg_resources.html. The pkg_resources package is slated for removal as early as 2025-11-30. Refrain from using this package or pin to Setuptools<81.\n",
      "  from pkg_resources import DistributionNotFound, get_distribution\n",
      "/home/rsun@ZHANGroup.local/anaconda3/envs/scenicplus/lib/python3.11/site-packages/pycisTopic/__init__.py:3: UserWarning: pkg_resources is deprecated as an API. See https://setuptools.pypa.io/en/latest/pkg_resources.html. The pkg_resources package is slated for removal as early as 2025-11-30. Refrain from using this package or pin to Setuptools<81.\n",
      "  from pkg_resources import DistributionNotFound, get_distribution\n",
      "/home/rsun@ZHANGroup.local/anaconda3/envs/scenicplus/lib/python3.11/site-packages/pycisTopic/__init__.py:3: UserWarning: pkg_resources is deprecated as an API. See https://setuptools.pypa.io/en/latest/pkg_resources.html. The pkg_resources package is slated for removal as early as 2025-11-30. Refrain from using this package or pin to Setuptools<81.\n",
      "  from pkg_resources import DistributionNotFound, get_distribution\n",
      "/home/rsun@ZHANGroup.local/anaconda3/envs/scenicplus/lib/python3.11/site-packages/pycisTopic/__init__.py:3: UserWarning: pkg_resources is deprecated as an API. See https://setuptools.pypa.io/en/latest/pkg_resources.html. The pkg_resources package is slated for removal as early as 2025-11-30. Refrain from using this package or pin to Setuptools<81.\n",
      "  from pkg_resources import DistributionNotFound, get_distribution\n",
      "/home/rsun@ZHANGroup.local/anaconda3/envs/scenicplus/lib/python3.11/site-packages/pycisTopic/__init__.py:3: UserWarning: pkg_resources is deprecated as an API. See https://setuptools.pypa.io/en/latest/pkg_resources.html. The pkg_resources package is slated for removal as early as 2025-11-30. Refrain from using this package or pin to Setuptools<81.\n",
      "  from pkg_resources import DistributionNotFound, get_distribution\n",
      "/home/rsun@ZHANGroup.local/anaconda3/envs/scenicplus/lib/python3.11/site-packages/pycisTopic/__init__.py:3: UserWarning: pkg_resources is deprecated as an API. See https://setuptools.pypa.io/en/latest/pkg_resources.html. The pkg_resources package is slated for removal as early as 2025-11-30. Refrain from using this package or pin to Setuptools<81.\n",
      "  from pkg_resources import DistributionNotFound, get_distribution\n",
      "/home/rsun@ZHANGroup.local/anaconda3/envs/scenicplus/lib/python3.11/site-packages/pycisTopic/__init__.py:3: UserWarning: pkg_resources is deprecated as an API. See https://setuptools.pypa.io/en/latest/pkg_resources.html. The pkg_resources package is slated for removal as early as 2025-11-30. Refrain from using this package or pin to Setuptools<81.\n",
      "  from pkg_resources import DistributionNotFound, get_distribution\n",
      "/home/rsun@ZHANGroup.local/anaconda3/envs/scenicplus/lib/python3.11/site-packages/pycisTopic/__init__.py:3: UserWarning: pkg_resources is deprecated as an API. See https://setuptools.pypa.io/en/latest/pkg_resources.html. The pkg_resources package is slated for removal as early as 2025-11-30. Refrain from using this package or pin to Setuptools<81.\n",
      "  from pkg_resources import DistributionNotFound, get_distribution\n",
      "/home/rsun@ZHANGroup.local/anaconda3/envs/scenicplus/lib/python3.11/site-packages/pycisTopic/__init__.py:3: UserWarning: pkg_resources is deprecated as an API. See https://setuptools.pypa.io/en/latest/pkg_resources.html. The pkg_resources package is slated for removal as early as 2025-11-30. Refrain from using this package or pin to Setuptools<81.\n",
      "  from pkg_resources import DistributionNotFound, get_distribution\n",
      "/home/rsun@ZHANGroup.local/anaconda3/envs/scenicplus/lib/python3.11/site-packages/pycisTopic/__init__.py:3: UserWarning: pkg_resources is deprecated as an API. See https://setuptools.pypa.io/en/latest/pkg_resources.html. The pkg_resources package is slated for removal as early as 2025-11-30. Refrain from using this package or pin to Setuptools<81.\n",
      "  from pkg_resources import DistributionNotFound, get_distribution\n",
      "/home/rsun@ZHANGroup.local/anaconda3/envs/scenicplus/lib/python3.11/site-packages/pycisTopic/__init__.py:3: UserWarning: pkg_resources is deprecated as an API. See https://setuptools.pypa.io/en/latest/pkg_resources.html. The pkg_resources package is slated for removal as early as 2025-11-30. Refrain from using this package or pin to Setuptools<81.\n",
      "  from pkg_resources import DistributionNotFound, get_distribution\n",
      "/home/rsun@ZHANGroup.local/anaconda3/envs/scenicplus/lib/python3.11/site-packages/pycisTopic/__init__.py:3: UserWarning: pkg_resources is deprecated as an API. See https://setuptools.pypa.io/en/latest/pkg_resources.html. The pkg_resources package is slated for removal as early as 2025-11-30. Refrain from using this package or pin to Setuptools<81.\n",
      "  from pkg_resources import DistributionNotFound, get_distribution\n",
      "/home/rsun@ZHANGroup.local/anaconda3/envs/scenicplus/lib/python3.11/site-packages/pycisTopic/__init__.py:3: UserWarning: pkg_resources is deprecated as an API. See https://setuptools.pypa.io/en/latest/pkg_resources.html. The pkg_resources package is slated for removal as early as 2025-11-30. Refrain from using this package or pin to Setuptools<81.\n",
      "  from pkg_resources import DistributionNotFound, get_distribution\n",
      "/home/rsun@ZHANGroup.local/anaconda3/envs/scenicplus/lib/python3.11/site-packages/pycisTopic/__init__.py:3: UserWarning: pkg_resources is deprecated as an API. See https://setuptools.pypa.io/en/latest/pkg_resources.html. The pkg_resources package is slated for removal as early as 2025-11-30. Refrain from using this package or pin to Setuptools<81.\n",
      "  from pkg_resources import DistributionNotFound, get_distribution\n",
      "/home/rsun@ZHANGroup.local/anaconda3/envs/scenicplus/lib/python3.11/site-packages/pycisTopic/__init__.py:3: UserWarning: pkg_resources is deprecated as an API. See https://setuptools.pypa.io/en/latest/pkg_resources.html. The pkg_resources package is slated for removal as early as 2025-11-30. Refrain from using this package or pin to Setuptools<81.\n",
      "  from pkg_resources import DistributionNotFound, get_distribution\n",
      "/home/rsun@ZHANGroup.local/anaconda3/envs/scenicplus/lib/python3.11/site-packages/pycisTopic/__init__.py:3: UserWarning: pkg_resources is deprecated as an API. See https://setuptools.pypa.io/en/latest/pkg_resources.html. The pkg_resources package is slated for removal as early as 2025-11-30. Refrain from using this package or pin to Setuptools<81.\n",
      "  from pkg_resources import DistributionNotFound, get_distribution\n",
      "/home/rsun@ZHANGroup.local/anaconda3/envs/scenicplus/lib/python3.11/site-packages/pycisTopic/__init__.py:3: UserWarning: pkg_resources is deprecated as an API. See https://setuptools.pypa.io/en/latest/pkg_resources.html. The pkg_resources package is slated for removal as early as 2025-11-30. Refrain from using this package or pin to Setuptools<81.\n",
      "  from pkg_resources import DistributionNotFound, get_distribution\n",
      "/home/rsun@ZHANGroup.local/anaconda3/envs/scenicplus/lib/python3.11/site-packages/pycisTopic/__init__.py:3: UserWarning: pkg_resources is deprecated as an API. See https://setuptools.pypa.io/en/latest/pkg_resources.html. The pkg_resources package is slated for removal as early as 2025-11-30. Refrain from using this package or pin to Setuptools<81.\n",
      "  from pkg_resources import DistributionNotFound, get_distribution\n",
      "/home/rsun@ZHANGroup.local/anaconda3/envs/scenicplus/lib/python3.11/site-packages/pycisTopic/__init__.py:3: UserWarning: pkg_resources is deprecated as an API. See https://setuptools.pypa.io/en/latest/pkg_resources.html. The pkg_resources package is slated for removal as early as 2025-11-30. Refrain from using this package or pin to Setuptools<81.\n",
      "  from pkg_resources import DistributionNotFound, get_distribution\n",
      "/home/rsun@ZHANGroup.local/anaconda3/envs/scenicplus/lib/python3.11/site-packages/pycisTopic/__init__.py:3: UserWarning: pkg_resources is deprecated as an API. See https://setuptools.pypa.io/en/latest/pkg_resources.html. The pkg_resources package is slated for removal as early as 2025-11-30. Refrain from using this package or pin to Setuptools<81.\n",
      "  from pkg_resources import DistributionNotFound, get_distribution\n",
      "/home/rsun@ZHANGroup.local/anaconda3/envs/scenicplus/lib/python3.11/site-packages/pycisTopic/__init__.py:3: UserWarning: pkg_resources is deprecated as an API. See https://setuptools.pypa.io/en/latest/pkg_resources.html. The pkg_resources package is slated for removal as early as 2025-11-30. Refrain from using this package or pin to Setuptools<81.\n",
      "  from pkg_resources import DistributionNotFound, get_distribution\n",
      "/home/rsun@ZHANGroup.local/anaconda3/envs/scenicplus/lib/python3.11/site-packages/pycisTopic/__init__.py:3: UserWarning: pkg_resources is deprecated as an API. See https://setuptools.pypa.io/en/latest/pkg_resources.html. The pkg_resources package is slated for removal as early as 2025-11-30. Refrain from using this package or pin to Setuptools<81.\n",
      "  from pkg_resources import DistributionNotFound, get_distribution\n",
      "/home/rsun@ZHANGroup.local/anaconda3/envs/scenicplus/lib/python3.11/site-packages/pycisTopic/__init__.py:3: UserWarning: pkg_resources is deprecated as an API. See https://setuptools.pypa.io/en/latest/pkg_resources.html. The pkg_resources package is slated for removal as early as 2025-11-30. Refrain from using this package or pin to Setuptools<81.\n",
      "  from pkg_resources import DistributionNotFound, get_distribution\n",
      "/home/rsun@ZHANGroup.local/anaconda3/envs/scenicplus/lib/python3.11/site-packages/pycisTopic/__init__.py:3: UserWarning: pkg_resources is deprecated as an API. See https://setuptools.pypa.io/en/latest/pkg_resources.html. The pkg_resources package is slated for removal as early as 2025-11-30. Refrain from using this package or pin to Setuptools<81.\n",
      "  from pkg_resources import DistributionNotFound, get_distribution\n",
      "/home/rsun@ZHANGroup.local/anaconda3/envs/scenicplus/lib/python3.11/site-packages/pycisTopic/__init__.py:3: UserWarning: pkg_resources is deprecated as an API. See https://setuptools.pypa.io/en/latest/pkg_resources.html. The pkg_resources package is slated for removal as early as 2025-11-30. Refrain from using this package or pin to Setuptools<81.\n",
      "  from pkg_resources import DistributionNotFound, get_distribution\n",
      "/home/rsun@ZHANGroup.local/anaconda3/envs/scenicplus/lib/python3.11/site-packages/pycisTopic/__init__.py:3: UserWarning: pkg_resources is deprecated as an API. See https://setuptools.pypa.io/en/latest/pkg_resources.html. The pkg_resources package is slated for removal as early as 2025-11-30. Refrain from using this package or pin to Setuptools<81.\n",
      "  from pkg_resources import DistributionNotFound, get_distribution\n",
      "/home/rsun@ZHANGroup.local/anaconda3/envs/scenicplus/lib/python3.11/site-packages/pycisTopic/__init__.py:3: UserWarning: pkg_resources is deprecated as an API. See https://setuptools.pypa.io/en/latest/pkg_resources.html. The pkg_resources package is slated for removal as early as 2025-11-30. Refrain from using this package or pin to Setuptools<81.\n",
      "  from pkg_resources import DistributionNotFound, get_distribution\n",
      "/home/rsun@ZHANGroup.local/anaconda3/envs/scenicplus/lib/python3.11/site-packages/pycisTopic/__init__.py:3: UserWarning: pkg_resources is deprecated as an API. See https://setuptools.pypa.io/en/latest/pkg_resources.html. The pkg_resources package is slated for removal as early as 2025-11-30. Refrain from using this package or pin to Setuptools<81.\n",
      "  from pkg_resources import DistributionNotFound, get_distribution\n",
      "/home/rsun@ZHANGroup.local/anaconda3/envs/scenicplus/lib/python3.11/site-packages/pycisTopic/__init__.py:3: UserWarning: pkg_resources is deprecated as an API. See https://setuptools.pypa.io/en/latest/pkg_resources.html. The pkg_resources package is slated for removal as early as 2025-11-30. Refrain from using this package or pin to Setuptools<81.\n",
      "  from pkg_resources import DistributionNotFound, get_distribution\n"
     ]
    }
   ],
   "source": [
    "## calculate qc metrics parallel \n",
    "\n",
    "regions_bed_filename = os.path.join(out_dir, \"consensus_peak_calling/consensus_regions.bed\")\n",
    "tss_bed_filename = os.path.join(out_dir, \"qc\", \"tss.bed\")\n",
    "\n",
    "pycistopic_qc_commands_filename = \"pycistopic_qc_commands.txt\"\n",
    "\n",
    "# Create text file with all pycistopic qc command lines.\n",
    "with open(pycistopic_qc_commands_filename, \"w\") as fh:\n",
    "    for sample, fragment_filename in fragments_dict.items():\n",
    "        print(\n",
    "            \"pycistopic qc\",\n",
    "            f\"--fragments {fragment_filename}\",\n",
    "            f\"--regions {regions_bed_filename}\",\n",
    "            f\"--tss {tss_bed_filename}\",\n",
    "            f\"--output {os.path.join(out_dir, 'qc')}/{sample}\",\n",
    "            sep=\" \",\n",
    "            file=fh,\n",
    "        )\n",
    "\n",
    "!cat pycistopic_qc_commands.txt | parallel -j 40 {}"
   ]
  },
  {
   "cell_type": "markdown",
   "id": "3c47e2d1",
   "metadata": {},
   "source": [
    "### qcplot"
   ]
  },
  {
   "cell_type": "code",
   "execution_count": 17,
   "id": "40a82012",
   "metadata": {},
   "outputs": [],
   "source": [
    "from pycisTopic.plotting.qc_plot import plot_sample_stats, plot_barcode_stats\n",
    "import matplotlib.pyplot as plt\n",
    "\n",
    "#for sample_id in fragments_dict:\n",
    "#    fig = plot_sample_stats(\n",
    "#        sample_id = sample_id,\n",
    "#        pycistopic_qc_output_dir = \"scenic_brain_out/qc\"\n",
    "#    )\n",
    "## 绘图 ## 全部清除，控制.ipynb大小"
   ]
  },
  {
   "cell_type": "code",
   "execution_count": 18,
   "id": "4283b925",
   "metadata": {},
   "outputs": [
    {
     "name": "stdout",
     "output_type": "stream",
     "text": [
      "CYYB:\n",
      "\tUsing user-defined threshold for unique fragments: 500\n",
      "\tUsing user-defined threshold for TSS enrichment: 0.5\n",
      "MCT:\n",
      "\tUsing user-defined threshold for unique fragments: 500\n",
      "\tUsing user-defined threshold for TSS enrichment: 0.5\n",
      "CYXQ:\n",
      "\tUsing user-defined threshold for unique fragments: 500\n",
      "\tUsing user-defined threshold for TSS enrichment: 0.5\n",
      "JTNG:\n",
      "\tUsing user-defined threshold for unique fragments: 500\n",
      "\tUsing user-defined threshold for TSS enrichment: 0.5\n",
      "CYQN:\n",
      "\tUsing user-defined threshold for unique fragments: 500\n",
      "\tUsing user-defined threshold for TSS enrichment: 0.5\n",
      "QFYB:\n",
      "\tUsing user-defined threshold for unique fragments: 500\n",
      "\tUsing user-defined threshold for TSS enrichment: 0.5\n",
      "QFNG:\n",
      "\tUsing user-defined threshold for unique fragments: 500\n",
      "\tUsing user-defined threshold for TSS enrichment: 0.5\n",
      "QFQN:\n",
      "\tUsing user-defined threshold for unique fragments: 500\n",
      "\tUsing user-defined threshold for TSS enrichment: 0.5\n",
      "JTYB:\n",
      "\tUsing user-defined threshold for unique fragments: 500\n",
      "\tUsing user-defined threshold for TSS enrichment: 0.5\n",
      "QFPC:\n",
      "\tUsing user-defined threshold for unique fragments: 500\n",
      "\tUsing user-defined threshold for TSS enrichment: 0.5\n",
      "TNG:\n",
      "\tUsing user-defined threshold for unique fragments: 500\n",
      "\tUsing user-defined threshold for TSS enrichment: 0.5\n",
      "MQN:\n",
      "\tUsing user-defined threshold for unique fragments: 500\n",
      "\tUsing user-defined threshold for TSS enrichment: 0.5\n",
      "CYNG:\n",
      "\tUsing user-defined threshold for unique fragments: 500\n",
      "\tUsing user-defined threshold for TSS enrichment: 0.5\n",
      "JTPC:\n",
      "\tUsing user-defined threshold for unique fragments: 500\n",
      "\tUsing user-defined threshold for TSS enrichment: 0.5\n",
      "THM:\n",
      "\tUsing user-defined threshold for unique fragments: 500\n",
      "\tUsing user-defined threshold for TSS enrichment: 0.5\n",
      "CYHM:\n",
      "\tUsing user-defined threshold for unique fragments: 500\n",
      "\tUsing user-defined threshold for TSS enrichment: 0.5\n",
      "MHM:\n",
      "\tUsing user-defined threshold for unique fragments: 500\n",
      "\tUsing user-defined threshold for TSS enrichment: 0.5\n",
      "JTBQ:\n",
      "\tUsing user-defined threshold for unique fragments: 500\n",
      "\tUsing user-defined threshold for TSS enrichment: 0.5\n",
      "TPC:\n",
      "\tUsing user-defined threshold for unique fragments: 500\n",
      "\tUsing user-defined threshold for TSS enrichment: 0.5\n",
      "JTXQ:\n",
      "\tUsing user-defined threshold for unique fragments: 500\n",
      "\tUsing user-defined threshold for TSS enrichment: 0.5\n",
      "MXQ:\n",
      "\tUsing user-defined threshold for unique fragments: 500\n",
      "\tUsing user-defined threshold for TSS enrichment: 0.5\n",
      "TYB:\n",
      "\tUsing user-defined threshold for unique fragments: 500\n",
      "\tUsing user-defined threshold for TSS enrichment: 0.5\n",
      "JTHM:\n",
      "\tUsing user-defined threshold for unique fragments: 500\n",
      "\tUsing user-defined threshold for TSS enrichment: 0.5\n",
      "QFCT:\n",
      "\tUsing user-defined threshold for unique fragments: 500\n",
      "\tUsing user-defined threshold for TSS enrichment: 0.5\n",
      "JTCT:\n",
      "\tUsing user-defined threshold for unique fragments: 500\n",
      "\tUsing user-defined threshold for TSS enrichment: 0.5\n",
      "JTQN:\n",
      "\tUsing user-defined threshold for unique fragments: 500\n",
      "\tUsing user-defined threshold for TSS enrichment: 0.5\n",
      "TBQ:\n",
      "\tUsing user-defined threshold for unique fragments: 500\n",
      "\tUsing user-defined threshold for TSS enrichment: 0.5\n",
      "MYB:\n",
      "\tUsing user-defined threshold for unique fragments: 500\n",
      "\tUsing user-defined threshold for TSS enrichment: 0.5\n",
      "CYPC:\n",
      "\tUsing user-defined threshold for unique fragments: 500\n",
      "\tUsing user-defined threshold for TSS enrichment: 0.5\n",
      "QFHM:\n",
      "\tUsing user-defined threshold for unique fragments: 500\n",
      "\tUsing user-defined threshold for TSS enrichment: 0.5\n",
      "MNG:\n",
      "\tUsing user-defined threshold for unique fragments: 500\n",
      "\tUsing user-defined threshold for TSS enrichment: 0.5\n",
      "CYBQ:\n",
      "\tUsing user-defined threshold for unique fragments: 500\n",
      "\tUsing user-defined threshold for TSS enrichment: 0.5\n",
      "MBQ:\n",
      "\tUsing user-defined threshold for unique fragments: 500\n",
      "\tUsing user-defined threshold for TSS enrichment: 0.5\n",
      "MPC:\n",
      "\tUsing user-defined threshold for unique fragments: 500\n",
      "\tUsing user-defined threshold for TSS enrichment: 0.5\n",
      "QFBQ:\n",
      "\tUsing user-defined threshold for unique fragments: 500\n",
      "\tUsing user-defined threshold for TSS enrichment: 0.5\n",
      "CYCT:\n",
      "\tUsing user-defined threshold for unique fragments: 500\n",
      "\tUsing user-defined threshold for TSS enrichment: 0.5\n",
      "QFXQ:\n",
      "\tUsing user-defined threshold for unique fragments: 500\n",
      "\tUsing user-defined threshold for TSS enrichment: 0.5\n",
      "TQN:\n",
      "\tUsing user-defined threshold for unique fragments: 500\n",
      "\tUsing user-defined threshold for TSS enrichment: 0.5\n",
      "TXQ:\n",
      "\tUsing user-defined threshold for unique fragments: 500\n",
      "\tUsing user-defined threshold for TSS enrichment: 0.5\n",
      "TCT:\n",
      "\tUsing user-defined threshold for unique fragments: 500\n",
      "\tUsing user-defined threshold for TSS enrichment: 0.5\n"
     ]
    },
    {
     "data": {
      "text/plain": [
       "\"\\nfor sample_id in fragments_dict:\\n    fig = plot_barcode_stats(\\n        sample_id = sample_id,\\n        pycistopic_qc_output_dir = os.path.join(out_dir,'qc'),\\n        bc_passing_filters = sample_id_to_barcodes_passing_filters[sample_id],\\n        detailed_title = False,\\n        **sample_id_to_thresholds[sample_id]\\n    )\\n\""
      ]
     },
     "execution_count": 18,
     "metadata": {},
     "output_type": "execute_result"
    }
   ],
   "source": [
    "from pycisTopic.qc import get_barcodes_passing_qc_for_sample\n",
    "sample_id_to_barcodes_passing_filters = {}\n",
    "sample_id_to_thresholds = {}\n",
    "\n",
    "for sample_id in fragments_dict:\n",
    "    (\n",
    "        sample_id_to_barcodes_passing_filters[sample_id],\n",
    "        sample_id_to_thresholds[sample_id]\n",
    "    ) = get_barcodes_passing_qc_for_sample(\n",
    "            sample_id = sample_id,\n",
    "            pycistopic_qc_output_dir = os.path.join(out_dir,'qc'),\n",
    "            unique_fragments_threshold = 500, # use automatic thresholding\n",
    "            tss_enrichment_threshold = 0.5, # use automatic thresholding\n",
    "            frip_threshold = 0,\n",
    "            use_automatic_thresholds = True,\n",
    "    )\n",
    "\"\"\"\n",
    "for sample_id in fragments_dict:\n",
    "    fig = plot_barcode_stats(\n",
    "        sample_id = sample_id,\n",
    "        pycistopic_qc_output_dir = os.path.join(out_dir,'qc'),\n",
    "        bc_passing_filters = sample_id_to_barcodes_passing_filters[sample_id],\n",
    "        detailed_title = False,\n",
    "        **sample_id_to_thresholds[sample_id]\n",
    "    )\n",
    "\"\"\"\n",
    "## TSS 分数很低"
   ]
  },
  {
   "cell_type": "markdown",
   "id": "eded36f7",
   "metadata": {},
   "source": [
    "## create cistopic object"
   ]
  },
  {
   "cell_type": "code",
   "execution_count": 19,
   "id": "f7523b2d",
   "metadata": {},
   "outputs": [
    {
     "name": "stdout",
     "output_type": "stream",
     "text": [
      "2025-07-25 17:30:02,617 cisTopic     INFO     Reading data for CYYB\n"
     ]
    },
    {
     "name": "stdout",
     "output_type": "stream",
     "text": [
      "2025-07-25 17:30:29,456 cisTopic     INFO     metrics provided!\n",
      "2025-07-25 17:30:31,048 cisTopic     INFO     Counting fragments in regions\n"
     ]
    },
    {
     "name": "stderr",
     "output_type": "stream",
     "text": [
      "2025-07-25 17:30:36,625\tINFO worker.py:1724 -- Started a local Ray instance.\n",
      "\u001b[36m(pid=3404799)\u001b[0m /home/rsun@ZHANGroup.local/anaconda3/envs/scenicplus/lib/python3.11/site-packages/pyranges/__init__.py:18: UserWarning: pkg_resources is deprecated as an API. See https://setuptools.pypa.io/en/latest/pkg_resources.html. The pkg_resources package is slated for removal as early as 2025-11-30. Refrain from using this package or pin to Setuptools<81.\n",
      "\u001b[36m(pid=3404799)\u001b[0m   import pkg_resources\n",
      "\u001b[36m(pid=3404794)\u001b[0m /home/rsun@ZHANGroup.local/anaconda3/envs/scenicplus/lib/python3.11/site-packages/pyranges/__init__.py:18: UserWarning: pkg_resources is deprecated as an API. See https://setuptools.pypa.io/en/latest/pkg_resources.html. The pkg_resources package is slated for removal as early as 2025-11-30. Refrain from using this package or pin to Setuptools<81.\u001b[32m [repeated 9x across cluster]\u001b[0m\n",
      "\u001b[36m(pid=3404794)\u001b[0m   import pkg_resources\u001b[32m [repeated 9x across cluster]\u001b[0m\n"
     ]
    },
    {
     "name": "stdout",
     "output_type": "stream",
     "text": [
      "2025-07-25 17:30:46,716 cisTopic     INFO     Creating fragment matrix\n",
      "2025-07-25 17:31:08,497 cisTopic     INFO     Converting fragment matrix to sparse matrix\n",
      "2025-07-25 17:31:11,072 cisTopic     INFO     Removing blacklisted regions\n",
      "2025-07-25 17:31:11,430 cisTopic     INFO     Creating CistopicObject\n",
      "2025-07-25 17:31:12,210 cisTopic     INFO     Done!\n",
      "2025-07-25 17:31:12,283 cisTopic     INFO     Reading data for MCT\n",
      "2025-07-25 17:31:46,421 cisTopic     INFO     metrics provided!\n",
      "2025-07-25 17:31:48,480 cisTopic     INFO     Counting fragments in regions\n"
     ]
    },
    {
     "name": "stderr",
     "output_type": "stream",
     "text": [
      "2025-07-25 17:31:55,261\tINFO worker.py:1724 -- Started a local Ray instance.\n",
      "\u001b[36m(pid=3407704)\u001b[0m /home/rsun@ZHANGroup.local/anaconda3/envs/scenicplus/lib/python3.11/site-packages/pyranges/__init__.py:18: UserWarning: pkg_resources is deprecated as an API. See https://setuptools.pypa.io/en/latest/pkg_resources.html. The pkg_resources package is slated for removal as early as 2025-11-30. Refrain from using this package or pin to Setuptools<81.\n",
      "\u001b[36m(pid=3407704)\u001b[0m   import pkg_resources\n",
      "\u001b[36m(pid=3407707)\u001b[0m /home/rsun@ZHANGroup.local/anaconda3/envs/scenicplus/lib/python3.11/site-packages/pyranges/__init__.py:18: UserWarning: pkg_resources is deprecated as an API. See https://setuptools.pypa.io/en/latest/pkg_resources.html. The pkg_resources package is slated for removal as early as 2025-11-30. Refrain from using this package or pin to Setuptools<81.\u001b[32m [repeated 9x across cluster]\u001b[0m\n",
      "\u001b[36m(pid=3407707)\u001b[0m   import pkg_resources\u001b[32m [repeated 9x across cluster]\u001b[0m\n"
     ]
    },
    {
     "name": "stdout",
     "output_type": "stream",
     "text": [
      "2025-07-25 17:32:10,675 cisTopic     INFO     Creating fragment matrix\n",
      "2025-07-25 17:32:50,892 cisTopic     INFO     Converting fragment matrix to sparse matrix\n",
      "2025-07-25 17:32:58,514 cisTopic     INFO     Removing blacklisted regions\n",
      "2025-07-25 17:32:59,021 cisTopic     INFO     Creating CistopicObject\n",
      "2025-07-25 17:33:00,160 cisTopic     INFO     Done!\n",
      "2025-07-25 17:33:00,260 cisTopic     INFO     Reading data for CYXQ\n",
      "2025-07-25 17:33:49,751 cisTopic     INFO     metrics provided!\n",
      "2025-07-25 17:33:52,229 cisTopic     INFO     Counting fragments in regions\n"
     ]
    },
    {
     "name": "stderr",
     "output_type": "stream",
     "text": [
      "2025-07-25 17:33:59,774\tINFO worker.py:1724 -- Started a local Ray instance.\n",
      "\u001b[36m(pid=3410802)\u001b[0m /home/rsun@ZHANGroup.local/anaconda3/envs/scenicplus/lib/python3.11/site-packages/pyranges/__init__.py:18: UserWarning: pkg_resources is deprecated as an API. See https://setuptools.pypa.io/en/latest/pkg_resources.html. The pkg_resources package is slated for removal as early as 2025-11-30. Refrain from using this package or pin to Setuptools<81.\n",
      "\u001b[36m(pid=3410802)\u001b[0m   import pkg_resources\n",
      "\u001b[36m(pid=3410795)\u001b[0m /home/rsun@ZHANGroup.local/anaconda3/envs/scenicplus/lib/python3.11/site-packages/pyranges/__init__.py:18: UserWarning: pkg_resources is deprecated as an API. See https://setuptools.pypa.io/en/latest/pkg_resources.html. The pkg_resources package is slated for removal as early as 2025-11-30. Refrain from using this package or pin to Setuptools<81.\u001b[32m [repeated 9x across cluster]\u001b[0m\n",
      "\u001b[36m(pid=3410795)\u001b[0m   import pkg_resources\u001b[32m [repeated 9x across cluster]\u001b[0m\n"
     ]
    },
    {
     "name": "stdout",
     "output_type": "stream",
     "text": [
      "2025-07-25 17:34:17,572 cisTopic     INFO     Creating fragment matrix\n",
      "2025-07-25 17:34:56,503 cisTopic     INFO     Converting fragment matrix to sparse matrix\n",
      "2025-07-25 17:35:01,982 cisTopic     INFO     Removing blacklisted regions\n",
      "2025-07-25 17:35:02,396 cisTopic     INFO     Creating CistopicObject\n",
      "2025-07-25 17:35:03,518 cisTopic     INFO     Done!\n",
      "2025-07-25 17:35:03,605 cisTopic     INFO     Reading data for JTNG\n",
      "2025-07-25 17:35:36,724 cisTopic     INFO     metrics provided!\n",
      "2025-07-25 17:35:38,341 cisTopic     INFO     Counting fragments in regions\n"
     ]
    },
    {
     "name": "stderr",
     "output_type": "stream",
     "text": [
      "2025-07-25 17:35:46,133\tINFO worker.py:1724 -- Started a local Ray instance.\n",
      "\u001b[36m(pid=3413874)\u001b[0m /home/rsun@ZHANGroup.local/anaconda3/envs/scenicplus/lib/python3.11/site-packages/pyranges/__init__.py:18: UserWarning: pkg_resources is deprecated as an API. See https://setuptools.pypa.io/en/latest/pkg_resources.html. The pkg_resources package is slated for removal as early as 2025-11-30. Refrain from using this package or pin to Setuptools<81.\n",
      "\u001b[36m(pid=3413874)\u001b[0m   import pkg_resources\n",
      "\u001b[36m(pid=3413873)\u001b[0m /home/rsun@ZHANGroup.local/anaconda3/envs/scenicplus/lib/python3.11/site-packages/pyranges/__init__.py:18: UserWarning: pkg_resources is deprecated as an API. See https://setuptools.pypa.io/en/latest/pkg_resources.html. The pkg_resources package is slated for removal as early as 2025-11-30. Refrain from using this package or pin to Setuptools<81.\u001b[32m [repeated 9x across cluster]\u001b[0m\n",
      "\u001b[36m(pid=3413873)\u001b[0m   import pkg_resources\u001b[32m [repeated 9x across cluster]\u001b[0m\n"
     ]
    },
    {
     "name": "stdout",
     "output_type": "stream",
     "text": [
      "2025-07-25 17:36:00,567 cisTopic     INFO     Creating fragment matrix\n",
      "2025-07-25 17:36:36,168 cisTopic     INFO     Converting fragment matrix to sparse matrix\n",
      "2025-07-25 17:36:39,890 cisTopic     INFO     Removing blacklisted regions\n",
      "2025-07-25 17:36:40,223 cisTopic     INFO     Creating CistopicObject\n",
      "2025-07-25 17:36:41,030 cisTopic     INFO     Done!\n",
      "2025-07-25 17:36:41,093 cisTopic     INFO     Reading data for CYQN\n",
      "2025-07-25 17:37:05,298 cisTopic     INFO     metrics provided!\n",
      "2025-07-25 17:37:06,380 cisTopic     INFO     Counting fragments in regions\n"
     ]
    },
    {
     "name": "stderr",
     "output_type": "stream",
     "text": [
      "2025-07-25 17:37:12,499\tINFO worker.py:1724 -- Started a local Ray instance.\n",
      "\u001b[36m(pid=3416883)\u001b[0m /home/rsun@ZHANGroup.local/anaconda3/envs/scenicplus/lib/python3.11/site-packages/pyranges/__init__.py:18: UserWarning: pkg_resources is deprecated as an API. See https://setuptools.pypa.io/en/latest/pkg_resources.html. The pkg_resources package is slated for removal as early as 2025-11-30. Refrain from using this package or pin to Setuptools<81.\n",
      "\u001b[36m(pid=3416883)\u001b[0m   import pkg_resources\n",
      "\u001b[36m(pid=3416878)\u001b[0m /home/rsun@ZHANGroup.local/anaconda3/envs/scenicplus/lib/python3.11/site-packages/pyranges/__init__.py:18: UserWarning: pkg_resources is deprecated as an API. See https://setuptools.pypa.io/en/latest/pkg_resources.html. The pkg_resources package is slated for removal as early as 2025-11-30. Refrain from using this package or pin to Setuptools<81.\u001b[32m [repeated 9x across cluster]\u001b[0m\n",
      "\u001b[36m(pid=3416878)\u001b[0m   import pkg_resources\u001b[32m [repeated 9x across cluster]\u001b[0m\n"
     ]
    },
    {
     "name": "stdout",
     "output_type": "stream",
     "text": [
      "2025-07-25 17:37:24,298 cisTopic     INFO     Creating fragment matrix\n",
      "2025-07-25 17:37:53,947 cisTopic     INFO     Converting fragment matrix to sparse matrix\n",
      "2025-07-25 17:37:58,794 cisTopic     INFO     Removing blacklisted regions\n",
      "2025-07-25 17:37:59,179 cisTopic     INFO     Creating CistopicObject\n",
      "2025-07-25 17:38:00,030 cisTopic     INFO     Done!\n",
      "2025-07-25 17:38:00,119 cisTopic     INFO     Reading data for QFYB\n",
      "2025-07-25 17:38:41,826 cisTopic     INFO     metrics provided!\n",
      "2025-07-25 17:38:44,000 cisTopic     INFO     Counting fragments in regions\n"
     ]
    },
    {
     "name": "stderr",
     "output_type": "stream",
     "text": [
      "2025-07-25 17:38:52,565\tINFO worker.py:1724 -- Started a local Ray instance.\n",
      "\u001b[36m(pid=3419918)\u001b[0m /home/rsun@ZHANGroup.local/anaconda3/envs/scenicplus/lib/python3.11/site-packages/pyranges/__init__.py:18: UserWarning: pkg_resources is deprecated as an API. See https://setuptools.pypa.io/en/latest/pkg_resources.html. The pkg_resources package is slated for removal as early as 2025-11-30. Refrain from using this package or pin to Setuptools<81.\n",
      "\u001b[36m(pid=3419918)\u001b[0m   import pkg_resources\n",
      "\u001b[36m(pid=3419912)\u001b[0m /home/rsun@ZHANGroup.local/anaconda3/envs/scenicplus/lib/python3.11/site-packages/pyranges/__init__.py:18: UserWarning: pkg_resources is deprecated as an API. See https://setuptools.pypa.io/en/latest/pkg_resources.html. The pkg_resources package is slated for removal as early as 2025-11-30. Refrain from using this package or pin to Setuptools<81.\u001b[32m [repeated 9x across cluster]\u001b[0m\n",
      "\u001b[36m(pid=3419912)\u001b[0m   import pkg_resources\u001b[32m [repeated 9x across cluster]\u001b[0m\n"
     ]
    },
    {
     "name": "stdout",
     "output_type": "stream",
     "text": [
      "2025-07-25 17:39:07,951 cisTopic     INFO     Creating fragment matrix\n",
      "2025-07-25 17:39:45,110 cisTopic     INFO     Converting fragment matrix to sparse matrix\n",
      "2025-07-25 17:39:49,952 cisTopic     INFO     Removing blacklisted regions\n",
      "2025-07-25 17:39:50,281 cisTopic     INFO     Creating CistopicObject\n",
      "2025-07-25 17:39:51,378 cisTopic     INFO     Done!\n",
      "2025-07-25 17:39:51,469 cisTopic     INFO     Reading data for QFNG\n",
      "2025-07-25 17:40:30,595 cisTopic     INFO     metrics provided!\n",
      "2025-07-25 17:40:32,576 cisTopic     INFO     Counting fragments in regions\n"
     ]
    },
    {
     "name": "stderr",
     "output_type": "stream",
     "text": [
      "2025-07-25 17:40:41,832\tINFO worker.py:1724 -- Started a local Ray instance.\n",
      "\u001b[36m(pid=3422984)\u001b[0m /home/rsun@ZHANGroup.local/anaconda3/envs/scenicplus/lib/python3.11/site-packages/pyranges/__init__.py:18: UserWarning: pkg_resources is deprecated as an API. See https://setuptools.pypa.io/en/latest/pkg_resources.html. The pkg_resources package is slated for removal as early as 2025-11-30. Refrain from using this package or pin to Setuptools<81.\n",
      "\u001b[36m(pid=3422984)\u001b[0m   import pkg_resources\n",
      "\u001b[36m(pid=3422985)\u001b[0m /home/rsun@ZHANGroup.local/anaconda3/envs/scenicplus/lib/python3.11/site-packages/pyranges/__init__.py:18: UserWarning: pkg_resources is deprecated as an API. See https://setuptools.pypa.io/en/latest/pkg_resources.html. The pkg_resources package is slated for removal as early as 2025-11-30. Refrain from using this package or pin to Setuptools<81.\u001b[32m [repeated 9x across cluster]\u001b[0m\n",
      "\u001b[36m(pid=3422985)\u001b[0m   import pkg_resources\u001b[32m [repeated 9x across cluster]\u001b[0m\n"
     ]
    },
    {
     "name": "stdout",
     "output_type": "stream",
     "text": [
      "2025-07-25 17:40:56,814 cisTopic     INFO     Creating fragment matrix\n",
      "2025-07-25 17:41:33,674 cisTopic     INFO     Converting fragment matrix to sparse matrix\n",
      "2025-07-25 17:41:38,472 cisTopic     INFO     Removing blacklisted regions\n",
      "2025-07-25 17:41:38,830 cisTopic     INFO     Creating CistopicObject\n",
      "2025-07-25 17:41:39,864 cisTopic     INFO     Done!\n",
      "2025-07-25 17:41:39,953 cisTopic     INFO     Reading data for QFQN\n",
      "2025-07-25 17:42:17,027 cisTopic     INFO     metrics provided!\n",
      "2025-07-25 17:42:19,227 cisTopic     INFO     Counting fragments in regions\n"
     ]
    },
    {
     "name": "stderr",
     "output_type": "stream",
     "text": [
      "2025-07-25 17:42:27,659\tINFO worker.py:1724 -- Started a local Ray instance.\n",
      "\u001b[36m(pid=3426015)\u001b[0m /home/rsun@ZHANGroup.local/anaconda3/envs/scenicplus/lib/python3.11/site-packages/pyranges/__init__.py:18: UserWarning: pkg_resources is deprecated as an API. See https://setuptools.pypa.io/en/latest/pkg_resources.html. The pkg_resources package is slated for removal as early as 2025-11-30. Refrain from using this package or pin to Setuptools<81.\n",
      "\u001b[36m(pid=3426015)\u001b[0m   import pkg_resources\n",
      "\u001b[36m(pid=3426011)\u001b[0m /home/rsun@ZHANGroup.local/anaconda3/envs/scenicplus/lib/python3.11/site-packages/pyranges/__init__.py:18: UserWarning: pkg_resources is deprecated as an API. See https://setuptools.pypa.io/en/latest/pkg_resources.html. The pkg_resources package is slated for removal as early as 2025-11-30. Refrain from using this package or pin to Setuptools<81.\u001b[32m [repeated 9x across cluster]\u001b[0m\n",
      "\u001b[36m(pid=3426011)\u001b[0m   import pkg_resources\u001b[32m [repeated 9x across cluster]\u001b[0m\n"
     ]
    },
    {
     "name": "stdout",
     "output_type": "stream",
     "text": [
      "2025-07-25 17:42:43,624 cisTopic     INFO     Creating fragment matrix\n",
      "2025-07-25 17:43:24,643 cisTopic     INFO     Converting fragment matrix to sparse matrix\n",
      "2025-07-25 17:43:30,386 cisTopic     INFO     Removing blacklisted regions\n",
      "2025-07-25 17:43:30,804 cisTopic     INFO     Creating CistopicObject\n",
      "2025-07-25 17:43:31,987 cisTopic     INFO     Done!\n",
      "2025-07-25 17:43:32,070 cisTopic     INFO     Reading data for JTYB\n",
      "2025-07-25 17:44:04,680 cisTopic     INFO     metrics provided!\n",
      "2025-07-25 17:44:06,289 cisTopic     INFO     Counting fragments in regions\n"
     ]
    },
    {
     "name": "stderr",
     "output_type": "stream",
     "text": [
      "2025-07-25 17:44:16,167\tINFO worker.py:1724 -- Started a local Ray instance.\n",
      "\u001b[36m(pid=3429065)\u001b[0m /home/rsun@ZHANGroup.local/anaconda3/envs/scenicplus/lib/python3.11/site-packages/pyranges/__init__.py:18: UserWarning: pkg_resources is deprecated as an API. See https://setuptools.pypa.io/en/latest/pkg_resources.html. The pkg_resources package is slated for removal as early as 2025-11-30. Refrain from using this package or pin to Setuptools<81.\n",
      "\u001b[36m(pid=3429065)\u001b[0m   import pkg_resources\n",
      "\u001b[36m(pid=3429060)\u001b[0m /home/rsun@ZHANGroup.local/anaconda3/envs/scenicplus/lib/python3.11/site-packages/pyranges/__init__.py:18: UserWarning: pkg_resources is deprecated as an API. See https://setuptools.pypa.io/en/latest/pkg_resources.html. The pkg_resources package is slated for removal as early as 2025-11-30. Refrain from using this package or pin to Setuptools<81.\u001b[32m [repeated 9x across cluster]\u001b[0m\n",
      "\u001b[36m(pid=3429060)\u001b[0m   import pkg_resources\u001b[32m [repeated 9x across cluster]\u001b[0m\n"
     ]
    },
    {
     "name": "stdout",
     "output_type": "stream",
     "text": [
      "2025-07-25 17:44:29,008 cisTopic     INFO     Creating fragment matrix\n",
      "2025-07-25 17:45:00,841 cisTopic     INFO     Converting fragment matrix to sparse matrix\n",
      "2025-07-25 17:45:04,795 cisTopic     INFO     Removing blacklisted regions\n",
      "2025-07-25 17:45:05,154 cisTopic     INFO     Creating CistopicObject\n",
      "2025-07-25 17:45:06,051 cisTopic     INFO     Done!\n",
      "2025-07-25 17:45:06,128 cisTopic     INFO     Reading data for QFPC\n",
      "2025-07-25 17:45:32,781 cisTopic     INFO     metrics provided!\n",
      "2025-07-25 17:45:34,046 cisTopic     INFO     Counting fragments in regions\n"
     ]
    },
    {
     "name": "stderr",
     "output_type": "stream",
     "text": [
      "2025-07-25 17:45:44,170\tINFO worker.py:1724 -- Started a local Ray instance.\n",
      "\u001b[36m(pid=3432091)\u001b[0m /home/rsun@ZHANGroup.local/anaconda3/envs/scenicplus/lib/python3.11/site-packages/pyranges/__init__.py:18: UserWarning: pkg_resources is deprecated as an API. See https://setuptools.pypa.io/en/latest/pkg_resources.html. The pkg_resources package is slated for removal as early as 2025-11-30. Refrain from using this package or pin to Setuptools<81.\n",
      "\u001b[36m(pid=3432091)\u001b[0m   import pkg_resources\n",
      "\u001b[36m(pid=3432083)\u001b[0m /home/rsun@ZHANGroup.local/anaconda3/envs/scenicplus/lib/python3.11/site-packages/pyranges/__init__.py:18: UserWarning: pkg_resources is deprecated as an API. See https://setuptools.pypa.io/en/latest/pkg_resources.html. The pkg_resources package is slated for removal as early as 2025-11-30. Refrain from using this package or pin to Setuptools<81.\u001b[32m [repeated 9x across cluster]\u001b[0m\n",
      "\u001b[36m(pid=3432083)\u001b[0m   import pkg_resources\u001b[32m [repeated 9x across cluster]\u001b[0m\n"
     ]
    },
    {
     "name": "stdout",
     "output_type": "stream",
     "text": [
      "2025-07-25 17:45:54,670 cisTopic     INFO     Creating fragment matrix\n",
      "2025-07-25 17:46:17,341 cisTopic     INFO     Converting fragment matrix to sparse matrix\n",
      "2025-07-25 17:46:20,430 cisTopic     INFO     Removing blacklisted regions\n",
      "2025-07-25 17:46:20,707 cisTopic     INFO     Creating CistopicObject\n",
      "2025-07-25 17:46:21,371 cisTopic     INFO     Done!\n",
      "2025-07-25 17:46:21,429 cisTopic     INFO     Reading data for TNG\n",
      "2025-07-25 17:46:42,830 cisTopic     INFO     metrics provided!\n",
      "2025-07-25 17:46:43,763 cisTopic     INFO     Counting fragments in regions\n"
     ]
    },
    {
     "name": "stderr",
     "output_type": "stream",
     "text": [
      "2025-07-25 17:46:51,346\tINFO worker.py:1724 -- Started a local Ray instance.\n",
      "\u001b[36m(pid=3435014)\u001b[0m /home/rsun@ZHANGroup.local/anaconda3/envs/scenicplus/lib/python3.11/site-packages/pyranges/__init__.py:18: UserWarning: pkg_resources is deprecated as an API. See https://setuptools.pypa.io/en/latest/pkg_resources.html. The pkg_resources package is slated for removal as early as 2025-11-30. Refrain from using this package or pin to Setuptools<81.\n",
      "\u001b[36m(pid=3435014)\u001b[0m   import pkg_resources\n",
      "\u001b[36m(pid=3435012)\u001b[0m /home/rsun@ZHANGroup.local/anaconda3/envs/scenicplus/lib/python3.11/site-packages/pyranges/__init__.py:18: UserWarning: pkg_resources is deprecated as an API. See https://setuptools.pypa.io/en/latest/pkg_resources.html. The pkg_resources package is slated for removal as early as 2025-11-30. Refrain from using this package or pin to Setuptools<81.\u001b[32m [repeated 9x across cluster]\u001b[0m\n",
      "\u001b[36m(pid=3435012)\u001b[0m   import pkg_resources\u001b[32m [repeated 9x across cluster]\u001b[0m\n"
     ]
    },
    {
     "name": "stdout",
     "output_type": "stream",
     "text": [
      "2025-07-25 17:47:00,160 cisTopic     INFO     Creating fragment matrix\n",
      "2025-07-25 17:47:21,120 cisTopic     INFO     Converting fragment matrix to sparse matrix\n",
      "2025-07-25 17:47:23,871 cisTopic     INFO     Removing blacklisted regions\n",
      "2025-07-25 17:47:24,120 cisTopic     INFO     Creating CistopicObject\n",
      "2025-07-25 17:47:24,730 cisTopic     INFO     Done!\n",
      "2025-07-25 17:47:24,782 cisTopic     INFO     Reading data for MQN\n",
      "2025-07-25 17:47:51,138 cisTopic     INFO     metrics provided!\n",
      "2025-07-25 17:47:52,230 cisTopic     INFO     Counting fragments in regions\n"
     ]
    },
    {
     "name": "stderr",
     "output_type": "stream",
     "text": [
      "2025-07-25 17:48:00,218\tINFO worker.py:1724 -- Started a local Ray instance.\n",
      "\u001b[36m(pid=3437947)\u001b[0m /home/rsun@ZHANGroup.local/anaconda3/envs/scenicplus/lib/python3.11/site-packages/pyranges/__init__.py:18: UserWarning: pkg_resources is deprecated as an API. See https://setuptools.pypa.io/en/latest/pkg_resources.html. The pkg_resources package is slated for removal as early as 2025-11-30. Refrain from using this package or pin to Setuptools<81.\n",
      "\u001b[36m(pid=3437947)\u001b[0m   import pkg_resources\n",
      "\u001b[36m(pid=3437942)\u001b[0m /home/rsun@ZHANGroup.local/anaconda3/envs/scenicplus/lib/python3.11/site-packages/pyranges/__init__.py:18: UserWarning: pkg_resources is deprecated as an API. See https://setuptools.pypa.io/en/latest/pkg_resources.html. The pkg_resources package is slated for removal as early as 2025-11-30. Refrain from using this package or pin to Setuptools<81.\u001b[32m [repeated 9x across cluster]\u001b[0m\n",
      "\u001b[36m(pid=3437942)\u001b[0m   import pkg_resources\u001b[32m [repeated 9x across cluster]\u001b[0m\n"
     ]
    },
    {
     "name": "stdout",
     "output_type": "stream",
     "text": [
      "2025-07-25 17:48:11,738 cisTopic     INFO     Creating fragment matrix\n",
      "2025-07-25 17:48:37,921 cisTopic     INFO     Converting fragment matrix to sparse matrix\n",
      "2025-07-25 17:48:42,196 cisTopic     INFO     Removing blacklisted regions\n",
      "2025-07-25 17:48:42,603 cisTopic     INFO     Creating CistopicObject\n",
      "2025-07-25 17:48:43,301 cisTopic     INFO     Done!\n",
      "2025-07-25 17:48:43,374 cisTopic     INFO     Reading data for CYNG\n",
      "2025-07-25 17:49:14,851 cisTopic     INFO     metrics provided!\n",
      "2025-07-25 17:49:16,345 cisTopic     INFO     Counting fragments in regions\n"
     ]
    },
    {
     "name": "stderr",
     "output_type": "stream",
     "text": [
      "2025-07-25 17:49:26,358\tINFO worker.py:1724 -- Started a local Ray instance.\n",
      "\u001b[36m(pid=3440954)\u001b[0m /home/rsun@ZHANGroup.local/anaconda3/envs/scenicplus/lib/python3.11/site-packages/pyranges/__init__.py:18: UserWarning: pkg_resources is deprecated as an API. See https://setuptools.pypa.io/en/latest/pkg_resources.html. The pkg_resources package is slated for removal as early as 2025-11-30. Refrain from using this package or pin to Setuptools<81.\n",
      "\u001b[36m(pid=3440954)\u001b[0m   import pkg_resources\n",
      "\u001b[36m(pid=3440948)\u001b[0m /home/rsun@ZHANGroup.local/anaconda3/envs/scenicplus/lib/python3.11/site-packages/pyranges/__init__.py:18: UserWarning: pkg_resources is deprecated as an API. See https://setuptools.pypa.io/en/latest/pkg_resources.html. The pkg_resources package is slated for removal as early as 2025-11-30. Refrain from using this package or pin to Setuptools<81.\u001b[32m [repeated 9x across cluster]\u001b[0m\n",
      "\u001b[36m(pid=3440948)\u001b[0m   import pkg_resources\u001b[32m [repeated 9x across cluster]\u001b[0m\n"
     ]
    },
    {
     "name": "stdout",
     "output_type": "stream",
     "text": [
      "2025-07-25 17:49:38,037 cisTopic     INFO     Creating fragment matrix\n",
      "2025-07-25 17:50:04,192 cisTopic     INFO     Converting fragment matrix to sparse matrix\n",
      "2025-07-25 17:50:08,465 cisTopic     INFO     Removing blacklisted regions\n",
      "2025-07-25 17:50:08,825 cisTopic     INFO     Creating CistopicObject\n",
      "2025-07-25 17:50:09,526 cisTopic     INFO     Done!\n",
      "2025-07-25 17:50:09,596 cisTopic     INFO     Reading data for JTPC\n",
      "2025-07-25 17:50:14,869 cisTopic     INFO     metrics provided!\n",
      "2025-07-25 17:50:15,097 cisTopic     INFO     Counting fragments in regions\n"
     ]
    },
    {
     "name": "stderr",
     "output_type": "stream",
     "text": [
      "2025-07-25 17:50:22,084\tINFO worker.py:1724 -- Started a local Ray instance.\n",
      "\u001b[36m(pid=3443901)\u001b[0m /home/rsun@ZHANGroup.local/anaconda3/envs/scenicplus/lib/python3.11/site-packages/pyranges/__init__.py:18: UserWarning: pkg_resources is deprecated as an API. See https://setuptools.pypa.io/en/latest/pkg_resources.html. The pkg_resources package is slated for removal as early as 2025-11-30. Refrain from using this package or pin to Setuptools<81.\n",
      "\u001b[36m(pid=3443901)\u001b[0m   import pkg_resources\n",
      "\u001b[36m(pid=3443898)\u001b[0m /home/rsun@ZHANGroup.local/anaconda3/envs/scenicplus/lib/python3.11/site-packages/pyranges/__init__.py:18: UserWarning: pkg_resources is deprecated as an API. See https://setuptools.pypa.io/en/latest/pkg_resources.html. The pkg_resources package is slated for removal as early as 2025-11-30. Refrain from using this package or pin to Setuptools<81.\u001b[32m [repeated 9x across cluster]\u001b[0m\n",
      "\u001b[36m(pid=3443898)\u001b[0m   import pkg_resources\u001b[32m [repeated 9x across cluster]\u001b[0m\n"
     ]
    },
    {
     "name": "stdout",
     "output_type": "stream",
     "text": [
      "2025-07-25 17:50:26,114 cisTopic     INFO     Creating fragment matrix\n",
      "2025-07-25 17:50:29,943 cisTopic     INFO     Converting fragment matrix to sparse matrix\n",
      "2025-07-25 17:50:31,060 cisTopic     INFO     Removing blacklisted regions\n",
      "2025-07-25 17:50:31,270 cisTopic     INFO     Creating CistopicObject\n",
      "2025-07-25 17:50:31,490 cisTopic     INFO     Done!\n",
      "2025-07-25 17:50:31,541 cisTopic     INFO     Reading data for THM\n",
      "2025-07-25 17:51:18,533 cisTopic     INFO     metrics provided!\n",
      "2025-07-25 17:51:20,356 cisTopic     INFO     Counting fragments in regions\n"
     ]
    },
    {
     "name": "stderr",
     "output_type": "stream",
     "text": [
      "2025-07-25 17:51:27,576\tINFO worker.py:1724 -- Started a local Ray instance.\n",
      "\u001b[36m(pid=3446313)\u001b[0m /home/rsun@ZHANGroup.local/anaconda3/envs/scenicplus/lib/python3.11/site-packages/pyranges/__init__.py:18: UserWarning: pkg_resources is deprecated as an API. See https://setuptools.pypa.io/en/latest/pkg_resources.html. The pkg_resources package is slated for removal as early as 2025-11-30. Refrain from using this package or pin to Setuptools<81.\n",
      "\u001b[36m(pid=3446313)\u001b[0m   import pkg_resources\n",
      "\u001b[36m(pid=3446309)\u001b[0m /home/rsun@ZHANGroup.local/anaconda3/envs/scenicplus/lib/python3.11/site-packages/pyranges/__init__.py:18: UserWarning: pkg_resources is deprecated as an API. See https://setuptools.pypa.io/en/latest/pkg_resources.html. The pkg_resources package is slated for removal as early as 2025-11-30. Refrain from using this package or pin to Setuptools<81.\u001b[32m [repeated 9x across cluster]\u001b[0m\n",
      "\u001b[36m(pid=3446309)\u001b[0m   import pkg_resources\u001b[32m [repeated 9x across cluster]\u001b[0m\n"
     ]
    },
    {
     "name": "stdout",
     "output_type": "stream",
     "text": [
      "2025-07-25 17:51:41,982 cisTopic     INFO     Creating fragment matrix\n",
      "2025-07-25 17:52:20,252 cisTopic     INFO     Converting fragment matrix to sparse matrix\n",
      "2025-07-25 17:52:24,989 cisTopic     INFO     Removing blacklisted regions\n",
      "2025-07-25 17:52:25,365 cisTopic     INFO     Creating CistopicObject\n",
      "2025-07-25 17:52:26,285 cisTopic     INFO     Done!\n",
      "2025-07-25 17:52:26,349 cisTopic     INFO     Reading data for CYHM\n",
      "2025-07-25 17:53:03,052 cisTopic     INFO     metrics provided!\n",
      "2025-07-25 17:53:04,642 cisTopic     INFO     Counting fragments in regions\n"
     ]
    },
    {
     "name": "stderr",
     "output_type": "stream",
     "text": [
      "2025-07-25 17:53:12,269\tINFO worker.py:1724 -- Started a local Ray instance.\n",
      "\u001b[36m(pid=3449429)\u001b[0m /home/rsun@ZHANGroup.local/anaconda3/envs/scenicplus/lib/python3.11/site-packages/pyranges/__init__.py:18: UserWarning: pkg_resources is deprecated as an API. See https://setuptools.pypa.io/en/latest/pkg_resources.html. The pkg_resources package is slated for removal as early as 2025-11-30. Refrain from using this package or pin to Setuptools<81.\n",
      "\u001b[36m(pid=3449429)\u001b[0m   import pkg_resources\n",
      "\u001b[36m(pid=3449420)\u001b[0m /home/rsun@ZHANGroup.local/anaconda3/envs/scenicplus/lib/python3.11/site-packages/pyranges/__init__.py:18: UserWarning: pkg_resources is deprecated as an API. See https://setuptools.pypa.io/en/latest/pkg_resources.html. The pkg_resources package is slated for removal as early as 2025-11-30. Refrain from using this package or pin to Setuptools<81.\u001b[32m [repeated 9x across cluster]\u001b[0m\n",
      "\u001b[36m(pid=3449420)\u001b[0m   import pkg_resources\u001b[32m [repeated 9x across cluster]\u001b[0m\n"
     ]
    },
    {
     "name": "stdout",
     "output_type": "stream",
     "text": [
      "2025-07-25 17:53:24,802 cisTopic     INFO     Creating fragment matrix\n",
      "2025-07-25 17:53:50,867 cisTopic     INFO     Converting fragment matrix to sparse matrix\n",
      "2025-07-25 17:53:54,982 cisTopic     INFO     Removing blacklisted regions\n",
      "2025-07-25 17:53:55,348 cisTopic     INFO     Creating CistopicObject\n",
      "2025-07-25 17:53:56,104 cisTopic     INFO     Done!\n",
      "2025-07-25 17:53:56,166 cisTopic     INFO     Reading data for MHM\n",
      "2025-07-25 17:54:16,293 cisTopic     INFO     metrics provided!\n",
      "2025-07-25 17:54:17,284 cisTopic     INFO     Counting fragments in regions\n"
     ]
    },
    {
     "name": "stderr",
     "output_type": "stream",
     "text": [
      "2025-07-25 17:54:26,834\tINFO worker.py:1724 -- Started a local Ray instance.\n",
      "\u001b[36m(pid=3452429)\u001b[0m /home/rsun@ZHANGroup.local/anaconda3/envs/scenicplus/lib/python3.11/site-packages/pyranges/__init__.py:18: UserWarning: pkg_resources is deprecated as an API. See https://setuptools.pypa.io/en/latest/pkg_resources.html. The pkg_resources package is slated for removal as early as 2025-11-30. Refrain from using this package or pin to Setuptools<81.\n",
      "\u001b[36m(pid=3452429)\u001b[0m   import pkg_resources\n",
      "\u001b[36m(pid=3452422)\u001b[0m /home/rsun@ZHANGroup.local/anaconda3/envs/scenicplus/lib/python3.11/site-packages/pyranges/__init__.py:18: UserWarning: pkg_resources is deprecated as an API. See https://setuptools.pypa.io/en/latest/pkg_resources.html. The pkg_resources package is slated for removal as early as 2025-11-30. Refrain from using this package or pin to Setuptools<81.\u001b[32m [repeated 9x across cluster]\u001b[0m\n",
      "\u001b[36m(pid=3452422)\u001b[0m   import pkg_resources\u001b[32m [repeated 9x across cluster]\u001b[0m\n"
     ]
    },
    {
     "name": "stdout",
     "output_type": "stream",
     "text": [
      "2025-07-25 17:54:36,949 cisTopic     INFO     Creating fragment matrix\n",
      "2025-07-25 17:54:58,817 cisTopic     INFO     Converting fragment matrix to sparse matrix\n",
      "2025-07-25 17:55:01,766 cisTopic     INFO     Removing blacklisted regions\n",
      "2025-07-25 17:55:02,134 cisTopic     INFO     Creating CistopicObject\n",
      "2025-07-25 17:55:02,661 cisTopic     INFO     Done!\n",
      "2025-07-25 17:55:02,707 cisTopic     INFO     Reading data for JTBQ\n",
      "2025-07-25 17:55:23,153 cisTopic     INFO     metrics provided!\n",
      "2025-07-25 17:55:23,993 cisTopic     INFO     Counting fragments in regions\n"
     ]
    },
    {
     "name": "stderr",
     "output_type": "stream",
     "text": [
      "2025-07-25 17:55:32,320\tINFO worker.py:1724 -- Started a local Ray instance.\n",
      "\u001b[36m(pid=3455406)\u001b[0m /home/rsun@ZHANGroup.local/anaconda3/envs/scenicplus/lib/python3.11/site-packages/pyranges/__init__.py:18: UserWarning: pkg_resources is deprecated as an API. See https://setuptools.pypa.io/en/latest/pkg_resources.html. The pkg_resources package is slated for removal as early as 2025-11-30. Refrain from using this package or pin to Setuptools<81.\n",
      "\u001b[36m(pid=3455406)\u001b[0m   import pkg_resources\n",
      "\u001b[36m(pid=3455411)\u001b[0m /home/rsun@ZHANGroup.local/anaconda3/envs/scenicplus/lib/python3.11/site-packages/pyranges/__init__.py:18: UserWarning: pkg_resources is deprecated as an API. See https://setuptools.pypa.io/en/latest/pkg_resources.html. The pkg_resources package is slated for removal as early as 2025-11-30. Refrain from using this package or pin to Setuptools<81.\u001b[32m [repeated 9x across cluster]\u001b[0m\n",
      "\u001b[36m(pid=3455411)\u001b[0m   import pkg_resources\u001b[32m [repeated 9x across cluster]\u001b[0m\n"
     ]
    },
    {
     "name": "stdout",
     "output_type": "stream",
     "text": [
      "2025-07-25 17:55:41,017 cisTopic     INFO     Creating fragment matrix\n",
      "2025-07-25 17:55:59,319 cisTopic     INFO     Converting fragment matrix to sparse matrix\n",
      "2025-07-25 17:56:01,180 cisTopic     INFO     Removing blacklisted regions\n",
      "2025-07-25 17:56:01,434 cisTopic     INFO     Creating CistopicObject\n",
      "2025-07-25 17:56:02,671 cisTopic     INFO     Done!\n",
      "2025-07-25 17:56:02,719 cisTopic     INFO     Reading data for TPC\n",
      "2025-07-25 17:56:26,615 cisTopic     INFO     metrics provided!\n",
      "2025-07-25 17:56:27,765 cisTopic     INFO     Counting fragments in regions\n"
     ]
    },
    {
     "name": "stderr",
     "output_type": "stream",
     "text": [
      "2025-07-25 17:56:37,316\tINFO worker.py:1724 -- Started a local Ray instance.\n",
      "\u001b[36m(pid=3458327)\u001b[0m /home/rsun@ZHANGroup.local/anaconda3/envs/scenicplus/lib/python3.11/site-packages/pyranges/__init__.py:18: UserWarning: pkg_resources is deprecated as an API. See https://setuptools.pypa.io/en/latest/pkg_resources.html. The pkg_resources package is slated for removal as early as 2025-11-30. Refrain from using this package or pin to Setuptools<81.\n",
      "\u001b[36m(pid=3458327)\u001b[0m   import pkg_resources\n",
      "\u001b[36m(pid=3458320)\u001b[0m /home/rsun@ZHANGroup.local/anaconda3/envs/scenicplus/lib/python3.11/site-packages/pyranges/__init__.py:18: UserWarning: pkg_resources is deprecated as an API. See https://setuptools.pypa.io/en/latest/pkg_resources.html. The pkg_resources package is slated for removal as early as 2025-11-30. Refrain from using this package or pin to Setuptools<81.\u001b[32m [repeated 9x across cluster]\u001b[0m\n",
      "\u001b[36m(pid=3458320)\u001b[0m   import pkg_resources\u001b[32m [repeated 9x across cluster]\u001b[0m\n"
     ]
    },
    {
     "name": "stdout",
     "output_type": "stream",
     "text": [
      "2025-07-25 17:56:48,496 cisTopic     INFO     Creating fragment matrix\n",
      "2025-07-25 17:57:15,447 cisTopic     INFO     Converting fragment matrix to sparse matrix\n",
      "2025-07-25 17:57:19,605 cisTopic     INFO     Removing blacklisted regions\n",
      "2025-07-25 17:57:20,020 cisTopic     INFO     Creating CistopicObject\n",
      "2025-07-25 17:57:20,761 cisTopic     INFO     Done!\n",
      "2025-07-25 17:57:20,840 cisTopic     INFO     Reading data for JTXQ\n",
      "2025-07-25 17:57:59,112 cisTopic     INFO     metrics provided!\n",
      "2025-07-25 17:58:00,710 cisTopic     INFO     Counting fragments in regions\n"
     ]
    },
    {
     "name": "stderr",
     "output_type": "stream",
     "text": [
      "2025-07-25 17:58:08,422\tINFO worker.py:1724 -- Started a local Ray instance.\n",
      "\u001b[36m(pid=3461342)\u001b[0m /home/rsun@ZHANGroup.local/anaconda3/envs/scenicplus/lib/python3.11/site-packages/pyranges/__init__.py:18: UserWarning: pkg_resources is deprecated as an API. See https://setuptools.pypa.io/en/latest/pkg_resources.html. The pkg_resources package is slated for removal as early as 2025-11-30. Refrain from using this package or pin to Setuptools<81.\n",
      "\u001b[36m(pid=3461342)\u001b[0m   import pkg_resources\n",
      "\u001b[36m(pid=3461340)\u001b[0m /home/rsun@ZHANGroup.local/anaconda3/envs/scenicplus/lib/python3.11/site-packages/pyranges/__init__.py:18: UserWarning: pkg_resources is deprecated as an API. See https://setuptools.pypa.io/en/latest/pkg_resources.html. The pkg_resources package is slated for removal as early as 2025-11-30. Refrain from using this package or pin to Setuptools<81.\u001b[32m [repeated 9x across cluster]\u001b[0m\n",
      "\u001b[36m(pid=3461340)\u001b[0m   import pkg_resources\u001b[32m [repeated 9x across cluster]\u001b[0m\n"
     ]
    },
    {
     "name": "stdout",
     "output_type": "stream",
     "text": [
      "2025-07-25 17:58:23,684 cisTopic     INFO     Creating fragment matrix\n",
      "2025-07-25 17:59:00,455 cisTopic     INFO     Converting fragment matrix to sparse matrix\n",
      "2025-07-25 17:59:06,116 cisTopic     INFO     Removing blacklisted regions\n",
      "2025-07-25 17:59:06,470 cisTopic     INFO     Creating CistopicObject\n",
      "2025-07-25 17:59:07,374 cisTopic     INFO     Done!\n",
      "2025-07-25 17:59:07,465 cisTopic     INFO     Reading data for MXQ\n",
      "2025-07-25 17:59:40,733 cisTopic     INFO     metrics provided!\n",
      "2025-07-25 17:59:42,546 cisTopic     INFO     Counting fragments in regions\n"
     ]
    },
    {
     "name": "stderr",
     "output_type": "stream",
     "text": [
      "2025-07-25 17:59:52,682\tINFO worker.py:1724 -- Started a local Ray instance.\n",
      "\u001b[36m(pid=3464383)\u001b[0m /home/rsun@ZHANGroup.local/anaconda3/envs/scenicplus/lib/python3.11/site-packages/pyranges/__init__.py:18: UserWarning: pkg_resources is deprecated as an API. See https://setuptools.pypa.io/en/latest/pkg_resources.html. The pkg_resources package is slated for removal as early as 2025-11-30. Refrain from using this package or pin to Setuptools<81.\n",
      "\u001b[36m(pid=3464383)\u001b[0m   import pkg_resources\n",
      "\u001b[36m(pid=3464384)\u001b[0m /home/rsun@ZHANGroup.local/anaconda3/envs/scenicplus/lib/python3.11/site-packages/pyranges/__init__.py:18: UserWarning: pkg_resources is deprecated as an API. See https://setuptools.pypa.io/en/latest/pkg_resources.html. The pkg_resources package is slated for removal as early as 2025-11-30. Refrain from using this package or pin to Setuptools<81.\u001b[32m [repeated 9x across cluster]\u001b[0m\n",
      "\u001b[36m(pid=3464384)\u001b[0m   import pkg_resources\u001b[32m [repeated 9x across cluster]\u001b[0m\n"
     ]
    },
    {
     "name": "stdout",
     "output_type": "stream",
     "text": [
      "2025-07-25 18:00:06,629 cisTopic     INFO     Creating fragment matrix\n",
      "2025-07-25 18:00:36,148 cisTopic     INFO     Converting fragment matrix to sparse matrix\n",
      "2025-07-25 18:00:41,347 cisTopic     INFO     Removing blacklisted regions\n",
      "2025-07-25 18:00:41,648 cisTopic     INFO     Creating CistopicObject\n",
      "2025-07-25 18:00:42,447 cisTopic     INFO     Done!\n",
      "2025-07-25 18:00:42,517 cisTopic     INFO     Reading data for TYB\n",
      "2025-07-25 18:01:01,639 cisTopic     INFO     metrics provided!\n",
      "2025-07-25 18:01:02,397 cisTopic     INFO     Counting fragments in regions\n"
     ]
    },
    {
     "name": "stderr",
     "output_type": "stream",
     "text": [
      "2025-07-25 18:01:09,342\tINFO worker.py:1724 -- Started a local Ray instance.\n",
      "\u001b[36m(pid=3467392)\u001b[0m /home/rsun@ZHANGroup.local/anaconda3/envs/scenicplus/lib/python3.11/site-packages/pyranges/__init__.py:18: UserWarning: pkg_resources is deprecated as an API. See https://setuptools.pypa.io/en/latest/pkg_resources.html. The pkg_resources package is slated for removal as early as 2025-11-30. Refrain from using this package or pin to Setuptools<81.\n",
      "\u001b[36m(pid=3467392)\u001b[0m   import pkg_resources\n",
      "\u001b[36m(pid=3467391)\u001b[0m /home/rsun@ZHANGroup.local/anaconda3/envs/scenicplus/lib/python3.11/site-packages/pyranges/__init__.py:18: UserWarning: pkg_resources is deprecated as an API. See https://setuptools.pypa.io/en/latest/pkg_resources.html. The pkg_resources package is slated for removal as early as 2025-11-30. Refrain from using this package or pin to Setuptools<81.\u001b[32m [repeated 9x across cluster]\u001b[0m\n",
      "\u001b[36m(pid=3467391)\u001b[0m   import pkg_resources\u001b[32m [repeated 9x across cluster]\u001b[0m\n"
     ]
    },
    {
     "name": "stdout",
     "output_type": "stream",
     "text": [
      "2025-07-25 18:01:16,458 cisTopic     INFO     Creating fragment matrix\n",
      "2025-07-25 18:01:29,642 cisTopic     INFO     Converting fragment matrix to sparse matrix\n",
      "2025-07-25 18:01:31,643 cisTopic     INFO     Removing blacklisted regions\n",
      "2025-07-25 18:01:31,829 cisTopic     INFO     Creating CistopicObject\n",
      "2025-07-25 18:01:32,285 cisTopic     INFO     Done!\n",
      "2025-07-25 18:01:32,336 cisTopic     INFO     Reading data for JTHM\n",
      "2025-07-25 18:02:16,226 cisTopic     INFO     metrics provided!\n",
      "2025-07-25 18:02:17,871 cisTopic     INFO     Counting fragments in regions\n"
     ]
    },
    {
     "name": "stderr",
     "output_type": "stream",
     "text": [
      "2025-07-25 18:02:25,763\tINFO worker.py:1724 -- Started a local Ray instance.\n",
      "\u001b[36m(pid=3470293)\u001b[0m /home/rsun@ZHANGroup.local/anaconda3/envs/scenicplus/lib/python3.11/site-packages/pyranges/__init__.py:18: UserWarning: pkg_resources is deprecated as an API. See https://setuptools.pypa.io/en/latest/pkg_resources.html. The pkg_resources package is slated for removal as early as 2025-11-30. Refrain from using this package or pin to Setuptools<81.\n",
      "\u001b[36m(pid=3470293)\u001b[0m   import pkg_resources\n",
      "\u001b[36m(pid=3470286)\u001b[0m /home/rsun@ZHANGroup.local/anaconda3/envs/scenicplus/lib/python3.11/site-packages/pyranges/__init__.py:18: UserWarning: pkg_resources is deprecated as an API. See https://setuptools.pypa.io/en/latest/pkg_resources.html. The pkg_resources package is slated for removal as early as 2025-11-30. Refrain from using this package or pin to Setuptools<81.\u001b[32m [repeated 9x across cluster]\u001b[0m\n",
      "\u001b[36m(pid=3470286)\u001b[0m   import pkg_resources\u001b[32m [repeated 9x across cluster]\u001b[0m\n"
     ]
    },
    {
     "name": "stdout",
     "output_type": "stream",
     "text": [
      "2025-07-25 18:02:40,303 cisTopic     INFO     Creating fragment matrix\n",
      "2025-07-25 18:03:22,904 cisTopic     INFO     Converting fragment matrix to sparse matrix\n",
      "2025-07-25 18:03:27,767 cisTopic     INFO     Removing blacklisted regions\n",
      "2025-07-25 18:03:28,167 cisTopic     INFO     Creating CistopicObject\n",
      "2025-07-25 18:03:29,237 cisTopic     INFO     Done!\n",
      "2025-07-25 18:03:29,312 cisTopic     INFO     Reading data for QFCT\n",
      "2025-07-25 18:04:07,911 cisTopic     INFO     metrics provided!\n",
      "2025-07-25 18:04:09,655 cisTopic     INFO     Counting fragments in regions\n"
     ]
    },
    {
     "name": "stderr",
     "output_type": "stream",
     "text": [
      "2025-07-25 18:04:17,228\tINFO worker.py:1724 -- Started a local Ray instance.\n",
      "\u001b[36m(pid=3473366)\u001b[0m /home/rsun@ZHANGroup.local/anaconda3/envs/scenicplus/lib/python3.11/site-packages/pyranges/__init__.py:18: UserWarning: pkg_resources is deprecated as an API. See https://setuptools.pypa.io/en/latest/pkg_resources.html. The pkg_resources package is slated for removal as early as 2025-11-30. Refrain from using this package or pin to Setuptools<81.\n",
      "\u001b[36m(pid=3473366)\u001b[0m   import pkg_resources\n",
      "\u001b[36m(pid=3473358)\u001b[0m /home/rsun@ZHANGroup.local/anaconda3/envs/scenicplus/lib/python3.11/site-packages/pyranges/__init__.py:18: UserWarning: pkg_resources is deprecated as an API. See https://setuptools.pypa.io/en/latest/pkg_resources.html. The pkg_resources package is slated for removal as early as 2025-11-30. Refrain from using this package or pin to Setuptools<81.\u001b[32m [repeated 9x across cluster]\u001b[0m\n",
      "\u001b[36m(pid=3473358)\u001b[0m   import pkg_resources\u001b[32m [repeated 9x across cluster]\u001b[0m\n"
     ]
    },
    {
     "name": "stdout",
     "output_type": "stream",
     "text": [
      "2025-07-25 18:04:31,151 cisTopic     INFO     Creating fragment matrix\n",
      "2025-07-25 18:05:04,070 cisTopic     INFO     Converting fragment matrix to sparse matrix\n",
      "2025-07-25 18:05:08,726 cisTopic     INFO     Removing blacklisted regions\n",
      "2025-07-25 18:05:09,040 cisTopic     INFO     Creating CistopicObject\n",
      "2025-07-25 18:05:10,901 cisTopic     INFO     Done!\n",
      "2025-07-25 18:05:10,976 cisTopic     INFO     Reading data for JTCT\n",
      "2025-07-25 18:05:42,426 cisTopic     INFO     metrics provided!\n",
      "2025-07-25 18:05:43,712 cisTopic     INFO     Counting fragments in regions\n"
     ]
    },
    {
     "name": "stderr",
     "output_type": "stream",
     "text": [
      "2025-07-25 18:05:51,866\tINFO worker.py:1724 -- Started a local Ray instance.\n",
      "\u001b[36m(pid=3476392)\u001b[0m /home/rsun@ZHANGroup.local/anaconda3/envs/scenicplus/lib/python3.11/site-packages/pyranges/__init__.py:18: UserWarning: pkg_resources is deprecated as an API. See https://setuptools.pypa.io/en/latest/pkg_resources.html. The pkg_resources package is slated for removal as early as 2025-11-30. Refrain from using this package or pin to Setuptools<81.\n",
      "\u001b[36m(pid=3476392)\u001b[0m   import pkg_resources\n",
      "\u001b[36m(pid=3476386)\u001b[0m /home/rsun@ZHANGroup.local/anaconda3/envs/scenicplus/lib/python3.11/site-packages/pyranges/__init__.py:18: UserWarning: pkg_resources is deprecated as an API. See https://setuptools.pypa.io/en/latest/pkg_resources.html. The pkg_resources package is slated for removal as early as 2025-11-30. Refrain from using this package or pin to Setuptools<81.\u001b[32m [repeated 9x across cluster]\u001b[0m\n",
      "\u001b[36m(pid=3476386)\u001b[0m   import pkg_resources\u001b[32m [repeated 9x across cluster]\u001b[0m\n"
     ]
    },
    {
     "name": "stdout",
     "output_type": "stream",
     "text": [
      "2025-07-25 18:06:01,701 cisTopic     INFO     Creating fragment matrix\n",
      "2025-07-25 18:06:23,749 cisTopic     INFO     Converting fragment matrix to sparse matrix\n",
      "2025-07-25 18:06:27,253 cisTopic     INFO     Removing blacklisted regions\n",
      "2025-07-25 18:06:27,530 cisTopic     INFO     Creating CistopicObject\n",
      "2025-07-25 18:06:28,149 cisTopic     INFO     Done!\n",
      "2025-07-25 18:06:28,210 cisTopic     INFO     Reading data for JTQN\n",
      "2025-07-25 18:07:02,063 cisTopic     INFO     metrics provided!\n",
      "2025-07-25 18:07:03,376 cisTopic     INFO     Counting fragments in regions\n"
     ]
    },
    {
     "name": "stderr",
     "output_type": "stream",
     "text": [
      "2025-07-25 18:07:11,201\tINFO worker.py:1724 -- Started a local Ray instance.\n",
      "\u001b[36m(pid=3479363)\u001b[0m /home/rsun@ZHANGroup.local/anaconda3/envs/scenicplus/lib/python3.11/site-packages/pyranges/__init__.py:18: UserWarning: pkg_resources is deprecated as an API. See https://setuptools.pypa.io/en/latest/pkg_resources.html. The pkg_resources package is slated for removal as early as 2025-11-30. Refrain from using this package or pin to Setuptools<81.\n",
      "\u001b[36m(pid=3479363)\u001b[0m   import pkg_resources\n",
      "\u001b[36m(pid=3479357)\u001b[0m /home/rsun@ZHANGroup.local/anaconda3/envs/scenicplus/lib/python3.11/site-packages/pyranges/__init__.py:18: UserWarning: pkg_resources is deprecated as an API. See https://setuptools.pypa.io/en/latest/pkg_resources.html. The pkg_resources package is slated for removal as early as 2025-11-30. Refrain from using this package or pin to Setuptools<81.\u001b[32m [repeated 9x across cluster]\u001b[0m\n",
      "\u001b[36m(pid=3479357)\u001b[0m   import pkg_resources\u001b[32m [repeated 9x across cluster]\u001b[0m\n"
     ]
    },
    {
     "name": "stdout",
     "output_type": "stream",
     "text": [
      "2025-07-25 18:07:21,840 cisTopic     INFO     Creating fragment matrix\n",
      "2025-07-25 18:07:49,941 cisTopic     INFO     Converting fragment matrix to sparse matrix\n",
      "2025-07-25 18:07:54,420 cisTopic     INFO     Removing blacklisted regions\n",
      "2025-07-25 18:07:54,763 cisTopic     INFO     Creating CistopicObject\n",
      "2025-07-25 18:07:55,422 cisTopic     INFO     Done!\n",
      "2025-07-25 18:07:55,487 cisTopic     INFO     Reading data for TBQ\n",
      "2025-07-25 18:08:29,321 cisTopic     INFO     metrics provided!\n",
      "2025-07-25 18:08:30,591 cisTopic     INFO     Counting fragments in regions\n"
     ]
    },
    {
     "name": "stderr",
     "output_type": "stream",
     "text": [
      "2025-07-25 18:08:38,646\tINFO worker.py:1724 -- Started a local Ray instance.\n",
      "\u001b[36m(pid=3482369)\u001b[0m /home/rsun@ZHANGroup.local/anaconda3/envs/scenicplus/lib/python3.11/site-packages/pyranges/__init__.py:18: UserWarning: pkg_resources is deprecated as an API. See https://setuptools.pypa.io/en/latest/pkg_resources.html. The pkg_resources package is slated for removal as early as 2025-11-30. Refrain from using this package or pin to Setuptools<81.\n",
      "\u001b[36m(pid=3482369)\u001b[0m   import pkg_resources\n",
      "\u001b[36m(pid=3482362)\u001b[0m /home/rsun@ZHANGroup.local/anaconda3/envs/scenicplus/lib/python3.11/site-packages/pyranges/__init__.py:18: UserWarning: pkg_resources is deprecated as an API. See https://setuptools.pypa.io/en/latest/pkg_resources.html. The pkg_resources package is slated for removal as early as 2025-11-30. Refrain from using this package or pin to Setuptools<81.\u001b[32m [repeated 9x across cluster]\u001b[0m\n",
      "\u001b[36m(pid=3482362)\u001b[0m   import pkg_resources\u001b[32m [repeated 9x across cluster]\u001b[0m\n"
     ]
    },
    {
     "name": "stdout",
     "output_type": "stream",
     "text": [
      "2025-07-25 18:08:49,894 cisTopic     INFO     Creating fragment matrix\n",
      "2025-07-25 18:09:15,401 cisTopic     INFO     Converting fragment matrix to sparse matrix\n",
      "2025-07-25 18:09:18,271 cisTopic     INFO     Removing blacklisted regions\n",
      "2025-07-25 18:09:18,490 cisTopic     INFO     Creating CistopicObject\n",
      "2025-07-25 18:09:19,216 cisTopic     INFO     Done!\n",
      "2025-07-25 18:09:19,265 cisTopic     INFO     Reading data for MYB\n",
      "2025-07-25 18:09:33,259 cisTopic     INFO     metrics provided!\n",
      "2025-07-25 18:09:33,902 cisTopic     INFO     Counting fragments in regions\n"
     ]
    },
    {
     "name": "stderr",
     "output_type": "stream",
     "text": [
      "2025-07-25 18:09:41,489\tINFO worker.py:1724 -- Started a local Ray instance.\n",
      "\u001b[36m(pid=3485341)\u001b[0m /home/rsun@ZHANGroup.local/anaconda3/envs/scenicplus/lib/python3.11/site-packages/pyranges/__init__.py:18: UserWarning: pkg_resources is deprecated as an API. See https://setuptools.pypa.io/en/latest/pkg_resources.html. The pkg_resources package is slated for removal as early as 2025-11-30. Refrain from using this package or pin to Setuptools<81.\n",
      "\u001b[36m(pid=3485341)\u001b[0m   import pkg_resources\n",
      "\u001b[36m(pid=3485335)\u001b[0m /home/rsun@ZHANGroup.local/anaconda3/envs/scenicplus/lib/python3.11/site-packages/pyranges/__init__.py:18: UserWarning: pkg_resources is deprecated as an API. See https://setuptools.pypa.io/en/latest/pkg_resources.html. The pkg_resources package is slated for removal as early as 2025-11-30. Refrain from using this package or pin to Setuptools<81.\u001b[32m [repeated 9x across cluster]\u001b[0m\n",
      "\u001b[36m(pid=3485335)\u001b[0m   import pkg_resources\u001b[32m [repeated 9x across cluster]\u001b[0m\n"
     ]
    },
    {
     "name": "stdout",
     "output_type": "stream",
     "text": [
      "2025-07-25 18:09:48,095 cisTopic     INFO     Creating fragment matrix\n",
      "2025-07-25 18:09:58,650 cisTopic     INFO     Converting fragment matrix to sparse matrix\n",
      "2025-07-25 18:09:59,902 cisTopic     INFO     Removing blacklisted regions\n",
      "2025-07-25 18:10:00,113 cisTopic     INFO     Creating CistopicObject\n",
      "2025-07-25 18:10:00,450 cisTopic     INFO     Done!\n",
      "2025-07-25 18:10:00,491 cisTopic     INFO     Reading data for CYPC\n",
      "2025-07-25 18:10:14,175 cisTopic     INFO     metrics provided!\n",
      "2025-07-25 18:10:14,636 cisTopic     INFO     Counting fragments in regions\n"
     ]
    },
    {
     "name": "stderr",
     "output_type": "stream",
     "text": [
      "2025-07-25 18:10:22,129\tINFO worker.py:1724 -- Started a local Ray instance.\n",
      "\u001b[36m(pid=3488150)\u001b[0m /home/rsun@ZHANGroup.local/anaconda3/envs/scenicplus/lib/python3.11/site-packages/pyranges/__init__.py:18: UserWarning: pkg_resources is deprecated as an API. See https://setuptools.pypa.io/en/latest/pkg_resources.html. The pkg_resources package is slated for removal as early as 2025-11-30. Refrain from using this package or pin to Setuptools<81.\n",
      "\u001b[36m(pid=3488150)\u001b[0m   import pkg_resources\n",
      "\u001b[36m(pid=3488152)\u001b[0m /home/rsun@ZHANGroup.local/anaconda3/envs/scenicplus/lib/python3.11/site-packages/pyranges/__init__.py:18: UserWarning: pkg_resources is deprecated as an API. See https://setuptools.pypa.io/en/latest/pkg_resources.html. The pkg_resources package is slated for removal as early as 2025-11-30. Refrain from using this package or pin to Setuptools<81.\u001b[32m [repeated 9x across cluster]\u001b[0m\n",
      "\u001b[36m(pid=3488152)\u001b[0m   import pkg_resources\u001b[32m [repeated 9x across cluster]\u001b[0m\n"
     ]
    },
    {
     "name": "stdout",
     "output_type": "stream",
     "text": [
      "2025-07-25 18:10:27,122 cisTopic     INFO     Creating fragment matrix\n",
      "2025-07-25 18:10:35,555 cisTopic     INFO     Converting fragment matrix to sparse matrix\n",
      "2025-07-25 18:10:37,507 cisTopic     INFO     Removing blacklisted regions\n",
      "2025-07-25 18:10:37,698 cisTopic     INFO     Creating CistopicObject\n",
      "2025-07-25 18:10:38,020 cisTopic     INFO     Done!\n",
      "2025-07-25 18:10:38,073 cisTopic     INFO     Reading data for QFHM\n",
      "2025-07-25 18:11:00,006 cisTopic     INFO     metrics provided!\n",
      "2025-07-25 18:11:00,943 cisTopic     INFO     Counting fragments in regions\n"
     ]
    },
    {
     "name": "stderr",
     "output_type": "stream",
     "text": [
      "2025-07-25 18:11:08,410\tINFO worker.py:1724 -- Started a local Ray instance.\n",
      "\u001b[36m(pid=3490820)\u001b[0m /home/rsun@ZHANGroup.local/anaconda3/envs/scenicplus/lib/python3.11/site-packages/pyranges/__init__.py:18: UserWarning: pkg_resources is deprecated as an API. See https://setuptools.pypa.io/en/latest/pkg_resources.html. The pkg_resources package is slated for removal as early as 2025-11-30. Refrain from using this package or pin to Setuptools<81.\n",
      "\u001b[36m(pid=3490820)\u001b[0m   import pkg_resources\n",
      "\u001b[36m(pid=3490822)\u001b[0m /home/rsun@ZHANGroup.local/anaconda3/envs/scenicplus/lib/python3.11/site-packages/pyranges/__init__.py:18: UserWarning: pkg_resources is deprecated as an API. See https://setuptools.pypa.io/en/latest/pkg_resources.html. The pkg_resources package is slated for removal as early as 2025-11-30. Refrain from using this package or pin to Setuptools<81.\u001b[32m [repeated 9x across cluster]\u001b[0m\n",
      "\u001b[36m(pid=3490822)\u001b[0m   import pkg_resources\u001b[32m [repeated 9x across cluster]\u001b[0m\n"
     ]
    },
    {
     "name": "stdout",
     "output_type": "stream",
     "text": [
      "2025-07-25 18:11:17,462 cisTopic     INFO     Creating fragment matrix\n",
      "2025-07-25 18:11:39,608 cisTopic     INFO     Converting fragment matrix to sparse matrix\n",
      "2025-07-25 18:11:42,572 cisTopic     INFO     Removing blacklisted regions\n",
      "2025-07-25 18:11:42,831 cisTopic     INFO     Creating CistopicObject\n",
      "2025-07-25 18:11:43,490 cisTopic     INFO     Done!\n",
      "2025-07-25 18:11:44,482 cisTopic     INFO     Reading data for MNG\n",
      "2025-07-25 18:12:04,512 cisTopic     INFO     metrics provided!\n",
      "2025-07-25 18:12:05,542 cisTopic     INFO     Counting fragments in regions\n"
     ]
    },
    {
     "name": "stderr",
     "output_type": "stream",
     "text": [
      "2025-07-25 18:12:13,141\tINFO worker.py:1724 -- Started a local Ray instance.\n",
      "\u001b[36m(pid=3493773)\u001b[0m /home/rsun@ZHANGroup.local/anaconda3/envs/scenicplus/lib/python3.11/site-packages/pyranges/__init__.py:18: UserWarning: pkg_resources is deprecated as an API. See https://setuptools.pypa.io/en/latest/pkg_resources.html. The pkg_resources package is slated for removal as early as 2025-11-30. Refrain from using this package or pin to Setuptools<81.\n",
      "\u001b[36m(pid=3493773)\u001b[0m   import pkg_resources\n",
      "\u001b[36m(pid=3493774)\u001b[0m /home/rsun@ZHANGroup.local/anaconda3/envs/scenicplus/lib/python3.11/site-packages/pyranges/__init__.py:18: UserWarning: pkg_resources is deprecated as an API. See https://setuptools.pypa.io/en/latest/pkg_resources.html. The pkg_resources package is slated for removal as early as 2025-11-30. Refrain from using this package or pin to Setuptools<81.\u001b[32m [repeated 9x across cluster]\u001b[0m\n",
      "\u001b[36m(pid=3493774)\u001b[0m   import pkg_resources\u001b[32m [repeated 9x across cluster]\u001b[0m\n"
     ]
    },
    {
     "name": "stdout",
     "output_type": "stream",
     "text": [
      "2025-07-25 18:12:21,955 cisTopic     INFO     Creating fragment matrix\n",
      "2025-07-25 18:12:41,290 cisTopic     INFO     Converting fragment matrix to sparse matrix\n",
      "2025-07-25 18:12:44,286 cisTopic     INFO     Removing blacklisted regions\n",
      "2025-07-25 18:12:44,564 cisTopic     INFO     Creating CistopicObject\n",
      "2025-07-25 18:12:45,129 cisTopic     INFO     Done!\n",
      "2025-07-25 18:12:45,181 cisTopic     INFO     Reading data for CYBQ\n",
      "2025-07-25 18:13:03,851 cisTopic     INFO     metrics provided!\n",
      "2025-07-25 18:13:04,636 cisTopic     INFO     Counting fragments in regions\n"
     ]
    },
    {
     "name": "stderr",
     "output_type": "stream",
     "text": [
      "2025-07-25 18:13:11,974\tINFO worker.py:1724 -- Started a local Ray instance.\n",
      "\u001b[36m(pid=3496670)\u001b[0m /home/rsun@ZHANGroup.local/anaconda3/envs/scenicplus/lib/python3.11/site-packages/pyranges/__init__.py:18: UserWarning: pkg_resources is deprecated as an API. See https://setuptools.pypa.io/en/latest/pkg_resources.html. The pkg_resources package is slated for removal as early as 2025-11-30. Refrain from using this package or pin to Setuptools<81.\n",
      "\u001b[36m(pid=3496670)\u001b[0m   import pkg_resources\n",
      "\u001b[36m(pid=3496663)\u001b[0m /home/rsun@ZHANGroup.local/anaconda3/envs/scenicplus/lib/python3.11/site-packages/pyranges/__init__.py:18: UserWarning: pkg_resources is deprecated as an API. See https://setuptools.pypa.io/en/latest/pkg_resources.html. The pkg_resources package is slated for removal as early as 2025-11-30. Refrain from using this package or pin to Setuptools<81.\u001b[32m [repeated 9x across cluster]\u001b[0m\n",
      "\u001b[36m(pid=3496663)\u001b[0m   import pkg_resources\u001b[32m [repeated 9x across cluster]\u001b[0m\n"
     ]
    },
    {
     "name": "stdout",
     "output_type": "stream",
     "text": [
      "2025-07-25 18:13:19,502 cisTopic     INFO     Creating fragment matrix\n",
      "2025-07-25 18:13:35,208 cisTopic     INFO     Converting fragment matrix to sparse matrix\n",
      "2025-07-25 18:13:37,217 cisTopic     INFO     Removing blacklisted regions\n",
      "2025-07-25 18:13:37,453 cisTopic     INFO     Creating CistopicObject\n",
      "2025-07-25 18:13:37,902 cisTopic     INFO     Done!\n",
      "2025-07-25 18:13:37,948 cisTopic     INFO     Reading data for MBQ\n",
      "2025-07-25 18:13:59,358 cisTopic     INFO     metrics provided!\n",
      "2025-07-25 18:14:00,444 cisTopic     INFO     Counting fragments in regions\n"
     ]
    },
    {
     "name": "stderr",
     "output_type": "stream",
     "text": [
      "2025-07-25 18:14:08,357\tINFO worker.py:1724 -- Started a local Ray instance.\n",
      "\u001b[36m(pid=3499580)\u001b[0m /home/rsun@ZHANGroup.local/anaconda3/envs/scenicplus/lib/python3.11/site-packages/pyranges/__init__.py:18: UserWarning: pkg_resources is deprecated as an API. See https://setuptools.pypa.io/en/latest/pkg_resources.html. The pkg_resources package is slated for removal as early as 2025-11-30. Refrain from using this package or pin to Setuptools<81.\n",
      "\u001b[36m(pid=3499580)\u001b[0m   import pkg_resources\n",
      "\u001b[36m(pid=3499574)\u001b[0m /home/rsun@ZHANGroup.local/anaconda3/envs/scenicplus/lib/python3.11/site-packages/pyranges/__init__.py:18: UserWarning: pkg_resources is deprecated as an API. See https://setuptools.pypa.io/en/latest/pkg_resources.html. The pkg_resources package is slated for removal as early as 2025-11-30. Refrain from using this package or pin to Setuptools<81.\u001b[32m [repeated 9x across cluster]\u001b[0m\n",
      "\u001b[36m(pid=3499574)\u001b[0m   import pkg_resources\u001b[32m [repeated 9x across cluster]\u001b[0m\n"
     ]
    },
    {
     "name": "stdout",
     "output_type": "stream",
     "text": [
      "2025-07-25 18:14:17,646 cisTopic     INFO     Creating fragment matrix\n",
      "2025-07-25 18:14:37,019 cisTopic     INFO     Converting fragment matrix to sparse matrix\n",
      "2025-07-25 18:14:39,480 cisTopic     INFO     Removing blacklisted regions\n",
      "2025-07-25 18:14:39,707 cisTopic     INFO     Creating CistopicObject\n",
      "2025-07-25 18:14:40,297 cisTopic     INFO     Done!\n",
      "2025-07-25 18:14:40,352 cisTopic     INFO     Reading data for MPC\n",
      "2025-07-25 18:15:03,304 cisTopic     INFO     metrics provided!\n",
      "2025-07-25 18:15:04,345 cisTopic     INFO     Counting fragments in regions\n"
     ]
    },
    {
     "name": "stderr",
     "output_type": "stream",
     "text": [
      "2025-07-25 18:15:12,023\tINFO worker.py:1724 -- Started a local Ray instance.\n",
      "\u001b[36m(pid=3502522)\u001b[0m /home/rsun@ZHANGroup.local/anaconda3/envs/scenicplus/lib/python3.11/site-packages/pyranges/__init__.py:18: UserWarning: pkg_resources is deprecated as an API. See https://setuptools.pypa.io/en/latest/pkg_resources.html. The pkg_resources package is slated for removal as early as 2025-11-30. Refrain from using this package or pin to Setuptools<81.\n",
      "\u001b[36m(pid=3502522)\u001b[0m   import pkg_resources\n",
      "\u001b[36m(pid=3502516)\u001b[0m /home/rsun@ZHANGroup.local/anaconda3/envs/scenicplus/lib/python3.11/site-packages/pyranges/__init__.py:18: UserWarning: pkg_resources is deprecated as an API. See https://setuptools.pypa.io/en/latest/pkg_resources.html. The pkg_resources package is slated for removal as early as 2025-11-30. Refrain from using this package or pin to Setuptools<81.\u001b[32m [repeated 9x across cluster]\u001b[0m\n",
      "\u001b[36m(pid=3502516)\u001b[0m   import pkg_resources\u001b[32m [repeated 9x across cluster]\u001b[0m\n"
     ]
    },
    {
     "name": "stdout",
     "output_type": "stream",
     "text": [
      "2025-07-25 18:15:21,361 cisTopic     INFO     Creating fragment matrix\n",
      "2025-07-25 18:15:44,987 cisTopic     INFO     Converting fragment matrix to sparse matrix\n",
      "2025-07-25 18:15:49,645 cisTopic     INFO     Removing blacklisted regions\n",
      "2025-07-25 18:15:49,977 cisTopic     INFO     Creating CistopicObject\n",
      "2025-07-25 18:15:50,595 cisTopic     INFO     Done!\n",
      "2025-07-25 18:15:50,665 cisTopic     INFO     Reading data for QFBQ\n",
      "2025-07-25 18:16:26,221 cisTopic     INFO     metrics provided!\n",
      "2025-07-25 18:16:27,558 cisTopic     INFO     Counting fragments in regions\n"
     ]
    },
    {
     "name": "stderr",
     "output_type": "stream",
     "text": [
      "2025-07-25 18:16:36,039\tINFO worker.py:1724 -- Started a local Ray instance.\n",
      "\u001b[36m(pid=3505524)\u001b[0m /home/rsun@ZHANGroup.local/anaconda3/envs/scenicplus/lib/python3.11/site-packages/pyranges/__init__.py:18: UserWarning: pkg_resources is deprecated as an API. See https://setuptools.pypa.io/en/latest/pkg_resources.html. The pkg_resources package is slated for removal as early as 2025-11-30. Refrain from using this package or pin to Setuptools<81.\n",
      "\u001b[36m(pid=3505524)\u001b[0m   import pkg_resources\n",
      "\u001b[36m(pid=3505518)\u001b[0m /home/rsun@ZHANGroup.local/anaconda3/envs/scenicplus/lib/python3.11/site-packages/pyranges/__init__.py:18: UserWarning: pkg_resources is deprecated as an API. See https://setuptools.pypa.io/en/latest/pkg_resources.html. The pkg_resources package is slated for removal as early as 2025-11-30. Refrain from using this package or pin to Setuptools<81.\u001b[32m [repeated 9x across cluster]\u001b[0m\n",
      "\u001b[36m(pid=3505518)\u001b[0m   import pkg_resources\u001b[32m [repeated 9x across cluster]\u001b[0m\n"
     ]
    },
    {
     "name": "stdout",
     "output_type": "stream",
     "text": [
      "2025-07-25 18:16:47,672 cisTopic     INFO     Creating fragment matrix\n",
      "2025-07-25 18:17:17,118 cisTopic     INFO     Converting fragment matrix to sparse matrix\n",
      "2025-07-25 18:17:20,450 cisTopic     INFO     Removing blacklisted regions\n",
      "2025-07-25 18:17:20,672 cisTopic     INFO     Creating CistopicObject\n",
      "2025-07-25 18:17:21,466 cisTopic     INFO     Done!\n",
      "2025-07-25 18:17:21,536 cisTopic     INFO     Reading data for CYCT\n",
      "2025-07-25 18:17:58,927 cisTopic     INFO     metrics provided!\n",
      "2025-07-25 18:18:00,435 cisTopic     INFO     Counting fragments in regions\n"
     ]
    },
    {
     "name": "stderr",
     "output_type": "stream",
     "text": [
      "2025-07-25 18:18:08,330\tINFO worker.py:1724 -- Started a local Ray instance.\n",
      "\u001b[36m(pid=3508539)\u001b[0m /home/rsun@ZHANGroup.local/anaconda3/envs/scenicplus/lib/python3.11/site-packages/pyranges/__init__.py:18: UserWarning: pkg_resources is deprecated as an API. See https://setuptools.pypa.io/en/latest/pkg_resources.html. The pkg_resources package is slated for removal as early as 2025-11-30. Refrain from using this package or pin to Setuptools<81.\n",
      "\u001b[36m(pid=3508539)\u001b[0m   import pkg_resources\n",
      "\u001b[36m(pid=3508540)\u001b[0m /home/rsun@ZHANGroup.local/anaconda3/envs/scenicplus/lib/python3.11/site-packages/pyranges/__init__.py:18: UserWarning: pkg_resources is deprecated as an API. See https://setuptools.pypa.io/en/latest/pkg_resources.html. The pkg_resources package is slated for removal as early as 2025-11-30. Refrain from using this package or pin to Setuptools<81.\u001b[32m [repeated 9x across cluster]\u001b[0m\n",
      "\u001b[36m(pid=3508540)\u001b[0m   import pkg_resources\u001b[32m [repeated 9x across cluster]\u001b[0m\n"
     ]
    },
    {
     "name": "stdout",
     "output_type": "stream",
     "text": [
      "2025-07-25 18:18:21,784 cisTopic     INFO     Creating fragment matrix\n",
      "2025-07-25 18:18:55,364 cisTopic     INFO     Converting fragment matrix to sparse matrix\n",
      "2025-07-25 18:19:00,501 cisTopic     INFO     Removing blacklisted regions\n",
      "2025-07-25 18:19:00,825 cisTopic     INFO     Creating CistopicObject\n",
      "2025-07-25 18:19:01,880 cisTopic     INFO     Done!\n",
      "2025-07-25 18:19:01,956 cisTopic     INFO     Reading data for QFXQ\n",
      "2025-07-25 18:19:37,059 cisTopic     INFO     metrics provided!\n",
      "2025-07-25 18:19:38,713 cisTopic     INFO     Counting fragments in regions\n"
     ]
    },
    {
     "name": "stderr",
     "output_type": "stream",
     "text": [
      "2025-07-25 18:19:46,742\tINFO worker.py:1724 -- Started a local Ray instance.\n",
      "\u001b[36m(pid=3511608)\u001b[0m /home/rsun@ZHANGroup.local/anaconda3/envs/scenicplus/lib/python3.11/site-packages/pyranges/__init__.py:18: UserWarning: pkg_resources is deprecated as an API. See https://setuptools.pypa.io/en/latest/pkg_resources.html. The pkg_resources package is slated for removal as early as 2025-11-30. Refrain from using this package or pin to Setuptools<81.\n",
      "\u001b[36m(pid=3511608)\u001b[0m   import pkg_resources\n",
      "\u001b[36m(pid=3511601)\u001b[0m /home/rsun@ZHANGroup.local/anaconda3/envs/scenicplus/lib/python3.11/site-packages/pyranges/__init__.py:18: UserWarning: pkg_resources is deprecated as an API. See https://setuptools.pypa.io/en/latest/pkg_resources.html. The pkg_resources package is slated for removal as early as 2025-11-30. Refrain from using this package or pin to Setuptools<81.\u001b[32m [repeated 9x across cluster]\u001b[0m\n",
      "\u001b[36m(pid=3511601)\u001b[0m   import pkg_resources\u001b[32m [repeated 9x across cluster]\u001b[0m\n"
     ]
    },
    {
     "name": "stdout",
     "output_type": "stream",
     "text": [
      "2025-07-25 18:19:59,830 cisTopic     INFO     Creating fragment matrix\n",
      "2025-07-25 18:20:30,996 cisTopic     INFO     Converting fragment matrix to sparse matrix\n",
      "2025-07-25 18:20:35,007 cisTopic     INFO     Removing blacklisted regions\n",
      "2025-07-25 18:20:35,314 cisTopic     INFO     Creating CistopicObject\n",
      "2025-07-25 18:20:37,153 cisTopic     INFO     Done!\n",
      "2025-07-25 18:20:37,218 cisTopic     INFO     Reading data for TQN\n",
      "2025-07-25 18:20:59,963 cisTopic     INFO     metrics provided!\n",
      "2025-07-25 18:21:00,883 cisTopic     INFO     Counting fragments in regions\n"
     ]
    },
    {
     "name": "stderr",
     "output_type": "stream",
     "text": [
      "2025-07-25 18:21:09,213\tINFO worker.py:1724 -- Started a local Ray instance.\n",
      "\u001b[36m(pid=3514586)\u001b[0m /home/rsun@ZHANGroup.local/anaconda3/envs/scenicplus/lib/python3.11/site-packages/pyranges/__init__.py:18: UserWarning: pkg_resources is deprecated as an API. See https://setuptools.pypa.io/en/latest/pkg_resources.html. The pkg_resources package is slated for removal as early as 2025-11-30. Refrain from using this package or pin to Setuptools<81.\n",
      "\u001b[36m(pid=3514586)\u001b[0m   import pkg_resources\n",
      "\u001b[36m(pid=3514588)\u001b[0m /home/rsun@ZHANGroup.local/anaconda3/envs/scenicplus/lib/python3.11/site-packages/pyranges/__init__.py:18: UserWarning: pkg_resources is deprecated as an API. See https://setuptools.pypa.io/en/latest/pkg_resources.html. The pkg_resources package is slated for removal as early as 2025-11-30. Refrain from using this package or pin to Setuptools<81.\u001b[32m [repeated 9x across cluster]\u001b[0m\n",
      "\u001b[36m(pid=3514588)\u001b[0m   import pkg_resources\u001b[32m [repeated 9x across cluster]\u001b[0m\n"
     ]
    },
    {
     "name": "stdout",
     "output_type": "stream",
     "text": [
      "2025-07-25 18:21:17,519 cisTopic     INFO     Creating fragment matrix\n",
      "2025-07-25 18:21:35,346 cisTopic     INFO     Converting fragment matrix to sparse matrix\n",
      "2025-07-25 18:21:38,387 cisTopic     INFO     Removing blacklisted regions\n",
      "2025-07-25 18:21:38,665 cisTopic     INFO     Creating CistopicObject\n",
      "2025-07-25 18:21:39,215 cisTopic     INFO     Done!\n",
      "2025-07-25 18:21:39,281 cisTopic     INFO     Reading data for TXQ\n",
      "2025-07-25 18:22:13,392 cisTopic     INFO     metrics provided!\n",
      "2025-07-25 18:22:14,630 cisTopic     INFO     Counting fragments in regions\n"
     ]
    },
    {
     "name": "stderr",
     "output_type": "stream",
     "text": [
      "2025-07-25 18:22:23,706\tINFO worker.py:1724 -- Started a local Ray instance.\n",
      "\u001b[36m(pid=3517558)\u001b[0m /home/rsun@ZHANGroup.local/anaconda3/envs/scenicplus/lib/python3.11/site-packages/pyranges/__init__.py:18: UserWarning: pkg_resources is deprecated as an API. See https://setuptools.pypa.io/en/latest/pkg_resources.html. The pkg_resources package is slated for removal as early as 2025-11-30. Refrain from using this package or pin to Setuptools<81.\n",
      "\u001b[36m(pid=3517558)\u001b[0m   import pkg_resources\n",
      "\u001b[36m(pid=3517552)\u001b[0m /home/rsun@ZHANGroup.local/anaconda3/envs/scenicplus/lib/python3.11/site-packages/pyranges/__init__.py:18: UserWarning: pkg_resources is deprecated as an API. See https://setuptools.pypa.io/en/latest/pkg_resources.html. The pkg_resources package is slated for removal as early as 2025-11-30. Refrain from using this package or pin to Setuptools<81.\u001b[32m [repeated 9x across cluster]\u001b[0m\n",
      "\u001b[36m(pid=3517552)\u001b[0m   import pkg_resources\u001b[32m [repeated 9x across cluster]\u001b[0m\n"
     ]
    },
    {
     "name": "stdout",
     "output_type": "stream",
     "text": [
      "2025-07-25 18:22:34,336 cisTopic     INFO     Creating fragment matrix\n",
      "2025-07-25 18:23:00,306 cisTopic     INFO     Converting fragment matrix to sparse matrix\n",
      "2025-07-25 18:23:05,126 cisTopic     INFO     Removing blacklisted regions\n",
      "2025-07-25 18:23:05,432 cisTopic     INFO     Creating CistopicObject\n",
      "2025-07-25 18:23:06,141 cisTopic     INFO     Done!\n",
      "2025-07-25 18:23:06,222 cisTopic     INFO     Reading data for TCT\n",
      "2025-07-25 18:23:31,760 cisTopic     INFO     metrics provided!\n",
      "2025-07-25 18:23:32,836 cisTopic     INFO     Counting fragments in regions\n"
     ]
    },
    {
     "name": "stderr",
     "output_type": "stream",
     "text": [
      "2025-07-25 18:23:40,897\tINFO worker.py:1724 -- Started a local Ray instance.\n",
      "\u001b[36m(pid=3520553)\u001b[0m /home/rsun@ZHANGroup.local/anaconda3/envs/scenicplus/lib/python3.11/site-packages/pyranges/__init__.py:18: UserWarning: pkg_resources is deprecated as an API. See https://setuptools.pypa.io/en/latest/pkg_resources.html. The pkg_resources package is slated for removal as early as 2025-11-30. Refrain from using this package or pin to Setuptools<81.\n",
      "\u001b[36m(pid=3520553)\u001b[0m   import pkg_resources\n",
      "\u001b[36m(pid=3520546)\u001b[0m /home/rsun@ZHANGroup.local/anaconda3/envs/scenicplus/lib/python3.11/site-packages/pyranges/__init__.py:18: UserWarning: pkg_resources is deprecated as an API. See https://setuptools.pypa.io/en/latest/pkg_resources.html. The pkg_resources package is slated for removal as early as 2025-11-30. Refrain from using this package or pin to Setuptools<81.\u001b[32m [repeated 9x across cluster]\u001b[0m\n",
      "\u001b[36m(pid=3520546)\u001b[0m   import pkg_resources\u001b[32m [repeated 9x across cluster]\u001b[0m\n"
     ]
    },
    {
     "name": "stdout",
     "output_type": "stream",
     "text": [
      "2025-07-25 18:23:49,907 cisTopic     INFO     Creating fragment matrix\n",
      "2025-07-25 18:24:14,031 cisTopic     INFO     Converting fragment matrix to sparse matrix\n",
      "2025-07-25 18:24:17,845 cisTopic     INFO     Removing blacklisted regions\n",
      "2025-07-25 18:24:18,126 cisTopic     INFO     Creating CistopicObject\n",
      "2025-07-25 18:24:18,775 cisTopic     INFO     Done!\n"
     ]
    }
   ],
   "source": [
    "path_to_regions = os.path.join(out_dir, \"consensus_peak_calling/consensus_regions.bed\")\n",
    "#path_to_blacklist = \"pycisTopic/blacklist/hg38-blacklist.v2.bed\"\n",
    "path_to_blacklist=\"/home/rsun@ZHANGroup.local/projects_list/pycisTopic-main/blacklist/mm10-blacklist.v2.bed\"\n",
    "pycistopic_qc_output_dir = os.path.join(out_dir,'qc')\n",
    "\n",
    "from pycisTopic.cistopic_class import create_cistopic_object_from_fragments\n",
    "import polars as pl\n",
    "\n",
    "cistopic_obj_list = []\n",
    "for sample_id in fragments_dict:\n",
    "    sample_metrics = pl.read_parquet(\n",
    "        os.path.join(pycistopic_qc_output_dir, f'{sample_id}.fragments_stats_per_cb.parquet')\n",
    "    ).to_pandas().set_index(\"CB\").loc[ sample_id_to_barcodes_passing_filters[sample_id] ]\n",
    "\n",
    "    \"\"\"process cell id\"\"\"\n",
    "    #new_idx = []\n",
    "    #for ele in sample_metrics.index.values:\n",
    "    #    new_idx.append(ele +'--')\n",
    "    #sample_metrics.index = new_idx\n",
    "    \n",
    "    cistopic_obj = create_cistopic_object_from_fragments(\n",
    "        path_to_fragments = fragments_dict[sample_id],\n",
    "        path_to_regions = path_to_regions,\n",
    "        path_to_blacklist = path_to_blacklist,\n",
    "        metrics = sample_metrics,\n",
    "        valid_bc = sample_id_to_barcodes_passing_filters[sample_id],\n",
    "        n_cpu = 10,\n",
    "        project = sample_id,\n",
    "        split_pattern = '_'\n",
    "    )\n",
    "    cistopic_obj_list.append(cistopic_obj)"
   ]
  },
  {
   "cell_type": "code",
   "execution_count": 20,
   "id": "b1e08af0",
   "metadata": {},
   "outputs": [
    {
     "name": "stdout",
     "output_type": "stream",
     "text": [
      "2025-07-26 03:44:29,939 cisTopic     INFO     cisTopic object 1 merged\n",
      "2025-07-26 03:44:42,493 cisTopic     INFO     cisTopic object 2 merged\n",
      "2025-07-26 03:44:57,748 cisTopic     INFO     cisTopic object 3 merged\n",
      "2025-07-26 03:45:23,799 cisTopic     INFO     cisTopic object 4 merged\n",
      "2025-07-26 03:45:45,421 cisTopic     INFO     cisTopic object 5 merged\n",
      "2025-07-26 03:46:06,667 cisTopic     INFO     cisTopic object 6 merged\n",
      "2025-07-26 03:46:42,275 cisTopic     INFO     cisTopic object 7 merged\n",
      "2025-07-26 03:47:03,245 cisTopic     INFO     cisTopic object 8 merged\n",
      "2025-07-26 03:47:48,541 cisTopic     INFO     cisTopic object 9 merged\n",
      "2025-07-26 03:48:16,025 cisTopic     INFO     cisTopic object 10 merged\n",
      "2025-07-26 03:49:30,560 cisTopic     INFO     cisTopic object 11 merged\n",
      "2025-07-26 03:49:54,386 cisTopic     INFO     cisTopic object 12 merged\n",
      "2025-07-26 03:50:14,152 cisTopic     INFO     cisTopic object 13 merged\n",
      "2025-07-26 03:52:01,711 cisTopic     INFO     cisTopic object 14 merged\n",
      "2025-07-26 03:52:34,657 cisTopic     INFO     cisTopic object 15 merged\n",
      "2025-07-26 03:53:14,351 cisTopic     INFO     cisTopic object 16 merged\n",
      "2025-07-26 03:53:39,137 cisTopic     INFO     cisTopic object 17 merged\n",
      "2025-07-26 03:54:09,658 cisTopic     INFO     cisTopic object 18 merged\n",
      "2025-07-26 03:55:16,676 cisTopic     INFO     cisTopic object 19 merged\n",
      "2025-07-26 03:56:35,154 cisTopic     INFO     cisTopic object 20 merged\n",
      "2025-07-26 03:57:44,922 cisTopic     INFO     cisTopic object 21 merged\n",
      "2025-07-26 03:58:26,218 cisTopic     INFO     cisTopic object 22 merged\n",
      "2025-07-26 03:59:10,740 cisTopic     INFO     cisTopic object 23 merged\n",
      "2025-07-26 03:59:51,202 cisTopic     INFO     cisTopic object 24 merged\n",
      "2025-07-26 04:00:56,532 cisTopic     INFO     cisTopic object 25 merged\n",
      "2025-07-26 04:02:38,669 cisTopic     INFO     cisTopic object 26 merged\n",
      "2025-07-26 04:04:28,987 cisTopic     INFO     cisTopic object 27 merged\n",
      "2025-07-26 04:05:10,065 cisTopic     INFO     cisTopic object 28 merged\n",
      "2025-07-26 04:05:50,038 cisTopic     INFO     cisTopic object 29 merged\n",
      "2025-07-26 04:06:27,901 cisTopic     INFO     cisTopic object 30 merged\n",
      "2025-07-26 04:07:47,202 cisTopic     INFO     cisTopic object 31 merged\n",
      "2025-07-26 04:08:28,195 cisTopic     INFO     cisTopic object 32 merged\n",
      "2025-07-26 04:09:44,949 cisTopic     INFO     cisTopic object 33 merged\n",
      "2025-07-26 04:11:20,941 cisTopic     INFO     cisTopic object 34 merged\n",
      "2025-07-26 04:12:24,633 cisTopic     INFO     cisTopic object 35 merged\n",
      "2025-07-26 04:13:18,398 cisTopic     INFO     cisTopic object 36 merged\n",
      "2025-07-26 04:14:05,477 cisTopic     INFO     cisTopic object 37 merged\n",
      "2025-07-26 04:15:06,240 cisTopic     INFO     cisTopic object 38 merged\n",
      "2025-07-26 04:15:57,544 cisTopic     INFO     cisTopic object 39 merged\n",
      "CistopicObject from project cisTopic_merge with n_cells × n_regions = 295888 × 387487\n"
     ]
    }
   ],
   "source": [
    "from pycisTopic.cistopic_class import merge \n",
    "\n",
    "cistopic_obj = merge(cistopic_obj_list, split_pattern = '_')\n",
    "print(cistopic_obj)"
   ]
  },
  {
   "cell_type": "code",
   "execution_count": 24,
   "id": "564fba0c",
   "metadata": {},
   "outputs": [],
   "source": [
    "from pycisTopic.cistopic_class import merge \n",
    "\n",
    "#cistopic_obj = merge(cistopic_obj_list, split_pattern = '-')\n",
    "#print(cistopic_obj)\n",
    "\n",
    "import pickle\n",
    "pickle.dump(\n",
    "    cistopic_obj,\n",
    "    open(os.path.join(out_dir, \"cistopic_obj.pkl\"), \"wb\")\n",
    ")\n",
    "\n",
    "cistopic_obj.add_cell_data(cell_data, split_pattern='_')\n",
    "pickle.dump(\n",
    "    cistopic_obj,\n",
    "    open(os.path.join(out_dir, \"cistopic_obj.pkl\"), \"wb\")\n",
    ")"
   ]
  },
  {
   "cell_type": "markdown",
   "id": "65db2660",
   "metadata": {},
   "source": [
    "## add metadata"
   ]
  },
  {
   "cell_type": "code",
   "execution_count": 27,
   "id": "2e59feae",
   "metadata": {},
   "outputs": [
    {
     "name": "stdout",
     "output_type": "stream",
     "text": [
      "Columns ['tissues', 'samples', 'total_counts', 'n_genes_by_counts', 'coarse_celltype', 'pct_counts_mt', 'n_genes', 'species', 'total_counts_mt', 'cluster', 'leiden', 'celltype'] will be overwritten\n"
     ]
    }
   ],
   "source": [
    "cistopic_obj.add_cell_data(cell_data, split_pattern='_')\n",
    "#cistopic_obj.cell_data\n",
    "pickle.dump(\n",
    "    cistopic_obj,\n",
    "    open(os.path.join(out_dir, \"cistopic_obj.pkl\"), \"wb\")\n",
    ")"
   ]
  },
  {
   "cell_type": "markdown",
   "id": "409a0d0a",
   "metadata": {},
   "source": [
    "## LDA model"
   ]
  },
  {
   "cell_type": "code",
   "execution_count": 1,
   "id": "dd67f5c6",
   "metadata": {},
   "outputs": [
    {
     "ename": "NameError",
     "evalue": "name 'os' is not defined",
     "output_type": "error",
     "traceback": [
      "\u001b[0;31m---------------------------------------------------------------------------\u001b[0m",
      "\u001b[0;31mNameError\u001b[0m                                 Traceback (most recent call last)",
      "Cell \u001b[0;32mIn[1], line 1\u001b[0m\n\u001b[0;32m----> 1\u001b[0m lda_path \u001b[38;5;241m=\u001b[39m \u001b[43mos\u001b[49m\u001b[38;5;241m.\u001b[39mpath\u001b[38;5;241m.\u001b[39mjoin(out_dir, \u001b[38;5;124m'\u001b[39m\u001b[38;5;124mlda_models\u001b[39m\u001b[38;5;124m'\u001b[39m)\n\u001b[1;32m      2\u001b[0m os\u001b[38;5;241m.\u001b[39mmakedirs(lda_path, exist_ok\u001b[38;5;241m=\u001b[39m\u001b[38;5;28;01mTrue\u001b[39;00m)\n\u001b[1;32m      3\u001b[0m os\u001b[38;5;241m.\u001b[39menviron[\u001b[38;5;124m'\u001b[39m\u001b[38;5;124mMALLET_MEMORY\u001b[39m\u001b[38;5;124m'\u001b[39m] \u001b[38;5;241m=\u001b[39m \u001b[38;5;124m'\u001b[39m\u001b[38;5;124m200G\u001b[39m\u001b[38;5;124m'\u001b[39m\n",
      "\u001b[0;31mNameError\u001b[0m: name 'os' is not defined"
     ]
    }
   ],
   "source": [
    "lda_path = os.path.join(out_dir, 'lda_models')\n",
    "os.makedirs(lda_path, exist_ok=True)\n",
    "os.environ['MALLET_MEMORY'] = '200G'\n",
    "from pycisTopic.lda_models import run_cgs_models_mallet\n",
    "# Configure path Mallet\n",
    "mallet_path=\"/home/rsun@ZHANGroup.local/projects_list/Mallet-202108/bin/mallet\"\n",
    "# Run models\n",
    "models=run_cgs_models_mallet(\n",
    "    cistopic_obj,\n",
    "    n_topics=[30, 40],\n",
    "    n_cpu=128,\n",
    "    n_iter=500,\n",
    "    random_state=555,\n",
    "    alpha=50,\n",
    "    alpha_by_topic=True,\n",
    "    eta=0.1,\n",
    "    eta_by_topic=False,\n",
    "    tmp_path=lda_path,\n",
    "    save_path=lda_path,\n",
    "    mallet_path=mallet_path,\n",
    ")\n",
    "\n",
    "pickle.dump(\n",
    "    models,\n",
    "    open(os.path.join(lda_path, \"models.pkl\"), \"wb\")\n",
    ")"
   ]
  },
  {
   "cell_type": "markdown",
   "id": "ca127ad9",
   "metadata": {},
   "source": [
    "## model selection"
   ]
  },
  {
   "cell_type": "code",
   "execution_count": 1,
   "id": "b7b50e10",
   "metadata": {},
   "outputs": [
    {
     "name": "stderr",
     "output_type": "stream",
     "text": [
      "/home/rsun@ZHANGroup.local/anaconda3/envs/scenicplus/lib/python3.11/site-packages/pycisTopic/__init__.py:3: UserWarning: pkg_resources is deprecated as an API. See https://setuptools.pypa.io/en/latest/pkg_resources.html. The pkg_resources package is slated for removal as early as 2025-11-30. Refrain from using this package or pin to Setuptools<81.\n",
      "  from pkg_resources import DistributionNotFound, get_distribution\n",
      "/home/rsun@ZHANGroup.local/anaconda3/envs/scenicplus/lib/python3.11/site-packages/tqdm/auto.py:21: TqdmWarning: IProgress not found. Please update jupyter and ipywidgets. See https://ipywidgets.readthedocs.io/en/stable/user_install.html\n",
      "  from .autonotebook import tqdm as notebook_tqdm\n",
      "2025-07-28 13:41:18,361\tINFO util.py:154 -- Missing packages: ['ipywidgets']. Run `pip install -U ipywidgets`, then restart the notebook server for rich notebook output.\n"
     ]
    },
    {
     "ename": "NameError",
     "evalue": "name 'models' is not defined",
     "output_type": "error",
     "traceback": [
      "\u001b[0;31m---------------------------------------------------------------------------\u001b[0m",
      "\u001b[0;31mNameError\u001b[0m                                 Traceback (most recent call last)",
      "Cell \u001b[0;32mIn[1], line 3\u001b[0m\n\u001b[1;32m      1\u001b[0m \u001b[38;5;28;01mfrom\u001b[39;00m \u001b[38;5;21;01mpycisTopic\u001b[39;00m\u001b[38;5;21;01m.\u001b[39;00m\u001b[38;5;21;01mlda_models\u001b[39;00m \u001b[38;5;28;01mimport\u001b[39;00m evaluate_models\n\u001b[1;32m      2\u001b[0m model \u001b[38;5;241m=\u001b[39m evaluate_models(\n\u001b[0;32m----> 3\u001b[0m     \u001b[43mmodels\u001b[49m,\n\u001b[1;32m      4\u001b[0m     select_model \u001b[38;5;241m=\u001b[39m \u001b[38;5;241m40\u001b[39m,\n\u001b[1;32m      5\u001b[0m     return_model \u001b[38;5;241m=\u001b[39m \u001b[38;5;28;01mTrue\u001b[39;00m\n\u001b[1;32m      6\u001b[0m )\n\u001b[1;32m      8\u001b[0m cistopic_obj\u001b[38;5;241m.\u001b[39madd_LDA_model(model)\n\u001b[1;32m      9\u001b[0m pickle\u001b[38;5;241m.\u001b[39mdump(\n\u001b[1;32m     10\u001b[0m     cistopic_obj,\n\u001b[1;32m     11\u001b[0m     \u001b[38;5;28mopen\u001b[39m(os\u001b[38;5;241m.\u001b[39mpath\u001b[38;5;241m.\u001b[39mjoin(out_dir, \u001b[38;5;124m\"\u001b[39m\u001b[38;5;124mcistopic_obj.pkl\u001b[39m\u001b[38;5;124m\"\u001b[39m), \u001b[38;5;124m\"\u001b[39m\u001b[38;5;124mwb\u001b[39m\u001b[38;5;124m\"\u001b[39m)\n\u001b[1;32m     12\u001b[0m )\n",
      "\u001b[0;31mNameError\u001b[0m: name 'models' is not defined"
     ]
    }
   ],
   "source": [
    "from pycisTopic.lda_models import evaluate_models\n",
    "model = evaluate_models(\n",
    "    models,\n",
    "    select_model = 40,\n",
    "    return_model = True\n",
    ")\n",
    "\n",
    "cistopic_obj.add_LDA_model(model)\n",
    "pickle.dump(\n",
    "    cistopic_obj,\n",
    "    open(os.path.join(out_dir, \"cistopic_obj.pkl\"), \"wb\")\n",
    ")"
   ]
  },
  {
   "cell_type": "markdown",
   "id": "1de73ca4",
   "metadata": {},
   "source": [
    "## 重新加载cistopic "
   ]
  },
  {
   "cell_type": "code",
   "execution_count": 4,
   "id": "142304ba",
   "metadata": {},
   "outputs": [
    {
     "data": {
      "text/plain": [
       "'\\nlda_path = os.path.join(out_dir, \\'lda_models\\')\\nfile_path = os.path.join(lda_path, \"models.pkl\")\\nwith open(file_path, \\'rb\\') as file:\\n    models = pickle.load(file)\\n\\nfrom pycisTopic.lda_models import evaluate_models\\nmodel = evaluate_models(\\n    models,\\n    select_model = 40,\\n    return_model = True\\n)\\n'"
      ]
     },
     "execution_count": 4,
     "metadata": {},
     "output_type": "execute_result"
    }
   ],
   "source": [
    "\n",
    "\n",
    "import pickle\n",
    "import pandas as pd \n",
    "import numpy as np \n",
    "import scanpy as sc\n",
    "import pycisTopic\n",
    "pycisTopic.__version__\n",
    "\n",
    "import os\n",
    "out_dir = \"scenic_brain_out\"\n",
    "os.makedirs(out_dir, exist_ok = True)\n",
    "\n",
    "file_path = os.path.join(out_dir, \"cistopic_obj.pkl\")\n",
    "\n",
    "with open(file_path, 'rb') as file:\n",
    "    cistopic_obj = pickle.load(file)\n",
    "\n",
    "\"\"\"\n",
    "lda_path = os.path.join(out_dir, 'lda_models')\n",
    "file_path = os.path.join(lda_path, \"models.pkl\")\n",
    "with open(file_path, 'rb') as file:\n",
    "    models = pickle.load(file)\n",
    "\n",
    "from pycisTopic.lda_models import evaluate_models\n",
    "model = evaluate_models(\n",
    "    models,\n",
    "    select_model = 40,\n",
    "    return_model = True\n",
    ")\n",
    "\"\"\"\n"
   ]
  },
  {
   "cell_type": "markdown",
   "id": "89a137e4",
   "metadata": {},
   "source": [
    "## cluster and vis"
   ]
  },
  {
   "cell_type": "code",
   "execution_count": null,
   "id": "1f825a90",
   "metadata": {},
   "outputs": [],
   "source": [
    "fig_dir = os.path.join(out_dir, 'figures')\n",
    "os.makedirs(fig_dir, exist_ok=True)\n",
    "\n",
    "from pycisTopic.clust_vis import (\n",
    "    find_clusters,\n",
    "    run_umap,\n",
    "    run_tsne,\n",
    "    plot_metadata,\n",
    "    plot_topic,\n",
    "    cell_topic_heatmap\n",
    ")\n",
    "\n",
    "\"\"\"\n",
    "find_clusters(\n",
    "    cistopic_obj,\n",
    "    target  = 'cell',\n",
    "    k = 10,\n",
    "    res = [0.25, 0.5],\n",
    "    prefix = 'pycisTopic_',\n",
    "    scale = True,\n",
    "    split_pattern = '_'\n",
    ")\n",
    "\"\"\"\n",
    "run_umap(\n",
    "    cistopic_obj,\n",
    "    target  = 'cell', scale=True)\n",
    "\n",
    "\n",
    "\n",
    "plot_metadata(\n",
    "    cistopic_obj,\n",
    "    reduction_name='UMAP',\n",
    "    variables=['species','tissues','celltype','coarse_celltype'],\n",
    "    target='cell',\n",
    "    text_size=10,\n",
    "    dot_size=5,\n",
    "    save = os.path.join(fig_dir,'topic_umap.pdf'))"
   ]
  },
  {
   "cell_type": "code",
   "execution_count": null,
   "id": "9be3dc24",
   "metadata": {},
   "outputs": [],
   "source": [
    "cell_topic_heatmap(\n",
    "    cistopic_obj,\n",
    "    variables = ['tissues'],\n",
    "    scale = False,\n",
    "    legend_loc_x = 1.0,\n",
    "    legend_loc_y = -1.2,\n",
    "    legend_dist_y = -1,\n",
    "    figsize = (10, 10)\n",
    ")"
   ]
  },
  {
   "cell_type": "markdown",
   "id": "e4e4a412",
   "metadata": {},
   "source": [
    "## TOPIC binary + QC"
   ]
  },
  {
   "cell_type": "code",
   "execution_count": 5,
   "id": "a2e4201f",
   "metadata": {},
   "outputs": [],
   "source": [
    "from pycisTopic.topic_binarization import binarize_topics\n",
    "\n",
    "region_bin_topics_top_3k = binarize_topics(\n",
    "    cistopic_obj, method='ntop', ntop = 3_000,\n",
    "    plot=False, num_columns=5\n",
    ")"
   ]
  },
  {
   "cell_type": "code",
   "execution_count": 6,
   "id": "30fbf11e",
   "metadata": {},
   "outputs": [],
   "source": [
    "region_bin_topics_otsu = binarize_topics(\n",
    "    cistopic_obj, method='otsu',\n",
    "    plot=False, num_columns=5\n",
    ")"
   ]
  },
  {
   "cell_type": "code",
   "execution_count": 7,
   "id": "bdce5f8c",
   "metadata": {},
   "outputs": [],
   "source": [
    "binarized_cell_topic = binarize_topics(\n",
    "    cistopic_obj,\n",
    "    target='cell',\n",
    "    method='li',\n",
    "    plot=False,\n",
    "    num_columns=5, nbins=100)"
   ]
  },
  {
   "cell_type": "code",
   "execution_count": 15,
   "id": "ccd3bf5b",
   "metadata": {},
   "outputs": [
    {
     "data": {
      "text/plain": [
       "\"\\nfig_dict={}\\nfig_dict['CoherenceVSAssignments']=plot_topic_qc(topic_qc_metrics, var_x='Coherence', var_y='Log10_Assignments', var_color='Gini_index', plot=False, return_fig=True)\\nfig_dict['AssignmentsVSCells_in_bin']=plot_topic_qc(topic_qc_metrics, var_x='Log10_Assignments', var_y='Cells_in_binarized_topic', var_color='Gini_index', plot=False, return_fig=True)\\nfig_dict['CoherenceVSCells_in_bin']=plot_topic_qc(topic_qc_metrics, var_x='Coherence', var_y='Cells_in_binarized_topic', var_color='Gini_index', plot=False, return_fig=True)\\nfig_dict['CoherenceVSRegions_in_bin']=plot_topic_qc(topic_qc_metrics, var_x='Coherence', var_y='Regions_in_binarized_topic', var_color='Gini_index', plot=False, return_fig=True)\\nfig_dict['CoherenceVSMarginal_dist']=plot_topic_qc(topic_qc_metrics, var_x='Coherence', var_y='Marginal_topic_dist', var_color='Gini_index', plot=False, return_fig=True)\\nfig_dict['CoherenceVSGini_index']=plot_topic_qc(topic_qc_metrics, var_x='Coherence', var_y='Gini_index', var_color='Gini_index', plot=False, return_fig=True)\\n\""
      ]
     },
     "execution_count": 15,
     "metadata": {},
     "output_type": "execute_result"
    }
   ],
   "source": [
    "from pycisTopic.topic_qc import compute_topic_metrics, plot_topic_qc, topic_annotation\n",
    "import matplotlib.pyplot as plt\n",
    "from pycisTopic.utils import fig2img\n",
    "\n",
    "topic_qc_metrics = compute_topic_metrics(cistopic_obj)\n",
    "\"\"\"\n",
    "fig_dict={}\n",
    "fig_dict['CoherenceVSAssignments']=plot_topic_qc(topic_qc_metrics, var_x='Coherence', var_y='Log10_Assignments', var_color='Gini_index', plot=False, return_fig=True)\n",
    "fig_dict['AssignmentsVSCells_in_bin']=plot_topic_qc(topic_qc_metrics, var_x='Log10_Assignments', var_y='Cells_in_binarized_topic', var_color='Gini_index', plot=False, return_fig=True)\n",
    "fig_dict['CoherenceVSCells_in_bin']=plot_topic_qc(topic_qc_metrics, var_x='Coherence', var_y='Cells_in_binarized_topic', var_color='Gini_index', plot=False, return_fig=True)\n",
    "fig_dict['CoherenceVSRegions_in_bin']=plot_topic_qc(topic_qc_metrics, var_x='Coherence', var_y='Regions_in_binarized_topic', var_color='Gini_index', plot=False, return_fig=True)\n",
    "fig_dict['CoherenceVSMarginal_dist']=plot_topic_qc(topic_qc_metrics, var_x='Coherence', var_y='Marginal_topic_dist', var_color='Gini_index', plot=False, return_fig=True)\n",
    "fig_dict['CoherenceVSGini_index']=plot_topic_qc(topic_qc_metrics, var_x='Coherence', var_y='Gini_index', var_color='Gini_index', plot=False, return_fig=True)\n",
    "\n",
    "# Plot topic stats in one figure\n",
    "fig=plt.figure(figsize=(40, 43))\n",
    "i = 1\n",
    "for fig_ in fig_dict.keys():\n",
    "    plt.subplot(2, 3, i)\n",
    "    img = fig2img(fig_dict[fig_]) #To convert figures to png to plot together, see .utils.py. This converts the figure to png.\n",
    "    plt.imshow(img)\n",
    "    plt.axis('off')\n",
    "    i += 1\n",
    "plt.subplots_adjust(wspace=0, hspace=-0.70)\n",
    "plt.show()\n",
    "\"\"\""
   ]
  },
  {
   "cell_type": "code",
   "execution_count": null,
   "id": "e84ae642",
   "metadata": {},
   "outputs": [
    {
     "name": "stderr",
     "output_type": "stream",
     "text": [
      "/home/rsun@ZHANGroup.local/anaconda3/envs/scenicplus/lib/python3.11/site-packages/statsmodels/stats/weightstats.py:792: RuntimeWarning: divide by zero encountered in scalar divide\n",
      "  zstat = value / std\n"
     ]
    },
    {
     "data": {
      "text/html": [
       "<div>\n",
       "<style scoped>\n",
       "    .dataframe tbody tr th:only-of-type {\n",
       "        vertical-align: middle;\n",
       "    }\n",
       "\n",
       "    .dataframe tbody tr th {\n",
       "        vertical-align: top;\n",
       "    }\n",
       "\n",
       "    .dataframe thead th {\n",
       "        text-align: right;\n",
       "    }\n",
       "</style>\n",
       "<table border=\"1\" class=\"dataframe\">\n",
       "  <thead>\n",
       "    <tr style=\"text-align: right;\">\n",
       "      <th></th>\n",
       "      <th>tissues</th>\n",
       "      <th>Ratio_cells_in_topic</th>\n",
       "      <th>Ratio_group_in_population</th>\n",
       "      <th>is_general</th>\n",
       "    </tr>\n",
       "  </thead>\n",
       "  <tbody>\n",
       "    <tr>\n",
       "      <th>Topic1</th>\n",
       "      <td>QN, NG</td>\n",
       "      <td>0.049167</td>\n",
       "      <td>0.244846</td>\n",
       "      <td>False</td>\n",
       "    </tr>\n",
       "    <tr>\n",
       "      <th>Topic2</th>\n",
       "      <td>PC, QN, NG</td>\n",
       "      <td>0.063913</td>\n",
       "      <td>0.352485</td>\n",
       "      <td>False</td>\n",
       "    </tr>\n",
       "    <tr>\n",
       "      <th>Topic3</th>\n",
       "      <td>PC</td>\n",
       "      <td>0.022593</td>\n",
       "      <td>0.107639</td>\n",
       "      <td>False</td>\n",
       "    </tr>\n",
       "    <tr>\n",
       "      <th>Topic4</th>\n",
       "      <td>BQ, XQ, YB</td>\n",
       "      <td>0.333248</td>\n",
       "      <td>0.386873</td>\n",
       "      <td>False</td>\n",
       "    </tr>\n",
       "    <tr>\n",
       "      <th>Topic5</th>\n",
       "      <td>NG, CT</td>\n",
       "      <td>0.037491</td>\n",
       "      <td>0.271937</td>\n",
       "      <td>False</td>\n",
       "    </tr>\n",
       "    <tr>\n",
       "      <th>Topic6</th>\n",
       "      <td>BQ, YB</td>\n",
       "      <td>0.063142</td>\n",
       "      <td>0.225518</td>\n",
       "      <td>False</td>\n",
       "    </tr>\n",
       "    <tr>\n",
       "      <th>Topic7</th>\n",
       "      <td>XQ</td>\n",
       "      <td>0.03092</td>\n",
       "      <td>0.161355</td>\n",
       "      <td>False</td>\n",
       "    </tr>\n",
       "    <tr>\n",
       "      <th>Topic8</th>\n",
       "      <td>CT</td>\n",
       "      <td>0.020934</td>\n",
       "      <td>0.150939</td>\n",
       "      <td>False</td>\n",
       "    </tr>\n",
       "    <tr>\n",
       "      <th>Topic9</th>\n",
       "      <td>PC, HM</td>\n",
       "      <td>0.044483</td>\n",
       "      <td>0.217342</td>\n",
       "      <td>False</td>\n",
       "    </tr>\n",
       "    <tr>\n",
       "      <th>Topic10</th>\n",
       "      <td>HM, QN, NG</td>\n",
       "      <td>0.047744</td>\n",
       "      <td>0.35455</td>\n",
       "      <td>False</td>\n",
       "    </tr>\n",
       "    <tr>\n",
       "      <th>Topic11</th>\n",
       "      <td>QN, NG</td>\n",
       "      <td>0.050688</td>\n",
       "      <td>0.244846</td>\n",
       "      <td>False</td>\n",
       "    </tr>\n",
       "    <tr>\n",
       "      <th>Topic12</th>\n",
       "      <td>NG, CT</td>\n",
       "      <td>0.049826</td>\n",
       "      <td>0.271937</td>\n",
       "      <td>False</td>\n",
       "    </tr>\n",
       "    <tr>\n",
       "      <th>Topic13</th>\n",
       "      <td>QN, NG</td>\n",
       "      <td>0.02212</td>\n",
       "      <td>0.244846</td>\n",
       "      <td>False</td>\n",
       "    </tr>\n",
       "    <tr>\n",
       "      <th>Topic14</th>\n",
       "      <td>PC, HM</td>\n",
       "      <td>0.02405</td>\n",
       "      <td>0.217342</td>\n",
       "      <td>False</td>\n",
       "    </tr>\n",
       "    <tr>\n",
       "      <th>Topic15</th>\n",
       "      <td>BQ, PC, XQ, YB, CT</td>\n",
       "      <td>0.192306</td>\n",
       "      <td>0.64545</td>\n",
       "      <td>False</td>\n",
       "    </tr>\n",
       "    <tr>\n",
       "      <th>Topic16</th>\n",
       "      <td>PC, HM</td>\n",
       "      <td>0.029515</td>\n",
       "      <td>0.217342</td>\n",
       "      <td>False</td>\n",
       "    </tr>\n",
       "    <tr>\n",
       "      <th>Topic17</th>\n",
       "      <td>BQ, YB</td>\n",
       "      <td>0.051124</td>\n",
       "      <td>0.225518</td>\n",
       "      <td>False</td>\n",
       "    </tr>\n",
       "    <tr>\n",
       "      <th>Topic18</th>\n",
       "      <td>PC, NG, CT</td>\n",
       "      <td>0.271532</td>\n",
       "      <td>0.379576</td>\n",
       "      <td>False</td>\n",
       "    </tr>\n",
       "    <tr>\n",
       "      <th>Topic19</th>\n",
       "      <td>QN, NG</td>\n",
       "      <td>0.028727</td>\n",
       "      <td>0.244846</td>\n",
       "      <td>False</td>\n",
       "    </tr>\n",
       "    <tr>\n",
       "      <th>Topic20</th>\n",
       "      <td>QN, NG, XQ, CT</td>\n",
       "      <td>0.077766</td>\n",
       "      <td>0.55714</td>\n",
       "      <td>False</td>\n",
       "    </tr>\n",
       "    <tr>\n",
       "      <th>Topic21</th>\n",
       "      <td>CT</td>\n",
       "      <td>0.027</td>\n",
       "      <td>0.150939</td>\n",
       "      <td>False</td>\n",
       "    </tr>\n",
       "    <tr>\n",
       "      <th>Topic22</th>\n",
       "      <td>XQ</td>\n",
       "      <td>0.031272</td>\n",
       "      <td>0.161355</td>\n",
       "      <td>False</td>\n",
       "    </tr>\n",
       "    <tr>\n",
       "      <th>Topic23</th>\n",
       "      <td>QN, CT</td>\n",
       "      <td>0.023489</td>\n",
       "      <td>0.274786</td>\n",
       "      <td>False</td>\n",
       "    </tr>\n",
       "    <tr>\n",
       "      <th>Topic24</th>\n",
       "      <td>BQ, YB</td>\n",
       "      <td>0.441295</td>\n",
       "      <td>0.225518</td>\n",
       "      <td>True</td>\n",
       "    </tr>\n",
       "    <tr>\n",
       "      <th>Topic25</th>\n",
       "      <td>PC, QN, NG, CT</td>\n",
       "      <td>0.297285</td>\n",
       "      <td>0.503424</td>\n",
       "      <td>False</td>\n",
       "    </tr>\n",
       "    <tr>\n",
       "      <th>Topic26</th>\n",
       "      <td>QN, NG</td>\n",
       "      <td>0.028511</td>\n",
       "      <td>0.244846</td>\n",
       "      <td>False</td>\n",
       "    </tr>\n",
       "    <tr>\n",
       "      <th>Topic27</th>\n",
       "      <td>XQ</td>\n",
       "      <td>0.029542</td>\n",
       "      <td>0.161355</td>\n",
       "      <td>False</td>\n",
       "    </tr>\n",
       "    <tr>\n",
       "      <th>Topic28</th>\n",
       "      <td>BQ, YB</td>\n",
       "      <td>0.032762</td>\n",
       "      <td>0.225518</td>\n",
       "      <td>False</td>\n",
       "    </tr>\n",
       "    <tr>\n",
       "      <th>Topic29</th>\n",
       "      <td>BQ, YB</td>\n",
       "      <td>0.030897</td>\n",
       "      <td>0.225518</td>\n",
       "      <td>False</td>\n",
       "    </tr>\n",
       "    <tr>\n",
       "      <th>Topic30</th>\n",
       "      <td>XQ</td>\n",
       "      <td>0.035902</td>\n",
       "      <td>0.161355</td>\n",
       "      <td>False</td>\n",
       "    </tr>\n",
       "    <tr>\n",
       "      <th>Topic31</th>\n",
       "      <td>CT</td>\n",
       "      <td>0.02969</td>\n",
       "      <td>0.150939</td>\n",
       "      <td>False</td>\n",
       "    </tr>\n",
       "    <tr>\n",
       "      <th>Topic32</th>\n",
       "      <td>HM</td>\n",
       "      <td>0.010328</td>\n",
       "      <td>0.109704</td>\n",
       "      <td>False</td>\n",
       "    </tr>\n",
       "    <tr>\n",
       "      <th>Topic33</th>\n",
       "      <td>XQ</td>\n",
       "      <td>0.028832</td>\n",
       "      <td>0.161355</td>\n",
       "      <td>False</td>\n",
       "    </tr>\n",
       "    <tr>\n",
       "      <th>Topic34</th>\n",
       "      <td>BQ, YB</td>\n",
       "      <td>0.034047</td>\n",
       "      <td>0.225518</td>\n",
       "      <td>False</td>\n",
       "    </tr>\n",
       "    <tr>\n",
       "      <th>Topic35</th>\n",
       "      <td>PC, HM, NG</td>\n",
       "      <td>0.023049</td>\n",
       "      <td>0.338341</td>\n",
       "      <td>False</td>\n",
       "    </tr>\n",
       "    <tr>\n",
       "      <th>Topic36</th>\n",
       "      <td>QN, NG, CT</td>\n",
       "      <td>0.031093</td>\n",
       "      <td>0.395785</td>\n",
       "      <td>False</td>\n",
       "    </tr>\n",
       "    <tr>\n",
       "      <th>Topic37</th>\n",
       "      <td>PC, QN, NG</td>\n",
       "      <td>0.04473</td>\n",
       "      <td>0.352485</td>\n",
       "      <td>False</td>\n",
       "    </tr>\n",
       "    <tr>\n",
       "      <th>Topic38</th>\n",
       "      <td>PC, HM</td>\n",
       "      <td>0.038065</td>\n",
       "      <td>0.217342</td>\n",
       "      <td>False</td>\n",
       "    </tr>\n",
       "    <tr>\n",
       "      <th>Topic39</th>\n",
       "      <td>PC, HM, QN, NG</td>\n",
       "      <td>0.017115</td>\n",
       "      <td>0.462188</td>\n",
       "      <td>False</td>\n",
       "    </tr>\n",
       "    <tr>\n",
       "      <th>Topic40</th>\n",
       "      <td>QN, NG</td>\n",
       "      <td>0.037903</td>\n",
       "      <td>0.244846</td>\n",
       "      <td>False</td>\n",
       "    </tr>\n",
       "  </tbody>\n",
       "</table>\n",
       "</div>"
      ],
      "text/plain": [
       "                    tissues Ratio_cells_in_topic Ratio_group_in_population  \\\n",
       "Topic1               QN, NG             0.049167                  0.244846   \n",
       "Topic2           PC, QN, NG             0.063913                  0.352485   \n",
       "Topic3                   PC             0.022593                  0.107639   \n",
       "Topic4           BQ, XQ, YB             0.333248                  0.386873   \n",
       "Topic5               NG, CT             0.037491                  0.271937   \n",
       "Topic6               BQ, YB             0.063142                  0.225518   \n",
       "Topic7                   XQ              0.03092                  0.161355   \n",
       "Topic8                   CT             0.020934                  0.150939   \n",
       "Topic9               PC, HM             0.044483                  0.217342   \n",
       "Topic10          HM, QN, NG             0.047744                   0.35455   \n",
       "Topic11              QN, NG             0.050688                  0.244846   \n",
       "Topic12              NG, CT             0.049826                  0.271937   \n",
       "Topic13              QN, NG              0.02212                  0.244846   \n",
       "Topic14              PC, HM              0.02405                  0.217342   \n",
       "Topic15  BQ, PC, XQ, YB, CT             0.192306                   0.64545   \n",
       "Topic16              PC, HM             0.029515                  0.217342   \n",
       "Topic17              BQ, YB             0.051124                  0.225518   \n",
       "Topic18          PC, NG, CT             0.271532                  0.379576   \n",
       "Topic19              QN, NG             0.028727                  0.244846   \n",
       "Topic20      QN, NG, XQ, CT             0.077766                   0.55714   \n",
       "Topic21                  CT                0.027                  0.150939   \n",
       "Topic22                  XQ             0.031272                  0.161355   \n",
       "Topic23              QN, CT             0.023489                  0.274786   \n",
       "Topic24              BQ, YB             0.441295                  0.225518   \n",
       "Topic25      PC, QN, NG, CT             0.297285                  0.503424   \n",
       "Topic26              QN, NG             0.028511                  0.244846   \n",
       "Topic27                  XQ             0.029542                  0.161355   \n",
       "Topic28              BQ, YB             0.032762                  0.225518   \n",
       "Topic29              BQ, YB             0.030897                  0.225518   \n",
       "Topic30                  XQ             0.035902                  0.161355   \n",
       "Topic31                  CT              0.02969                  0.150939   \n",
       "Topic32                  HM             0.010328                  0.109704   \n",
       "Topic33                  XQ             0.028832                  0.161355   \n",
       "Topic34              BQ, YB             0.034047                  0.225518   \n",
       "Topic35          PC, HM, NG             0.023049                  0.338341   \n",
       "Topic36          QN, NG, CT             0.031093                  0.395785   \n",
       "Topic37          PC, QN, NG              0.04473                  0.352485   \n",
       "Topic38              PC, HM             0.038065                  0.217342   \n",
       "Topic39      PC, HM, QN, NG             0.017115                  0.462188   \n",
       "Topic40              QN, NG             0.037903                  0.244846   \n",
       "\n",
       "         is_general  \n",
       "Topic1        False  \n",
       "Topic2        False  \n",
       "Topic3        False  \n",
       "Topic4        False  \n",
       "Topic5        False  \n",
       "Topic6        False  \n",
       "Topic7        False  \n",
       "Topic8        False  \n",
       "Topic9        False  \n",
       "Topic10       False  \n",
       "Topic11       False  \n",
       "Topic12       False  \n",
       "Topic13       False  \n",
       "Topic14       False  \n",
       "Topic15       False  \n",
       "Topic16       False  \n",
       "Topic17       False  \n",
       "Topic18       False  \n",
       "Topic19       False  \n",
       "Topic20       False  \n",
       "Topic21       False  \n",
       "Topic22       False  \n",
       "Topic23       False  \n",
       "Topic24        True  \n",
       "Topic25       False  \n",
       "Topic26       False  \n",
       "Topic27       False  \n",
       "Topic28       False  \n",
       "Topic29       False  \n",
       "Topic30       False  \n",
       "Topic31       False  \n",
       "Topic32       False  \n",
       "Topic33       False  \n",
       "Topic34       False  \n",
       "Topic35       False  \n",
       "Topic36       False  \n",
       "Topic37       False  \n",
       "Topic38       False  \n",
       "Topic39       False  \n",
       "Topic40       False  "
      ]
     },
     "execution_count": 16,
     "metadata": {},
     "output_type": "execute_result"
    },
    {
     "ename": "",
     "evalue": "",
     "output_type": "error",
     "traceback": [
      "\u001b[1;31m在当前单元格或上一个单元格中执行代码时 Kernel 崩溃。\n",
      "\u001b[1;31m请查看单元格中的代码，以确定故障的可能原因。\n",
      "\u001b[1;31m单击<a href='https://aka.ms/vscodeJupyterKernelCrash'>此处</a>了解详细信息。\n",
      "\u001b[1;31m有关更多详细信息，请查看 Jupyter <a href='command:jupyter.viewOutput'>log</a>。"
     ]
    }
   ],
   "source": [
    "topic_annot = topic_annotation(\n",
    "    cistopic_obj,\n",
    "    annot_var='tissues',\n",
    "    binarized_cell_topic=binarized_cell_topic,\n",
    "    general_topic_thr = 0.2\n",
    ")\n",
    "topic_annot"
   ]
  },
  {
   "cell_type": "markdown",
   "id": "9b96546e",
   "metadata": {},
   "source": [
    "## DARs"
   ]
  },
  {
   "cell_type": "code",
   "execution_count": 8,
   "id": "fdbc31d4",
   "metadata": {},
   "outputs": [
    {
     "name": "stdout",
     "output_type": "stream",
     "text": [
      "2025-07-28 13:42:54,276 cisTopic     INFO     Imputing region accessibility\n",
      "2025-07-28 13:42:54,277 cisTopic     INFO     Impute region accessibility for regions 0-20000\n",
      "2025-07-28 13:43:14,365 cisTopic     INFO     Impute region accessibility for regions 20000-40000\n",
      "2025-07-28 13:43:33,431 cisTopic     INFO     Impute region accessibility for regions 40000-60000\n",
      "2025-07-28 13:43:56,656 cisTopic     INFO     Impute region accessibility for regions 60000-80000\n",
      "2025-07-28 13:44:21,398 cisTopic     INFO     Impute region accessibility for regions 80000-100000\n",
      "2025-07-28 13:44:41,802 cisTopic     INFO     Impute region accessibility for regions 100000-120000\n",
      "2025-07-28 13:45:01,943 cisTopic     INFO     Impute region accessibility for regions 120000-140000\n",
      "2025-07-28 13:45:22,696 cisTopic     INFO     Impute region accessibility for regions 140000-160000\n",
      "2025-07-28 13:45:55,535 cisTopic     INFO     Impute region accessibility for regions 160000-180000\n",
      "2025-07-28 13:46:14,631 cisTopic     INFO     Impute region accessibility for regions 180000-200000\n",
      "2025-07-28 13:46:34,005 cisTopic     INFO     Impute region accessibility for regions 200000-220000\n",
      "2025-07-28 13:47:05,785 cisTopic     INFO     Impute region accessibility for regions 220000-240000\n",
      "2025-07-28 13:47:25,125 cisTopic     INFO     Impute region accessibility for regions 240000-260000\n",
      "2025-07-28 13:47:44,383 cisTopic     INFO     Impute region accessibility for regions 260000-280000\n",
      "2025-07-28 13:48:07,544 cisTopic     INFO     Impute region accessibility for regions 280000-300000\n",
      "2025-07-28 13:48:31,534 cisTopic     INFO     Impute region accessibility for regions 300000-320000\n",
      "2025-07-28 13:48:54,054 cisTopic     INFO     Impute region accessibility for regions 320000-340000\n",
      "2025-07-28 13:49:32,477 cisTopic     INFO     Impute region accessibility for regions 340000-360000\n",
      "2025-07-28 13:49:53,155 cisTopic     INFO     Impute region accessibility for regions 360000-380000\n",
      "2025-07-28 13:50:12,685 cisTopic     INFO     Impute region accessibility for regions 380000-400000\n",
      "2025-07-28 13:50:20,790 cisTopic     INFO     Done!\n"
     ]
    }
   ],
   "source": [
    "from pycisTopic.diff_features import (\n",
    "    impute_accessibility,\n",
    "    normalize_scores,\n",
    "    find_highly_variable_features,\n",
    "    find_diff_features\n",
    ")\n",
    "import numpy as np\n",
    "\n",
    "imputed_acc_obj = impute_accessibility(\n",
    "    cistopic_obj,\n",
    "    selected_cells=None,\n",
    "    selected_regions=None,\n",
    "    scale_factor=10**6\n",
    ")\n"
   ]
  },
  {
   "cell_type": "code",
   "execution_count": 9,
   "id": "ce758074",
   "metadata": {},
   "outputs": [
    {
     "name": "stderr",
     "output_type": "stream",
     "text": [
      "100%|██████████| 2959/2959 [26:26<00:00,  1.86it/s]\n"
     ]
    }
   ],
   "source": [
    "## 原始的 cistopic的 normalize太慢了。。。\n",
    "\n",
    "from tqdm import tqdm \n",
    "X = imputed_acc_obj.mtx\n",
    "X = X.astype(np.float32)\n",
    "b = 100\n",
    "scale_factor = 1e6\n",
    "\n",
    "result = []\n",
    "for i in tqdm(range(0,X.shape[1],b)):\n",
    "    tmp_x = X[:, i:min(i+b, X.shape[1])]\n",
    "    scale_x = np.log1p(scale_factor * (tmp_x / (np.sum(tmp_x, axis = 0))))\n",
    "    X[:,i:min(i+b, X.shape[1])] = scale_x    "
   ]
  },
  {
   "cell_type": "code",
   "execution_count": 10,
   "id": "f2dcb9f6",
   "metadata": {},
   "outputs": [],
   "source": [
    "from pycisTopic.cistopic_class import CistopicObject\n",
    "from pycisTopic.diff_features import CistopicImputedFeatures\n",
    "normalized_imputed_acc_obj =    CistopicImputedFeatures(\n",
    "            X,\n",
    "            imputed_acc_obj.feature_names,\n",
    "            imputed_acc_obj.cell_names,\n",
    "            imputed_acc_obj.project,\n",
    "        )"
   ]
  },
  {
   "cell_type": "code",
   "execution_count": 11,
   "id": "8a1d7c75",
   "metadata": {},
   "outputs": [
    {
     "name": "stdout",
     "output_type": "stream",
     "text": [
      "2025-07-28 14:17:58,729 cisTopic     INFO     Calculating mean\n",
      "2025-07-28 14:18:30,875 cisTopic     INFO     Calculating variance\n",
      "2025-07-28 14:21:25,632 cisTopic     INFO     Done!\n"
     ]
    },
    {
     "data": {
      "text/plain": [
       "<Figure size 640x480 with 0 Axes>"
      ]
     },
     "metadata": {},
     "output_type": "display_data"
    }
   ],
   "source": [
    "#normalized_imputed_acc_obj = normalize_scores(imputed_acc_obj, scale_factor=10**4)\n",
    "\n",
    "variable_regions = find_highly_variable_features(\n",
    "    normalized_imputed_acc_obj,\n",
    "    min_disp = 0.05,\n",
    "    min_mean = 0.0125,\n",
    "    max_mean = 3,\n",
    "    max_disp = np.inf,\n",
    "    n_bins=20,\n",
    "    #n_top_features=6000,\n",
    "    plot=False\n",
    ")"
   ]
  },
  {
   "cell_type": "code",
   "execution_count": 12,
   "id": "182e20d9",
   "metadata": {},
   "outputs": [
    {
     "name": "stdout",
     "output_type": "stream",
     "text": [
      "181246\n"
     ]
    },
    {
     "name": "stderr",
     "output_type": "stream",
     "text": [
      "2025-07-28 14:23:30,217\tINFO worker.py:1724 -- Started a local Ray instance.\n"
     ]
    },
    {
     "name": "stdout",
     "output_type": "stream",
     "text": [
      "2025-07-28 14:23:31,046 cisTopic     INFO     Subsetting data for BQ (33637 of 295888)\n",
      "2025-07-28 14:23:52,407 cisTopic     INFO     Computing p-value for BQ\n"
     ]
    },
    {
     "name": "stderr",
     "output_type": "stream",
     "text": [
      "\u001b[36m(raylet)\u001b[0m Spilled 23256 MiB, 1 objects, write throughput 252 MiB/s. Set RAY_verbose_spill_logs=0 to disable this message.\n",
      "\u001b[36m(raylet)\u001b[0m Spilled 204576 MiB, 2 objects, write throughput 233 MiB/s.\n",
      "\u001b[36m(get_wilcox_test_pvalues_ray pid=960541)\u001b[0m /home/rsun@ZHANGroup.local/anaconda3/envs/scenicplus/lib/python3.11/site-packages/ray/_private/pydantic_compat.py:2: UserWarning: pkg_resources is deprecated as an API. See https://setuptools.pypa.io/en/latest/pkg_resources.html. The pkg_resources package is slated for removal as early as 2025-11-30. Refrain from using this package or pin to Setuptools<81.\n",
      "\u001b[36m(get_wilcox_test_pvalues_ray pid=960541)\u001b[0m   from pkg_resources import packaging\n"
     ]
    },
    {
     "name": "stdout",
     "output_type": "stream",
     "text": [
      "2025-07-28 14:46:09,662 cisTopic     INFO     Computing log2FC for BQ\n",
      "2025-07-28 14:46:17,211 cisTopic     INFO     BQ done!\n",
      "2025-07-28 14:46:40,223 cisTopic     INFO     Subsetting data for CT (44661 of 295888)\n",
      "2025-07-28 14:46:52,922 cisTopic     INFO     Computing p-value for CT\n"
     ]
    },
    {
     "name": "stderr",
     "output_type": "stream",
     "text": [
      "\u001b[36m(raylet)\u001b[0m Spilled 235455 MiB, 3 objects, write throughput 234 MiB/s.\n",
      "\u001b[36m(get_wilcox_test_pvalues_ray pid=960527)\u001b[0m /home/rsun@ZHANGroup.local/anaconda3/envs/scenicplus/lib/python3.11/site-packages/ray/_private/pydantic_compat.py:2: UserWarning: pkg_resources is deprecated as an API. See https://setuptools.pypa.io/en/latest/pkg_resources.html. The pkg_resources package is slated for removal as early as 2025-11-30. Refrain from using this package or pin to Setuptools<81.\u001b[32m [repeated 39x across cluster] (Ray deduplicates logs by default. Set RAY_DEDUP_LOGS=0 to disable log deduplication, or see https://docs.ray.io/en/master/ray-observability/ray-logging.html#log-deduplication for more options.)\u001b[0m\n",
      "\u001b[36m(get_wilcox_test_pvalues_ray pid=960527)\u001b[0m   from pkg_resources import packaging\u001b[32m [repeated 39x across cluster]\u001b[0m\n",
      "\u001b[36m(raylet)\u001b[0m Spilled 409153 MiB, 4 objects, write throughput 236 MiB/s.\n"
     ]
    },
    {
     "name": "stdout",
     "output_type": "stream",
     "text": [
      "2025-07-28 15:08:09,432 cisTopic     INFO     Computing log2FC for CT\n",
      "2025-07-28 15:08:10,823 cisTopic     INFO     CT done!\n",
      "2025-07-28 15:08:35,827 cisTopic     INFO     Subsetting data for HM (32460 of 295888)\n",
      "2025-07-28 15:08:48,435 cisTopic     INFO     Computing p-value for HM\n"
     ]
    },
    {
     "name": "stderr",
     "output_type": "stream",
     "text": [
      "\u001b[36m(raylet)\u001b[0m Spilled 431595 MiB, 5 objects, write throughput 236 MiB/s.\n",
      "\u001b[36m(raylet)\u001b[0m Spilled 613729 MiB, 6 objects, write throughput 236 MiB/s.\n"
     ]
    },
    {
     "name": "stdout",
     "output_type": "stream",
     "text": [
      "2025-07-28 15:29:47,614 cisTopic     INFO     Computing log2FC for HM\n",
      "2025-07-28 15:29:48,965 cisTopic     INFO     HM done!\n",
      "2025-07-28 15:30:17,598 cisTopic     INFO     Subsetting data for NG (35802 of 295888)\n",
      "2025-07-28 15:30:30,176 cisTopic     INFO     Computing p-value for NG\n"
     ]
    },
    {
     "name": "stderr",
     "output_type": "stream",
     "text": [
      "\u001b[36m(raylet)\u001b[0m Spilled 638483 MiB, 7 objects, write throughput 236 MiB/s.\n",
      "\u001b[36m(raylet)\u001b[0m Spilled 818306 MiB, 8 objects, write throughput 236 MiB/s.\n"
     ]
    },
    {
     "name": "stdout",
     "output_type": "stream",
     "text": [
      "2025-07-28 15:51:32,371 cisTopic     INFO     Computing log2FC for NG\n",
      "2025-07-28 15:51:33,857 cisTopic     INFO     NG done!\n",
      "2025-07-28 15:52:07,776 cisTopic     INFO     Subsetting data for PC (31849 of 295888)\n",
      "2025-07-28 15:52:20,612 cisTopic     INFO     Computing p-value for PC\n"
     ]
    },
    {
     "name": "stderr",
     "output_type": "stream",
     "text": [
      "\u001b[36m(raylet)\u001b[0m Spilled 840326 MiB, 9 objects, write throughput 236 MiB/s.\n"
     ]
    },
    {
     "name": "stdout",
     "output_type": "stream",
     "text": [
      "2025-07-28 16:12:57,930 cisTopic     INFO     Computing log2FC for PC\n",
      "2025-07-28 16:12:59,236 cisTopic     INFO     PC done!\n",
      "2025-07-28 16:13:26,533 cisTopic     INFO     Subsetting data for QN (36645 of 295888)\n",
      "2025-07-28 16:13:39,046 cisTopic     INFO     Computing p-value for QN\n"
     ]
    },
    {
     "name": "stderr",
     "output_type": "stream",
     "text": [
      "\u001b[36m(raylet)\u001b[0m Spilled 1227459 MiB, 12 objects, write throughput 237 MiB/s.\n"
     ]
    },
    {
     "name": "stdout",
     "output_type": "stream",
     "text": [
      "2025-07-28 16:33:41,041 cisTopic     INFO     Computing log2FC for QN\n",
      "2025-07-28 16:33:42,365 cisTopic     INFO     QN done!\n",
      "2025-07-28 16:34:13,438 cisTopic     INFO     Subsetting data for XQ (47743 of 295888)\n",
      "2025-07-28 16:34:25,795 cisTopic     INFO     Computing p-value for XQ\n",
      "2025-07-28 16:55:09,052 cisTopic     INFO     Computing log2FC for XQ\n",
      "2025-07-28 16:55:10,391 cisTopic     INFO     XQ done!\n",
      "2025-07-28 16:55:40,339 cisTopic     INFO     Subsetting data for YB (33091 of 295888)\n",
      "2025-07-28 16:55:52,805 cisTopic     INFO     Computing p-value for YB\n",
      "2025-07-28 17:15:55,380 cisTopic     INFO     Computing log2FC for YB\n",
      "2025-07-28 17:15:56,722 cisTopic     INFO     YB done!\n"
     ]
    },
    {
     "data": {
      "text/plain": [
       "'\\nfrom pycisTopic.clust_vis import plot_imputed_features\\nplot_imputed_features(\\n    cistopic_obj,\\n    reduction_name=\\'UMAP\\',\\n    imputed_data=imputed_acc_obj,\\n    features=[markers_dict[x].index.tolist()[0] for x in [\\'1\\',\\'2\\',\\'4\\',\\'6\\']],\\n    scale=False,\\n    num_columns=4\\n)\\n\\nprint(\"Number of DARs found:\")\\nprint(\"---------------------\")\\nfor x in markers_dict:\\n    print(f\"  {x}: {len(markers_dict[x])}\")\\n'"
      ]
     },
     "execution_count": 12,
     "metadata": {},
     "output_type": "execute_result"
    }
   ],
   "source": [
    "print(len(variable_regions))\n",
    "\n",
    "markers_dict= find_diff_features(\n",
    "    cistopic_obj,\n",
    "    normalized_imputed_acc_obj,  # ori imputed_acc_obj, but imputed_acc_obj is modified, so just use normalized_imputed_acc_obj\n",
    "    #imputed_acc_obj,\n",
    "    variable='tissues',\n",
    "    var_features=variable_regions,\n",
    "    contrasts=None,\n",
    "    adjpval_thr=0.05,\n",
    "    log2fc_thr=np.log2(1.5),\n",
    "    n_cpu=40,\n",
    "    _temp_dir= None, #os.path.join(out_dir, 'dar_temp'),\n",
    "    split_pattern = '_'\n",
    ")\n",
    "\n",
    "\"\"\"\n",
    "from pycisTopic.clust_vis import plot_imputed_features\n",
    "plot_imputed_features(\n",
    "    cistopic_obj,\n",
    "    reduction_name='UMAP',\n",
    "    imputed_data=imputed_acc_obj,\n",
    "    features=[markers_dict[x].index.tolist()[0] for x in ['1','2','4','6']],\n",
    "    scale=False,\n",
    "    num_columns=4\n",
    ")\n",
    "\n",
    "print(\"Number of DARs found:\")\n",
    "print(\"---------------------\")\n",
    "for x in markers_dict:\n",
    "    print(f\"  {x}: {len(markers_dict[x])}\")\n",
    "\"\"\""
   ]
  },
  {
   "cell_type": "markdown",
   "id": "9d7ca99e",
   "metadata": {},
   "source": [
    "## SAVE REGION SETS"
   ]
  },
  {
   "cell_type": "code",
   "execution_count": 13,
   "id": "4e99e0ff",
   "metadata": {},
   "outputs": [],
   "source": [
    "os.makedirs(os.path.join(out_dir, \"region_sets\"), exist_ok = True)\n",
    "os.makedirs(os.path.join(out_dir, \"region_sets\", \"Topics_otsu\"), exist_ok = True)\n",
    "os.makedirs(os.path.join(out_dir, \"region_sets\", \"Topics_top_3k\"), exist_ok = True)\n",
    "os.makedirs(os.path.join(out_dir, \"region_sets\", \"DARs_cell_type\"), exist_ok = True)\n",
    "\n",
    "from pycisTopic.utils import region_names_to_coordinates\n",
    "\n",
    "for topic in region_bin_topics_otsu:\n",
    "    region_names_to_coordinates(\n",
    "        region_bin_topics_otsu[topic].index\n",
    "    ).sort_values(\n",
    "        [\"Chromosome\", \"Start\", \"End\"]\n",
    "    ).to_csv(\n",
    "        os.path.join(out_dir, \"region_sets\", \"Topics_otsu\", f\"{topic}.bed\"),\n",
    "        sep = \"\\t\",\n",
    "        header = False, index = False\n",
    "    )\n",
    "\n",
    "for topic in region_bin_topics_top_3k:\n",
    "    region_names_to_coordinates(\n",
    "        region_bin_topics_top_3k[topic].index\n",
    "    ).sort_values(\n",
    "        [\"Chromosome\", \"Start\", \"End\"]\n",
    "    ).to_csv(\n",
    "        os.path.join(out_dir, \"region_sets\", \"Topics_top_3k\", f\"{topic}.bed\"),\n",
    "        sep = \"\\t\",\n",
    "        header = False, index = False\n",
    "    )\n",
    "\n",
    "for cell_type in markers_dict:\n",
    "    region_names_to_coordinates(\n",
    "        markers_dict[cell_type].index\n",
    "    ).sort_values(\n",
    "        [\"Chromosome\", \"Start\", \"End\"]\n",
    "    ).to_csv(\n",
    "        os.path.join(out_dir, \"region_sets\", \"DARs_cell_type\", f\"{cell_type}.bed\"),\n",
    "        sep = \"\\t\",\n",
    "        header = False, index = False\n",
    "    )"
   ]
  },
  {
   "cell_type": "code",
   "execution_count": 14,
   "id": "ae724ee8",
   "metadata": {},
   "outputs": [],
   "source": [
    "import pickle\n",
    "pickle.dump(\n",
    "    cistopic_obj,\n",
    "    open(os.path.join(out_dir, \"cistopic_obj.pkl\"), \"wb\")\n",
    ")"
   ]
  },
  {
   "cell_type": "code",
   "execution_count": null,
   "id": "e4c3eb89",
   "metadata": {},
   "outputs": [],
   "source": []
  }
 ],
 "metadata": {
  "kernelspec": {
   "display_name": "scenicplus",
   "language": "python",
   "name": "python3"
  },
  "language_info": {
   "codemirror_mode": {
    "name": "ipython",
    "version": 3
   },
   "file_extension": ".py",
   "mimetype": "text/x-python",
   "name": "python",
   "nbconvert_exporter": "python",
   "pygments_lexer": "ipython3",
   "version": "3.11.0"
  }
 },
 "nbformat": 4,
 "nbformat_minor": 5
}
