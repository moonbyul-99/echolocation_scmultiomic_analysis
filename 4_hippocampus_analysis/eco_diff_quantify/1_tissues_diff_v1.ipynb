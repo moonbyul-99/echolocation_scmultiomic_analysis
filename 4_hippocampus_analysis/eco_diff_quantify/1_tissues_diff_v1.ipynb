{
 "cells": [
  {
   "cell_type": "code",
   "execution_count": 4,
   "id": "7a6a538a",
   "metadata": {},
   "outputs": [],
   "source": [
    "import numpy as np \n",
    "import pandas as pd\n",
    "import scanpy as sc\n",
    "import matplotlib.pyplot as plt\n",
    "from scipy.spatial.distance import pdist, squareform\n",
    "from tqdm import tqdm"
   ]
  },
  {
   "cell_type": "markdown",
   "id": "5620806a",
   "metadata": {},
   "source": [
    "# Description"
   ]
  },
  {
   "cell_type": "markdown",
   "id": "5c222bf0",
   "metadata": {},
   "source": [
    "## quantify the differences between eco and non-eco in different brain regions"
   ]
  },
  {
   "cell_type": "code",
   "execution_count": 5,
   "id": "bf5e0a71",
   "metadata": {},
   "outputs": [
    {
     "data": {
      "text/plain": [
       "AnnData object with n_obs × n_vars = 338818 × 3000\n",
       "    obs: 'species', 'tissues', 'samples', 'n_genes', 'n_genes_by_counts', 'total_counts', 'total_counts_mt', 'pct_counts_mt', 'leiden', 'cluster', 'celltype', 'coarse_celltype'\n",
       "    var: 'gene_ids', 'n_cells', 'mt', 'n_cells_by_counts', 'mean_counts', 'pct_dropout_by_counts', 'total_counts', 'highly_variable', 'means', 'dispersions', 'dispersions_norm'\n",
       "    uns: 'celltype_colors', 'cluster_colors', 'coarse_celltype_colors', 'dendrogram_leiden', 'hvg', 'leiden', 'log1p', 'neighbors', 'pca', 'samples_colors', 'species_colors', 'tissues_colors', 'umap'\n",
       "    obsm: 'X_pca', 'X_pca_harmony', 'X_umap', 'harmony_0', 'umap_0'\n",
       "    varm: 'PCs'\n",
       "    obsp: 'connectivities', 'distances'"
      ]
     },
     "execution_count": 5,
     "metadata": {},
     "output_type": "execute_result"
    }
   ],
   "source": [
    "scdata = sc.read_h5ad('/home/rsun@ZHANGroup.local/sly_data/data/final_anno.h5ad')\n",
    "scdata"
   ]
  },
  {
   "cell_type": "code",
   "execution_count": 16,
   "id": "6faeea75",
   "metadata": {},
   "outputs": [],
   "source": [
    "\n",
    "\n",
    "metric_key = 'euclidean'\n",
    "tissue_res = {}\n",
    "for tissue in scdata.obs.tissues.unique():\n",
    "\n",
    "    res_dic = {}\n",
    "\n",
    "    adata = scdata[scdata.obs['tissues'] == tissue,:] # tissue spcific data\n",
    "    for species in ['CY','JT','T','QF','M']:\n",
    "        species_idx = adata.obs['species'] == species \n",
    "        subdata = adata[species_idx,:] \n",
    "\n",
    "        # idx = np.arange(subdata.shape[0])\n",
    "        # sel_idx = np.random.choice(idx, size = 3000)\n",
    "        # meta_cell = subdata[sel_idx].obsm['X_pca_harmony'].mean(axis = 0)\n",
    "        meta_cell = subdata.obsm['X_pca_harmony'].mean(axis = 0)\n",
    "        res_dic[species] = meta_cell \n",
    "        \n",
    "    \n",
    "    res_df = pd.DataFrame(res_dic).T\n",
    "    sim_df = squareform(pdist(res_df, metric=metric_key))\n",
    "\n",
    "    if tissue == 'HM':\n",
    "        hm_sim = sim_df\n",
    "    score = 2*(sim_df[:3,3:].mean()) - (sim_df[:3,:3].sum()/6 + sim_df[3:,3:].sum()/2)\n",
    "    tissue_res[tissue] = score "
   ]
  },
  {
   "cell_type": "code",
   "execution_count": 17,
   "id": "3ca407f5",
   "metadata": {},
   "outputs": [
    {
     "data": {
      "image/png": "[encoded data removed]",
      "text/plain": [
       "<Figure size 640x480 with 1 Axes>"
      ]
     },
     "metadata": {},
     "output_type": "display_data"
    }
   ],
   "source": [
    "#plt.bar(x = df.columns, height = df.mean(axis = 0))\n",
    "plt.bar(x = tissue_res.keys(), height= tissue_res.values())\n",
    "plt.show()"
   ]
  },
  {
   "cell_type": "markdown",
   "id": "a5fa2156",
   "metadata": {},
   "source": [
    "## get the normalized difference scores"
   ]
  },
  {
   "cell_type": "code",
   "execution_count": 42,
   "id": "2c32e6a9",
   "metadata": {},
   "outputs": [
    {
     "data": {
      "image/png": "[encoded data removed]",
      "text/plain": [
       "<Figure size 640x480 with 1 Axes>"
      ]
     },
     "metadata": {},
     "output_type": "display_data"
    }
   ],
   "source": [
    "diff = np.array(list(tissue_res.values()))\n",
    "tmp = np.exp(diff/5)\n",
    "tmp = tmp/tmp.sum()\n",
    "plt.bar(x =tissue_res.keys(), height = tmp)\n",
    "plt.xticks(rotation = 45)\n",
    "plt.show()"
   ]
  },
  {
   "cell_type": "markdown",
   "id": "e5a34006",
   "metadata": {},
   "source": [
    "## perform statistical test to check whether HM different is significantly larger than other regions"
   ]
  },
  {
   "cell_type": "code",
   "execution_count": 44,
   "id": "670c25d7",
   "metadata": {},
   "outputs": [
    {
     "name": "stdout",
     "output_type": "stream",
     "text": [
      "Sample median: -0.4511\n",
      "Wilcoxon stat: 0.0000\n",
      "One-tailed p-value (H1: median < 0.5522667443367019): 0.0078\n",
      "✅ 拒绝 H0：中位数显著低于 0.5522667443367019\n"
     ]
    }
   ],
   "source": [
    "from scipy import stats\n",
    "import numpy as np\n",
    "\n",
    "data = np.concatenate([tmp[:2], tmp[3:]]) \n",
    "mu0 = tmp[2]\n",
    "\n",
    "delta = data - mu0\n",
    "\n",
    "stat, p_two_tailed = stats.wilcoxon(delta, alternative='two-sided')\n",
    "\n",
    "mean_diff = np.max(delta)\n",
    "if mean_diff < 0:\n",
    "    p_one_tailed = p_two_tailed / 2\n",
    "else:\n",
    "    p_one_tailed = 1 - p_two_tailed / 2\n",
    "\n",
    "print(f\"Sample median: {mean_diff :.4f}\")\n",
    "print(f\"Wilcoxon stat: {stat:.4f}\")\n",
    "print(f\"One-tailed p-value (H1: median < {mu0}): {p_one_tailed:.4f}\")\n",
    "\n",
    "alpha = 0.05\n",
    "if p_one_tailed < alpha and mean_diff < 0:\n",
    "    print(f\"✅ 拒绝 H0：中位数显著低于 {mu0}\")\n",
    "else:\n",
    "    print(f\"❌ 无法拒绝 H0：中位数不显著低于 {mu0}\")"
   ]
  }
 ],
 "metadata": {
  "kernelspec": {
   "display_name": "snapatac",
   "language": "python",
   "name": "python3"
  },
  "language_info": {
   "codemirror_mode": {
    "name": "ipython",
    "version": 3
   },
   "file_extension": ".py",
   "mimetype": "text/x-python",
   "name": "python",
   "nbconvert_exporter": "python",
   "pygments_lexer": "ipython3",
   "version": "3.10.15"
  }
 },
 "nbformat": 4,
 "nbformat_minor": 5
}
