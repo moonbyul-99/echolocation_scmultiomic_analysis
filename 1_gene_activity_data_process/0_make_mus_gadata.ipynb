{
 "cells": [
  {
   "cell_type": "code",
   "execution_count": 1,
   "metadata": {},
   "outputs": [],
   "source": [
    "import numpy as np \n",
    "import pandas as pd \n",
    "import scanpy as sc \n",
    "import anndata as ad \n",
    "import os \n",
    "import snapatac2 as snap \n",
    "import muon as mu"
   ]
  },
  {
   "cell_type": "markdown",
   "metadata": {},
   "source": [
    "# Description \n",
    "\n",
    "This notebook is used to generate the gene activity data in mouse brain.\n",
    "\n",
    "<font color ='red'>Noted that the notebook contains another 10X multi-omics data, which is \n",
    "\n",
    "M_Brain_Chromium_Nuc_Isolation_vs_SaltyEZ_vs_ComplexTissueDP_filtered_feature_bc_matrix.h5, </font> \n",
    "\n",
    "\n",
    "This data is a demo dataset in 10X webistes, the link is available until 2025.08.29 [dataset link](https://www.10xgenomics.com/datasets/mouse-brain-nuclei-isolated-with-chromium-nuclei-isolation-kit-saltyez-protocol-and-10x-complex-tissue-dp-ct-sorted-and-ct-unsorted-1-standard) \n",
    "\n",
    "\n",
    "This data is not used in our analysis. We include this data just due to another projects is required this public data. If you want to run this notebook directly, \n",
    "please download this data. Otherwise, you need to modify some code blocks to make it work. \n",
    "\n",
    "This public data does not make differences to our analysis."
   ]
  },
  {
   "cell_type": "markdown",
   "metadata": {},
   "source": [
    "## rna data prepare"
   ]
  },
  {
   "cell_type": "code",
   "execution_count": 78,
   "metadata": {},
   "outputs": [
    {
     "name": "stderr",
     "output_type": "stream",
     "text": [
      "/home/rsun@ZHANGroup.local/anaconda3/envs/snapatac/lib/python3.10/site-packages/anndata/_core/anndata.py:1758: UserWarning: Variable names are not unique. To make them unique, call `.var_names_make_unique`.\n",
      "  utils.warn_names_duplicates(\"var\")\n",
      "/home/rsun@ZHANGroup.local/anaconda3/envs/snapatac/lib/python3.10/site-packages/anndata/_core/anndata.py:1758: UserWarning: Variable names are not unique. To make them unique, call `.var_names_make_unique`.\n",
      "  utils.warn_names_duplicates(\"var\")\n",
      "/home/rsun@ZHANGroup.local/anaconda3/envs/snapatac/lib/python3.10/site-packages/anndata/_core/anndata.py:1758: UserWarning: Variable names are not unique. To make them unique, call `.var_names_make_unique`.\n",
      "  utils.warn_names_duplicates(\"var\")\n",
      "/home/rsun@ZHANGroup.local/anaconda3/envs/snapatac/lib/python3.10/site-packages/anndata/_core/anndata.py:1758: UserWarning: Variable names are not unique. To make them unique, call `.var_names_make_unique`.\n",
      "  utils.warn_names_duplicates(\"var\")\n",
      "/home/rsun@ZHANGroup.local/anaconda3/envs/snapatac/lib/python3.10/site-packages/anndata/_core/anndata.py:1758: UserWarning: Variable names are not unique. To make them unique, call `.var_names_make_unique`.\n",
      "  utils.warn_names_duplicates(\"var\")\n",
      "/home/rsun@ZHANGroup.local/anaconda3/envs/snapatac/lib/python3.10/site-packages/anndata/_core/anndata.py:1758: UserWarning: Variable names are not unique. To make them unique, call `.var_names_make_unique`.\n",
      "  utils.warn_names_duplicates(\"var\")\n",
      "/home/rsun@ZHANGroup.local/anaconda3/envs/snapatac/lib/python3.10/site-packages/anndata/_core/anndata.py:1758: UserWarning: Variable names are not unique. To make them unique, call `.var_names_make_unique`.\n",
      "  utils.warn_names_duplicates(\"var\")\n",
      "/home/rsun@ZHANGroup.local/anaconda3/envs/snapatac/lib/python3.10/site-packages/anndata/_core/anndata.py:1758: UserWarning: Variable names are not unique. To make them unique, call `.var_names_make_unique`.\n",
      "  utils.warn_names_duplicates(\"var\")\n",
      "/home/rsun@ZHANGroup.local/anaconda3/envs/snapatac/lib/python3.10/site-packages/anndata/_core/anndata.py:1758: UserWarning: Variable names are not unique. To make them unique, call `.var_names_make_unique`.\n",
      "  utils.warn_names_duplicates(\"var\")\n",
      "/home/rsun@ZHANGroup.local/anaconda3/envs/snapatac/lib/python3.10/site-packages/anndata/_core/anndata.py:1758: UserWarning: Variable names are not unique. To make them unique, call `.var_names_make_unique`.\n",
      "  utils.warn_names_duplicates(\"var\")\n",
      "/home/rsun@ZHANGroup.local/anaconda3/envs/snapatac/lib/python3.10/site-packages/anndata/_core/anndata.py:1758: UserWarning: Variable names are not unique. To make them unique, call `.var_names_make_unique`.\n",
      "  utils.warn_names_duplicates(\"var\")\n",
      "/home/rsun@ZHANGroup.local/anaconda3/envs/snapatac/lib/python3.10/site-packages/anndata/_core/anndata.py:1758: UserWarning: Variable names are not unique. To make them unique, call `.var_names_make_unique`.\n",
      "  utils.warn_names_duplicates(\"var\")\n",
      "/home/rsun@ZHANGroup.local/anaconda3/envs/snapatac/lib/python3.10/site-packages/anndata/_core/anndata.py:1758: UserWarning: Variable names are not unique. To make them unique, call `.var_names_make_unique`.\n",
      "  utils.warn_names_duplicates(\"var\")\n",
      "/home/rsun@ZHANGroup.local/anaconda3/envs/snapatac/lib/python3.10/site-packages/anndata/_core/anndata.py:1758: UserWarning: Variable names are not unique. To make them unique, call `.var_names_make_unique`.\n",
      "  utils.warn_names_duplicates(\"var\")\n",
      "/home/rsun@ZHANGroup.local/anaconda3/envs/snapatac/lib/python3.10/site-packages/anndata/_core/anndata.py:1758: UserWarning: Variable names are not unique. To make them unique, call `.var_names_make_unique`.\n",
      "  utils.warn_names_duplicates(\"var\")\n",
      "/home/rsun@ZHANGroup.local/anaconda3/envs/snapatac/lib/python3.10/site-packages/anndata/_core/anndata.py:1758: UserWarning: Variable names are not unique. To make them unique, call `.var_names_make_unique`.\n",
      "  utils.warn_names_duplicates(\"var\")\n",
      "/home/rsun@ZHANGroup.local/anaconda3/envs/snapatac/lib/python3.10/site-packages/anndata/_core/anndata.py:1758: UserWarning: Variable names are not unique. To make them unique, call `.var_names_make_unique`.\n",
      "  utils.warn_names_duplicates(\"var\")\n",
      "/home/rsun@ZHANGroup.local/anaconda3/envs/snapatac/lib/python3.10/site-packages/anndata/_core/anndata.py:1758: UserWarning: Variable names are not unique. To make them unique, call `.var_names_make_unique`.\n",
      "  utils.warn_names_duplicates(\"var\")\n"
     ]
    }
   ],
   "source": [
    "path_dic = {\n",
    "    'bq': '/home/rsun@ZHANGroup.local/sly_data/data/M/MBQ/filtered_feature_bc_matrix.h5',\n",
    "    'ct': '/home/rsun@ZHANGroup.local/sly_data/data/M/MCT/filtered_feature_bc_matrix.h5',\n",
    "    'hm': '/home/rsun@ZHANGroup.local/sly_data/data/M/MHM/filtered_feature_bc_matrix.h5',\n",
    "    'ng': '/home/rsun@ZHANGroup.local/sly_data/data/M/MNG/filtered_feature_bc_matrix.h5',\n",
    "    'pc': '/home/rsun@ZHANGroup.local/sly_data/data/M/MPC/filtered_feature_bc_matrix.h5',\n",
    "    'qn': '/home/rsun@ZHANGroup.local/sly_data/data/M/MQN/filtered_feature_bc_matrix.h5',\n",
    "    'xq': '/home/rsun@ZHANGroup.local/sly_data/data/M/MXQ/filtered_feature_bc_matrix.h5',\n",
    "    'yb': '/home/rsun@ZHANGroup.local/sly_data/data/M/MYB/filtered_feature_bc_matrix.h5',\n",
    "    '10x_multi': '/home/rsun@ZHANGroup.local/sr_project/eval_data/10X_mus_data/M_Brain_Chromium_Nuc_Isolation_vs_SaltyEZ_vs_ComplexTissueDP_filtered_feature_bc_matrix.h5'\n",
    "}\n",
    "\n",
    "data_list = []\n",
    "\n",
    "for key in path_dic:\n",
    "    path = path_dic[key]\n",
    "    data = sc.read_10x_h5(path)\n",
    "    data.var_names_make_unique()\n",
    "    data.obs.loc[:,'tissues'] = key \n",
    "    data.obs.index = key + '_' + data.obs.index.values \n",
    "    data_list.append(data)\n"
   ]
  },
  {
   "cell_type": "code",
   "execution_count": 79,
   "metadata": {},
   "outputs": [
    {
     "name": "stdout",
     "output_type": "stream",
     "text": [
      "(107553, 32285)\n",
      "tissues\n",
      "10x_multi    23990\n",
      "xq           12119\n",
      "ct           11772\n",
      "bq           10808\n",
      "pc           10767\n",
      "qn           10074\n",
      "yb           10029\n",
      "ng            9422\n",
      "hm            8572\n",
      "Name: count, dtype: int64\n"
     ]
    }
   ],
   "source": [
    "rna_data = ad.concat(data_list)\n",
    "rna_data.var = data.var.copy()\n",
    "\n",
    "print(rna_data.shape)\n",
    "print(rna_data.obs.tissues.value_counts())"
   ]
  },
  {
   "cell_type": "code",
   "execution_count": 80,
   "metadata": {},
   "outputs": [
    {
     "name": "stdout",
     "output_type": "stream",
     "text": [
      "(106694, 32285)\n",
      "tissues\n",
      "10x_multi    23877\n",
      "xq           12055\n",
      "ct           11692\n",
      "bq           10764\n",
      "pc           10744\n",
      "qn           10063\n",
      "yb            9661\n",
      "ng            9383\n",
      "hm            8455\n",
      "Name: count, dtype: int64\n"
     ]
    }
   ],
   "source": [
    "sc.pp.filter_cells(rna_data, min_genes = 200)\n",
    "print(rna_data.shape)\n",
    "print(rna_data.obs.tissues.value_counts())"
   ]
  },
  {
   "cell_type": "code",
   "execution_count": 81,
   "metadata": {},
   "outputs": [
    {
     "data": {
      "text/plain": [
       "tissues\n",
       "10x_multi    23877\n",
       "xq           12055\n",
       "ct           11692\n",
       "bq           10764\n",
       "pc           10744\n",
       "qn           10063\n",
       "yb            9661\n",
       "ng            9383\n",
       "hm            8455\n",
       "Name: count, dtype: int64"
      ]
     },
     "execution_count": 81,
     "metadata": {},
     "output_type": "execute_result"
    }
   ],
   "source": [
    "rna_data.obs.tissues.value_counts()"
   ]
  },
  {
   "cell_type": "code",
   "execution_count": 82,
   "metadata": {},
   "outputs": [
    {
     "name": "stderr",
     "output_type": "stream",
     "text": [
      "... storing 'tissues' as categorical\n",
      "... storing 'feature_types' as categorical\n",
      "... storing 'genome' as categorical\n",
      "... storing 'interval' as categorical\n"
     ]
    }
   ],
   "source": [
    "rna_data.write_h5ad('merge_dataset/rna.h5ad')"
   ]
  },
  {
   "cell_type": "markdown",
   "metadata": {},
   "source": [
    "## atac data prepare"
   ]
  },
  {
   "cell_type": "code",
   "execution_count": 8,
   "metadata": {},
   "outputs": [],
   "source": [
    "output_dir = \"h5ad_output_1\"\n",
    "os.makedirs(output_dir, exist_ok=True)\n",
    "\n",
    "fragment_paths = {\n",
    "    'bq':'/home/rsun@ZHANGroup.local/sly_data/data/M/MBQ/atac_fragments.tsv.gz',\n",
    "    'ct':'/home/rsun@ZHANGroup.local/sly_data/data/M/MCT/atac_fragments.tsv.gz',\n",
    "    'hm':'/home/rsun@ZHANGroup.local/sly_data/data/M/MHM/atac_fragments.tsv.gz',\n",
    "    'ng':'/home/rsun@ZHANGroup.local/sly_data/data/M/MNG/atac_fragments.tsv.gz',\n",
    "    'pc':'/home/rsun@ZHANGroup.local/sly_data/data/M/MPC/atac_fragments.tsv.gz',\n",
    "    'qn':'/home/rsun@ZHANGroup.local/sly_data/data/M/MQN/atac_fragments.tsv.gz',\n",
    "    'xq':'/home/rsun@ZHANGroup.local/sly_data/data/M/MXQ/atac_fragments.tsv.gz',\n",
    "    'yb':'/home/rsun@ZHANGroup.local/sly_data/data/M/MYB/atac_fragments.tsv.gz',\n",
    "    '10x_multi': '/home/rsun@ZHANGroup.local/sr_project/eval_data/10X_mus_data/M_Brain_Chromium_Nuc_Isolation_vs_SaltyEZ_vs_ComplexTissueDP_atac_fragments.tsv.gz'\n",
    "}"
   ]
  },
  {
   "cell_type": "code",
   "execution_count": 9,
   "metadata": {},
   "outputs": [
    {
     "name": "stderr",
     "output_type": "stream",
     "text": [
      "  0%|          | 0/9 [00:00<?, ?it/s]"
     ]
    },
    {
     "name": "stderr",
     "output_type": "stream",
     "text": [
      "100%|██████████| 9/9 [30:14<00:00, 201.56s/it]\n"
     ]
    },
    {
     "name": "stdout",
     "output_type": "stream",
     "text": [
      "CPU times: user 166 ms, sys: 83.2 ms, total: 249 ms\n",
      "Wall time: 30min 15s\n"
     ]
    }
   ],
   "source": [
    "%%time\n",
    "outputs = []\n",
    "for key in fragment_paths:\n",
    "    outputs.append(f'{output_dir}/{key}.h5ad')\n",
    "\n",
    "adatas = snap.pp.import_data([fragment_paths[key] for key in fragment_paths], \n",
    "                            file=outputs, \n",
    "                            chrom_sizes=snap.genome.mm10,\n",
    "                            sorted_by_barcode = False,\n",
    "                            min_num_fragments=1000)#, min_tsse=7) 2.7 版本没有 min_tsse"
   ]
  },
  {
   "cell_type": "code",
   "execution_count": 12,
   "metadata": {},
   "outputs": [
    {
     "name": "stdout",
     "output_type": "stream",
     "text": [
      "CPU times: user 263 ms, sys: 160 ms, total: 424 ms\n",
      "Wall time: 228 ms\n"
     ]
    },
    {
     "data": {
      "text/plain": [
       "AnnDataSet object with n_obs x n_vars = 139055 x 0 backed at 'atac.h5ads'\n",
       "contains 9 AnnData objects with keys: 'bq', 'ct', 'hm', 'ng', 'pc', 'qn', 'xq', 'yb', '10x_mulit'\n",
       "    obs: 'sample'\n",
       "    uns: 'AnnDataSet', 'reference_sequences'"
      ]
     },
     "execution_count": 12,
     "metadata": {},
     "output_type": "execute_result"
    }
   ],
   "source": [
    "%%time\n",
    "tissue_key = ['bq', 'ct', 'hm', 'ng', 'pc', 'qn', 'xq', 'yb','10x_mulit']\n",
    "data = snap.AnnDataSet(\n",
    "    adatas=[(name, adata) for name, adata in zip(tissue_key, adatas)],\n",
    "    filename=\"atac.h5ads\"\n",
    ")\n",
    "data"
   ]
  },
  {
   "cell_type": "code",
   "execution_count": 13,
   "metadata": {},
   "outputs": [
    {
     "ename": "RuntimeError",
     "evalue": "not found: n_fragment",
     "output_type": "error",
     "traceback": [
      "\u001b[0;31m---------------------------------------------------------------------------\u001b[0m",
      "\u001b[0;31mRuntimeError\u001b[0m                              Traceback (most recent call last)",
      "File \u001b[0;32m<timed exec>:2\u001b[0m\n",
      "File \u001b[0;32m~/anaconda3/envs/snapatac/lib/python3.10/site-packages/snapatac2/plotting/__init__.py:96\u001b[0m, in \u001b[0;36mtsse\u001b[0;34m(adata, min_fragment, width, height, **kwargs)\u001b[0m\n\u001b[1;32m     93\u001b[0m \u001b[38;5;28;01mif\u001b[39;00m \u001b[38;5;124m\"\u001b[39m\u001b[38;5;124mtsse\u001b[39m\u001b[38;5;124m\"\u001b[39m \u001b[38;5;129;01mnot\u001b[39;00m \u001b[38;5;129;01min\u001b[39;00m adata\u001b[38;5;241m.\u001b[39mobs:\n\u001b[1;32m     94\u001b[0m     \u001b[38;5;28;01mraise\u001b[39;00m \u001b[38;5;167;01mValueError\u001b[39;00m(\u001b[38;5;124m\"\u001b[39m\u001b[38;5;124mTSS enrichment score is not computed, please run `metrics.tsse` first.\u001b[39m\u001b[38;5;124m\"\u001b[39m)\n\u001b[0;32m---> 96\u001b[0m selected_cells \u001b[38;5;241m=\u001b[39m np\u001b[38;5;241m.\u001b[39mwhere(\u001b[43madata\u001b[49m\u001b[38;5;241;43m.\u001b[39;49m\u001b[43mobs\u001b[49m\u001b[43m[\u001b[49m\u001b[38;5;124;43m\"\u001b[39;49m\u001b[38;5;124;43mn_fragment\u001b[39;49m\u001b[38;5;124;43m\"\u001b[39;49m\u001b[43m]\u001b[49m \u001b[38;5;241m>\u001b[39m\u001b[38;5;241m=\u001b[39m min_fragment)[\u001b[38;5;241m0\u001b[39m]\n\u001b[1;32m     97\u001b[0m x \u001b[38;5;241m=\u001b[39m adata\u001b[38;5;241m.\u001b[39mobs[\u001b[38;5;124m\"\u001b[39m\u001b[38;5;124mn_fragment\u001b[39m\u001b[38;5;124m\"\u001b[39m][selected_cells]\n\u001b[1;32m     98\u001b[0m y \u001b[38;5;241m=\u001b[39m adata\u001b[38;5;241m.\u001b[39mobs[\u001b[38;5;124m\"\u001b[39m\u001b[38;5;124mtsse\u001b[39m\u001b[38;5;124m\"\u001b[39m][selected_cells]\n",
      "\u001b[0;31mRuntimeError\u001b[0m: not found: n_fragment"
     ]
    }
   ],
   "source": [
    "%%time\n",
    "snap.metrics.tsse(data, snap.genome.mm10)\n",
    "snap.pl.tsse(data, interactive=False)"
   ]
  },
  {
   "cell_type": "code",
   "execution_count": 15,
   "metadata": {},
   "outputs": [
    {
     "name": "stderr",
     "output_type": "stream",
     "text": [
      "/tmp/ipykernel_521580/2725754147.py:1: DeprecationWarning: `Series._import_from_c` is deprecated. use _import_arrow_from_c; if you are using an extension, please compile it with latest 'pyo3-polars'\n",
      "  unique_cell_ids = [sa + '_' + bc for sa, bc in zip(data.obs['sample'], data.obs_names)]\n"
     ]
    }
   ],
   "source": [
    "unique_cell_ids = [sa + '_' + bc for sa, bc in zip(data.obs['sample'], data.obs_names)]\n",
    "data.obs_names = unique_cell_ids"
   ]
  },
  {
   "cell_type": "code",
   "execution_count": 17,
   "metadata": {},
   "outputs": [
    {
     "name": "stderr",
     "output_type": "stream",
     "text": [
      "2025-03-02 16:07:00 - INFO - [15994 MB] #3 Pre-compute pvalue-qvalue table...\n",
      "2025-03-02 20:45:29 - INFO - [46552 MB] #3 Call peaks for each chromosome...\n"
     ]
    },
    {
     "name": "stdout",
     "output_type": "stream",
     "text": [
      "CPU times: user 5h 35min 48s, sys: 32min 30s, total: 6h 8min 19s\n",
      "Wall time: 5h 38min 18s\n"
     ]
    }
   ],
   "source": [
    "%%time\n",
    "#snap.tl.macs3(data)#, replicate='sample')"
   ]
  },
  {
   "cell_type": "markdown",
   "metadata": {},
   "source": [
    "### get peak data"
   ]
  },
  {
   "cell_type": "code",
   "execution_count": 29,
   "metadata": {},
   "outputs": [
    {
     "name": "stderr",
     "output_type": "stream",
     "text": [
      "2025-03-03 01:44:34 - INFO - Exporting fragments...\n",
      "2025-03-03 02:11:26 - INFO - Calling peaks...\n",
      "100%|██████████| 9/9 [1:22:47<00:00, 551.92s/it] \n"
     ]
    }
   ],
   "source": [
    "snap.tl.macs3(data,  groupby='sample')"
   ]
  },
  {
   "cell_type": "code",
   "execution_count": 34,
   "metadata": {},
   "outputs": [
    {
     "name": "stderr",
     "output_type": "stream",
     "text": [
      "/tmp/ipykernel_521580/2267821930.py:1: DeprecationWarning: `Series._import_from_c` is deprecated. use _import_arrow_from_c; if you are using an extension, please compile it with latest 'pyo3-polars'\n",
      "  merged_peaks = snap.tl.merge_peaks(data.uns['macs3'], chrom_sizes=snap.genome.hg38)\n"
     ]
    },
    {
     "data": {
      "text/plain": [
       "(625407, 10)"
      ]
     },
     "execution_count": 34,
     "metadata": {},
     "output_type": "execute_result"
    }
   ],
   "source": [
    "merged_peaks = snap.tl.merge_peaks(data.uns['macs3'], chrom_sizes=snap.genome.hg38)\n",
    "merged_peaks.shape"
   ]
  },
  {
   "cell_type": "code",
   "execution_count": 60,
   "metadata": {},
   "outputs": [
    {
     "name": "stderr",
     "output_type": "stream",
     "text": [
      "/tmp/ipykernel_521580/3022438851.py:1: DeprecationWarning: `Series._import_from_c` is deprecated. use _import_arrow_from_c; if you are using an extension, please compile it with latest 'pyo3-polars'\n",
      "  chr = pd.DataFrame(data.uns['macs3_pseudobulk']['chrom'])\n",
      "/tmp/ipykernel_521580/3022438851.py:2: DeprecationWarning: `Series._import_from_c` is deprecated. use _import_arrow_from_c; if you are using an extension, please compile it with latest 'pyo3-polars'\n",
      "  start = pd.DataFrame(data.uns['macs3_pseudobulk']['start'])\n",
      "/tmp/ipykernel_521580/3022438851.py:3: DeprecationWarning: `Series._import_from_c` is deprecated. use _import_arrow_from_c; if you are using an extension, please compile it with latest 'pyo3-polars'\n",
      "  end = pd.DataFrame(data.uns['macs3_pseudobulk']['end'])\n"
     ]
    }
   ],
   "source": [
    "chr = pd.DataFrame(data.uns['macs3_pseudobulk']['chrom'])\n",
    "start = pd.DataFrame(data.uns['macs3_pseudobulk']['start']) \n",
    "end = pd.DataFrame(data.uns['macs3_pseudobulk']['end']) \n",
    "\n",
    "raw_peaks = []\n",
    "\n",
    "for i in range(len(chr)):\n",
    "    raw_peaks.append(chr.values[i] + ':' + str(start.values[i][0]) + '-' + str(end.values[i][0]))\n",
    "\n",
    "raw_peaks = np.array(raw_peaks).reshape(-1)"
   ]
  },
  {
   "cell_type": "code",
   "execution_count": 61,
   "metadata": {},
   "outputs": [
    {
     "name": "stderr",
     "output_type": "stream",
     "text": [
      "/home/rsun@ZHANGroup.local/anaconda3/envs/snapatac/lib/python3.10/site-packages/anndata/_core/aligned_df.py:68: ImplicitModificationWarning: Transforming to str index.\n",
      "  warnings.warn(\"Transforming to str index.\", ImplicitModificationWarning)\n"
     ]
    },
    {
     "data": {
      "text/plain": [
       "(139055, 470523)"
      ]
     },
     "execution_count": 61,
     "metadata": {},
     "output_type": "execute_result"
    }
   ],
   "source": [
    "peak_mat_raw = snap.pp.make_peak_matrix(data, use_rep = raw_peaks)\n",
    "peak_mat_raw.shape"
   ]
  },
  {
   "cell_type": "code",
   "execution_count": 41,
   "metadata": {},
   "outputs": [
    {
     "name": "stderr",
     "output_type": "stream",
     "text": [
      "/home/rsun@ZHANGroup.local/anaconda3/envs/snapatac/lib/python3.10/site-packages/anndata/_core/aligned_df.py:68: ImplicitModificationWarning: Transforming to str index.\n",
      "  warnings.warn(\"Transforming to str index.\", ImplicitModificationWarning)\n"
     ]
    },
    {
     "data": {
      "text/plain": [
       "(139055, 625407)"
      ]
     },
     "execution_count": 41,
     "metadata": {},
     "output_type": "execute_result"
    }
   ],
   "source": [
    "peak_mat = snap.pp.make_peak_matrix(data, use_rep = merged_peaks['Peaks'])\n",
    "peak_mat.shape"
   ]
  },
  {
   "cell_type": "code",
   "execution_count": 62,
   "metadata": {},
   "outputs": [
    {
     "name": "stderr",
     "output_type": "stream",
     "text": [
      "... storing 'sample' as categorical\n",
      "... storing 'sample' as categorical\n"
     ]
    }
   ],
   "source": [
    "peak_mat_raw.write_h5ad('merge_dataset/peak_mat_raw.h5ad')\n",
    "peak_mat.write_h5ad('merge_dataset/peak_mat.h5ad')"
   ]
  },
  {
   "cell_type": "markdown",
   "metadata": {},
   "source": [
    "### get gadata"
   ]
  },
  {
   "cell_type": "code",
   "execution_count": 63,
   "metadata": {},
   "outputs": [
    {
     "name": "stderr",
     "output_type": "stream",
     "text": [
      "/home/rsun@ZHANGroup.local/anaconda3/envs/snapatac/lib/python3.10/site-packages/anndata/_core/aligned_df.py:68: ImplicitModificationWarning: Transforming to str index.\n",
      "  warnings.warn(\"Transforming to str index.\", ImplicitModificationWarning)\n"
     ]
    },
    {
     "name": "stdout",
     "output_type": "stream",
     "text": [
      "(139055, 55291)\n"
     ]
    }
   ],
   "source": [
    "gadata = snap.pp.make_gene_matrix(data, snap.genome.mm10)\n",
    "print(gadata.shape)"
   ]
  },
  {
   "cell_type": "code",
   "execution_count": 64,
   "metadata": {},
   "outputs": [
    {
     "name": "stderr",
     "output_type": "stream",
     "text": [
      "... storing 'sample' as categorical\n"
     ]
    }
   ],
   "source": [
    "gadata.write_h5ad('merge_dataset/gadata.h5ad')"
   ]
  },
  {
   "cell_type": "markdown",
   "metadata": {},
   "source": [
    "## merge data and filter low quality cells"
   ]
  },
  {
   "cell_type": "code",
   "execution_count": 125,
   "metadata": {},
   "outputs": [
    {
     "name": "stderr",
     "output_type": "stream",
     "text": [
      "/home/rsun@ZHANGroup.local/anaconda3/envs/snapatac/lib/python3.10/site-packages/anndata/_core/anndata.py:1758: UserWarning: Variable names are not unique. To make them unique, call `.var_names_make_unique`.\n",
      "  utils.warn_names_duplicates(\"var\")\n"
     ]
    },
    {
     "name": "stdout",
     "output_type": "stream",
     "text": [
      "(139055, 55291) (139055, 625407) (106694, 32285)\n"
     ]
    }
   ],
   "source": [
    "gadata = sc.read_h5ad('merge_dataset/gadata.h5ad')\n",
    "peak_mat = sc.read_h5ad('merge_dataset/peak_mat.h5ad')\n",
    "rna = sc.read_h5ad('/home/rsun@ZHANGroup.local/sr_project/eval_data/merge_dataset/rna.h5ad')\n",
    "\n",
    "print(gadata.shape, peak_mat.shape, rna.shape)"
   ]
  },
  {
   "cell_type": "code",
   "execution_count": 131,
   "metadata": {},
   "outputs": [
    {
     "data": {
      "text/plain": [
       "\"\\nnew_idx = []\\n\\nfor ele in gadata.obs.index:\\n    if '10x_mulit' in ele:\\n        new_idx.append(ele.replace('10x_mulit', '10x_multi'))\\n    else:\\n        new_idx.append(ele)\\n\\ngadata.obs.index = new_idx \\n\\n\\nnew_idx = []\\n\\nfor ele in peak_mat.obs.index:\\n    if '10x_mulit' in ele:\\n        new_idx.append(ele.replace('10x_mulit', '10x_multi'))\\n    else:\\n        new_idx.append(ele)\\n\\npeak_mat.obs.index = new_idx \\n\""
      ]
     },
     "execution_count": 131,
     "metadata": {},
     "output_type": "execute_result"
    }
   ],
   "source": [
    "## modify the obs index, and sample, because we introduce the wrong key '10x_mulit' instead of '10x_multi'\n",
    "\"\"\"\n",
    "new_idx = []\n",
    "\n",
    "for ele in gadata.obs.index:\n",
    "    if '10x_mulit' in ele:\n",
    "        new_idx.append(ele.replace('10x_mulit', '10x_multi'))\n",
    "    else:\n",
    "        new_idx.append(ele)\n",
    "\n",
    "gadata.obs.index = new_idx \n",
    "\n",
    "\n",
    "new_idx = []\n",
    "\n",
    "for ele in peak_mat.obs.index:\n",
    "    if '10x_mulit' in ele:\n",
    "        new_idx.append(ele.replace('10x_mulit', '10x_multi'))\n",
    "    else:\n",
    "        new_idx.append(ele)\n",
    "\n",
    "peak_mat.obs.index = new_idx \n",
    "\"\"\""
   ]
  },
  {
   "cell_type": "code",
   "execution_count": 127,
   "metadata": {},
   "outputs": [],
   "source": [
    "\"\"\"\n",
    "new_sample = []\n",
    "\n",
    "for ele in gadata.obs['sample']:\n",
    "    if '10x_mulit' in ele:\n",
    "        new_sample.append(ele.replace('10x_mulit', '10x_multi'))\n",
    "    else:\n",
    "        new_sample.append(ele)\n",
    "\n",
    "gadata.obs['sample'] = new_sample \n",
    "\n",
    "new_sample = []\n",
    "\n",
    "for ele in peak_mat.obs['sample']:\n",
    "    if '10x_mulit' in ele:\n",
    "        new_sample.append(ele.replace('10x_mulit', '10x_multi'))\n",
    "    else:\n",
    "        new_sample.append(ele)\n",
    "\n",
    "peak_mat.obs['sample'] = new_sample \n",
    "\"\"\""
   ]
  },
  {
   "cell_type": "code",
   "execution_count": 128,
   "metadata": {},
   "outputs": [
    {
     "name": "stderr",
     "output_type": "stream",
     "text": [
      "... storing 'sample' as categorical\n",
      "... storing 'sample' as categorical\n"
     ]
    }
   ],
   "source": [
    "#gadata.write_h5ad('merge_dataset/gadata.h5ad')\n",
    "#peak_mat.write_h5ad('merge_dataset/peak_mat.h5ad')"
   ]
  },
  {
   "cell_type": "code",
   "execution_count": 132,
   "metadata": {},
   "outputs": [
    {
     "name": "stdout",
     "output_type": "stream",
     "text": [
      "(139055, 55291)\n",
      "(139043, 55291)\n"
     ]
    }
   ],
   "source": [
    "print(gadata.shape)\n",
    "sc.pp.filter_cells(gadata, min_genes= 200)\n",
    "print(gadata.shape)"
   ]
  },
  {
   "cell_type": "code",
   "execution_count": 133,
   "metadata": {},
   "outputs": [
    {
     "name": "stdout",
     "output_type": "stream",
     "text": [
      "(139055, 625407)\n",
      "(94066, 625407)\n"
     ]
    },
    {
     "name": "stderr",
     "output_type": "stream",
     "text": [
      "/home/rsun@ZHANGroup.local/anaconda3/envs/snapatac/lib/python3.10/site-packages/scanpy/preprocessing/_simple.py:168: ImplicitModificationWarning: Trying to modify attribute `.obs` of view, initializing view as actual.\n",
      "  adata.obs[\"n_genes\"] = number\n",
      "/home/rsun@ZHANGroup.local/anaconda3/envs/snapatac/lib/python3.10/site-packages/anndata/_core/anndata.py:1758: UserWarning: Variable names are not unique. To make them unique, call `.var_names_make_unique`.\n",
      "  utils.warn_names_duplicates(\"var\")\n",
      "/home/rsun@ZHANGroup.local/anaconda3/envs/snapatac/lib/python3.10/site-packages/anndata/_core/anndata.py:1758: UserWarning: Variable names are not unique. To make them unique, call `.var_names_make_unique`.\n",
      "  utils.warn_names_duplicates(\"var\")\n",
      "/home/rsun@ZHANGroup.local/anaconda3/envs/snapatac/lib/python3.10/site-packages/anndata/_core/anndata.py:1758: UserWarning: Variable names are not unique. To make them unique, call `.var_names_make_unique`.\n",
      "  utils.warn_names_duplicates(\"var\")\n",
      "/home/rsun@ZHANGroup.local/anaconda3/envs/snapatac/lib/python3.10/site-packages/anndata/_core/anndata.py:1758: UserWarning: Variable names are not unique. To make them unique, call `.var_names_make_unique`.\n",
      "  utils.warn_names_duplicates(\"var\")\n"
     ]
    },
    {
     "name": "stdout",
     "output_type": "stream",
     "text": [
      "(82621, 625407)\n",
      "(82621, 608869)\n"
     ]
    }
   ],
   "source": [
    "print(peak_mat.shape)\n",
    "low_tsse = (peak_mat.obs.tsse >= 7)\n",
    "peak_mat = peak_mat[low_tsse] \n",
    "print(peak_mat.shape)\n",
    "\n",
    "sc.pp.filter_cells(peak_mat, min_genes=2000)\n",
    "print(peak_mat.shape)\n",
    "sc.pp.filter_genes(peak_mat, min_cells=20)\n",
    "print(peak_mat.shape)"
   ]
  },
  {
   "cell_type": "code",
   "execution_count": 134,
   "metadata": {},
   "outputs": [
    {
     "name": "stdout",
     "output_type": "stream",
     "text": [
      "(78886,)\n",
      "(78886,)\n"
     ]
    }
   ],
   "source": [
    "mutual_idx = np.intersect1d(rna.obs.index.values, peak_mat.obs.index.values)\n",
    "print(mutual_idx.shape)\n",
    "mutual_idx = np.intersect1d(mutual_idx, gadata.obs.index.values)\n",
    "print(mutual_idx.shape)"
   ]
  },
  {
   "cell_type": "code",
   "execution_count": 135,
   "metadata": {},
   "outputs": [
    {
     "name": "stderr",
     "output_type": "stream",
     "text": [
      "/home/rsun@ZHANGroup.local/anaconda3/envs/snapatac/lib/python3.10/site-packages/mudata/_core/mudata.py:1531: FutureWarning: From 0.4 .update() will not pull obs/var columns from individual modalities by default anymore. Set mudata.set_options(pull_on_update=False) to adopt the new behaviour, which will become the default. Use new pull_obs/pull_var and push_obs/push_var methods for more flexibility.\n",
      "  self._update_attr(\"var\", axis=0, join_common=join_common)\n",
      "/home/rsun@ZHANGroup.local/anaconda3/envs/snapatac/lib/python3.10/site-packages/mudata/_core/mudata.py:931: UserWarning: Cannot join columns with the same name because var_names are intersecting.\n",
      "  warnings.warn(\n",
      "/home/rsun@ZHANGroup.local/anaconda3/envs/snapatac/lib/python3.10/site-packages/mudata/_core/mudata.py:1429: FutureWarning: From 0.4 .update() will not pull obs/var columns from individual modalities by default anymore. Set mudata.set_options(pull_on_update=False) to adopt the new behaviour, which will become the default. Use new pull_obs/pull_var and push_obs/push_var methods for more flexibility.\n",
      "  self._update_attr(\"obs\", axis=1, join_common=join_common)\n"
     ]
    },
    {
     "data": {
      "text/html": [
       "<pre>MuData object with n_obs × n_vars = 78886 × 696445\n",
       "  3 modalities\n",
       "    rna_count:\t78886 x 32285\n",
       "      obs:\t&#x27;tissues&#x27;, &#x27;n_genes&#x27;\n",
       "      var:\t&#x27;gene_ids&#x27;, &#x27;feature_types&#x27;, &#x27;genome&#x27;, &#x27;interval&#x27;\n",
       "    peak_count:\t78886 x 608869\n",
       "      obs:\t&#x27;sample&#x27;, &#x27;tsse&#x27;, &#x27;n_genes&#x27;\n",
       "      var:\t&#x27;n_cells&#x27;\n",
       "    ga_count:\t78886 x 55291\n",
       "      obs:\t&#x27;sample&#x27;, &#x27;tsse&#x27;, &#x27;n_genes&#x27;</pre>"
      ],
      "text/plain": [
       "MuData object with n_obs × n_vars = 78886 × 696445\n",
       "  3 modalities\n",
       "    rna_count:\t78886 x 32285\n",
       "      obs:\t'tissues', 'n_genes'\n",
       "      var:\t'gene_ids', 'feature_types', 'genome', 'interval'\n",
       "    peak_count:\t78886 x 608869\n",
       "      obs:\t'sample', 'tsse', 'n_genes'\n",
       "      var:\t'n_cells'\n",
       "    ga_count:\t78886 x 55291\n",
       "      obs:\t'sample', 'tsse', 'n_genes'"
      ]
     },
     "execution_count": 135,
     "metadata": {},
     "output_type": "execute_result"
    }
   ],
   "source": [
    "rna = rna[mutual_idx]\n",
    "peak_mat = peak_mat[mutual_idx]\n",
    "gadata = gadata[mutual_idx] \n",
    "\n",
    "mdata = mu.MuData({'rna_count': rna, 'peak_count': peak_mat, 'ga_count': gadata})\n",
    "mdata"
   ]
  },
  {
   "cell_type": "code",
   "execution_count": 136,
   "metadata": {},
   "outputs": [
    {
     "name": "stderr",
     "output_type": "stream",
     "text": [
      "/home/rsun@ZHANGroup.local/anaconda3/envs/snapatac/lib/python3.10/site-packages/mudata/_core/mudata.py:1531: FutureWarning: From 0.4 .update() will not pull obs/var columns from individual modalities by default anymore. Set mudata.set_options(pull_on_update=False) to adopt the new behaviour, which will become the default. Use new pull_obs/pull_var and push_obs/push_var methods for more flexibility.\n",
      "  self._update_attr(\"var\", axis=0, join_common=join_common)\n",
      "/home/rsun@ZHANGroup.local/anaconda3/envs/snapatac/lib/python3.10/site-packages/mudata/_core/mudata.py:1429: FutureWarning: From 0.4 .update() will not pull obs/var columns from individual modalities by default anymore. Set mudata.set_options(pull_on_update=False) to adopt the new behaviour, which will become the default. Use new pull_obs/pull_var and push_obs/push_var methods for more flexibility.\n",
      "  self._update_attr(\"obs\", axis=1, join_common=join_common)\n"
     ]
    }
   ],
   "source": [
    "mdata.write_h5mu('merge_dataset/mdata.h5mu')"
   ]
  },
  {
   "cell_type": "markdown",
   "metadata": {},
   "source": [
    "## generate the split index"
   ]
  },
  {
   "cell_type": "code",
   "execution_count": 142,
   "metadata": {},
   "outputs": [],
   "source": [
    "from sklearn.model_selection import train_test_split\n",
    "\n",
    "obs_info = mdata['rna_count'].obs\n",
    "\n",
    "save_dir = 'data_split'\n",
    "os.makedirs(save_dir, exist_ok=True)"
   ]
  },
  {
   "cell_type": "code",
   "execution_count": 143,
   "metadata": {},
   "outputs": [
    {
     "name": "stdout",
     "output_type": "stream",
     "text": [
      "(10101,) (1123,)\n"
     ]
    }
   ],
   "source": [
    "## split 1: 10x only \n",
    "total_id = np.arange(obs_info.shape[0])\n",
    "\n",
    "tenx_id = total_id[obs_info.loc[:,'tissues'] == '10x_multi']\n",
    "train_id, test_id = train_test_split(tenx_id, test_size = 0.1, random_state = 42)\n",
    "print(train_id.shape, test_id.shape)\n",
    "\n",
    "np.save(os.path.join(save_dir, 'train_id_1.npy'), train_id)\n",
    "np.save(os.path.join(save_dir, 'test_id_1.npy'), test_id) "
   ]
  },
  {
   "cell_type": "code",
   "execution_count": 144,
   "metadata": {},
   "outputs": [
    {
     "name": "stdout",
     "output_type": "stream",
     "text": [
      "(60895,) (6767,)\n"
     ]
    }
   ],
   "source": [
    "## split 2: self only \n",
    "total_id = np.arange(obs_info.shape[0])\n",
    "\n",
    "tenx_id = total_id[obs_info.loc[:,'tissues'] != '10x_multi']\n",
    "train_id, test_id = train_test_split(tenx_id, test_size = 0.1, random_state = 42)\n",
    "print(train_id.shape, test_id.shape)\n",
    "\n",
    "np.save(os.path.join(save_dir, 'train_id_2.npy'), train_id)\n",
    "np.save(os.path.join(save_dir, 'test_id_2.npy'), test_id) "
   ]
  },
  {
   "cell_type": "code",
   "execution_count": 145,
   "metadata": {},
   "outputs": [
    {
     "name": "stdout",
     "output_type": "stream",
     "text": [
      "(70997,) (7889,)\n"
     ]
    }
   ],
   "source": [
    "## split 3: uniform split\n",
    "total_id = np.arange(obs_info.shape[0])\n",
    "\n",
    "#tenx_id = total_id[obs_info.loc[:,'tissues'] != '10x_multi']\n",
    "train_id, test_id = train_test_split(total_id, test_size = 0.1, random_state = 42)\n",
    "print(train_id.shape, test_id.shape)\n",
    "\n",
    "np.save(os.path.join(save_dir, 'train_id_3.npy'), train_id)\n",
    "np.save(os.path.join(save_dir, 'test_id_3.npy'), test_id) "
   ]
  },
  {
   "cell_type": "code",
   "execution_count": 146,
   "metadata": {},
   "outputs": [
    {
     "name": "stdout",
     "output_type": "stream",
     "text": [
      "(67662,) (11224,)\n"
     ]
    }
   ],
   "source": [
    "## split 4: self train, 10x test\n",
    "total_id = np.arange(obs_info.shape[0])\n",
    "\n",
    "train_id = total_id[obs_info.loc[:,'tissues'] != '10x_multi']\n",
    "test_id = total_id[obs_info.loc[:,'tissues'] == '10x_multi']\n",
    "print(train_id.shape, test_id.shape)\n",
    "\n",
    "np.save(os.path.join(save_dir, 'train_id_4.npy'), train_id)\n",
    "np.save(os.path.join(save_dir, 'test_id_4.npy'), test_id) "
   ]
  }
 ],
 "metadata": {
  "kernelspec": {
   "display_name": "snapatac",
   "language": "python",
   "name": "python3"
  },
  "language_info": {
   "codemirror_mode": {
    "name": "ipython",
    "version": 3
   },
   "file_extension": ".py",
   "mimetype": "text/x-python",
   "name": "python",
   "nbconvert_exporter": "python",
   "pygments_lexer": "ipython3",
   "version": "3.10.15"
  }
 },
 "nbformat": 4,
 "nbformat_minor": 2
}
